{
 "cells": [
  {
   "cell_type": "code",
   "execution_count": 42,
   "metadata": {},
   "outputs": [],
   "source": [
    "import os\n"
   ]
  },
  {
   "cell_type": "code",
   "execution_count": 43,
   "metadata": {},
   "outputs": [],
   "source": [
    "os.chdir(\"C:/Users/User/Desktop/datasets\")"
   ]
  },
  {
   "cell_type": "code",
   "execution_count": 44,
   "metadata": {
    "scrolled": true
   },
   "outputs": [
    {
     "data": {
      "text/html": [
       "<div>\n",
       "<style scoped>\n",
       "    .dataframe tbody tr th:only-of-type {\n",
       "        vertical-align: middle;\n",
       "    }\n",
       "\n",
       "    .dataframe tbody tr th {\n",
       "        vertical-align: top;\n",
       "    }\n",
       "\n",
       "    .dataframe thead th {\n",
       "        text-align: right;\n",
       "    }\n",
       "</style>\n",
       "<table border=\"1\" class=\"dataframe\">\n",
       "  <thead>\n",
       "    <tr style=\"text-align: right;\">\n",
       "      <th></th>\n",
       "      <th>Year</th>\n",
       "      <th>Tax</th>\n",
       "      <th>Unemployement</th>\n",
       "      <th>Death</th>\n",
       "      <th>Consumption</th>\n",
       "    </tr>\n",
       "  </thead>\n",
       "  <tbody>\n",
       "    <tr>\n",
       "      <th>0</th>\n",
       "      <td>1968</td>\n",
       "      <td>4.56</td>\n",
       "      <td>2.01</td>\n",
       "      <td>800.0</td>\n",
       "      <td>1.20</td>\n",
       "    </tr>\n",
       "    <tr>\n",
       "      <th>1</th>\n",
       "      <td>1969</td>\n",
       "      <td>4.89</td>\n",
       "      <td>2.25</td>\n",
       "      <td>889.0</td>\n",
       "      <td>1.20</td>\n",
       "    </tr>\n",
       "    <tr>\n",
       "      <th>2</th>\n",
       "      <td>1970</td>\n",
       "      <td>4.62</td>\n",
       "      <td>2.45</td>\n",
       "      <td>910.0</td>\n",
       "      <td>1.31</td>\n",
       "    </tr>\n",
       "    <tr>\n",
       "      <th>3</th>\n",
       "      <td>1971</td>\n",
       "      <td>4.62</td>\n",
       "      <td>2.65</td>\n",
       "      <td>NaN</td>\n",
       "      <td>1.30</td>\n",
       "    </tr>\n",
       "    <tr>\n",
       "      <th>4</th>\n",
       "      <td>1972</td>\n",
       "      <td>NaN</td>\n",
       "      <td>2.78</td>\n",
       "      <td>900.0</td>\n",
       "      <td>1.60</td>\n",
       "    </tr>\n",
       "    <tr>\n",
       "      <th>5</th>\n",
       "      <td>1973</td>\n",
       "      <td>4.80</td>\n",
       "      <td>2.86</td>\n",
       "      <td>790.0</td>\n",
       "      <td>1.80</td>\n",
       "    </tr>\n",
       "    <tr>\n",
       "      <th>6</th>\n",
       "      <td>1974</td>\n",
       "      <td>4.82</td>\n",
       "      <td>2.98</td>\n",
       "      <td>855.0</td>\n",
       "      <td>1.90</td>\n",
       "    </tr>\n",
       "    <tr>\n",
       "      <th>7</th>\n",
       "      <td>1975</td>\n",
       "      <td>4.91</td>\n",
       "      <td>2.99</td>\n",
       "      <td>974.0</td>\n",
       "      <td>1.05</td>\n",
       "    </tr>\n",
       "    <tr>\n",
       "      <th>8</th>\n",
       "      <td>1976</td>\n",
       "      <td>5.01</td>\n",
       "      <td>3.03</td>\n",
       "      <td>1021.0</td>\n",
       "      <td>1.98</td>\n",
       "    </tr>\n",
       "    <tr>\n",
       "      <th>9</th>\n",
       "      <td>1977</td>\n",
       "      <td>NaN</td>\n",
       "      <td>3.05</td>\n",
       "      <td>1234.0</td>\n",
       "      <td>1.31</td>\n",
       "    </tr>\n",
       "    <tr>\n",
       "      <th>10</th>\n",
       "      <td>1978</td>\n",
       "      <td>NaN</td>\n",
       "      <td>3.13</td>\n",
       "      <td>1278.0</td>\n",
       "      <td>1.22</td>\n",
       "    </tr>\n",
       "    <tr>\n",
       "      <th>11</th>\n",
       "      <td>1979</td>\n",
       "      <td>5.50</td>\n",
       "      <td>3.24</td>\n",
       "      <td>NaN</td>\n",
       "      <td>1.10</td>\n",
       "    </tr>\n",
       "    <tr>\n",
       "      <th>12</th>\n",
       "      <td>1980</td>\n",
       "      <td>5.80</td>\n",
       "      <td>3.46</td>\n",
       "      <td>NaN</td>\n",
       "      <td>1.39</td>\n",
       "    </tr>\n",
       "    <tr>\n",
       "      <th>13</th>\n",
       "      <td>1981</td>\n",
       "      <td>5.93</td>\n",
       "      <td>3.59</td>\n",
       "      <td>1278.0</td>\n",
       "      <td>1.01</td>\n",
       "    </tr>\n",
       "    <tr>\n",
       "      <th>14</th>\n",
       "      <td>1982</td>\n",
       "      <td>6.25</td>\n",
       "      <td>3.68</td>\n",
       "      <td>1278.0</td>\n",
       "      <td>1.05</td>\n",
       "    </tr>\n",
       "    <tr>\n",
       "      <th>15</th>\n",
       "      <td>1983</td>\n",
       "      <td>6.50</td>\n",
       "      <td>3.75</td>\n",
       "      <td>1333.0</td>\n",
       "      <td>1.09</td>\n",
       "    </tr>\n",
       "    <tr>\n",
       "      <th>16</th>\n",
       "      <td>1984</td>\n",
       "      <td>6.50</td>\n",
       "      <td>3.85</td>\n",
       "      <td>1334.0</td>\n",
       "      <td>1.12</td>\n",
       "    </tr>\n",
       "    <tr>\n",
       "      <th>17</th>\n",
       "      <td>1985</td>\n",
       "      <td>6.82</td>\n",
       "      <td>3.88</td>\n",
       "      <td>1368.0</td>\n",
       "      <td>1.45</td>\n",
       "    </tr>\n",
       "    <tr>\n",
       "      <th>18</th>\n",
       "      <td>1986</td>\n",
       "      <td>6.96</td>\n",
       "      <td>3.95</td>\n",
       "      <td>1101.0</td>\n",
       "      <td>1.58</td>\n",
       "    </tr>\n",
       "    <tr>\n",
       "      <th>19</th>\n",
       "      <td>1987</td>\n",
       "      <td>7.01</td>\n",
       "      <td>4.10</td>\n",
       "      <td>1106.0</td>\n",
       "      <td>1.68</td>\n",
       "    </tr>\n",
       "    <tr>\n",
       "      <th>20</th>\n",
       "      <td>1988</td>\n",
       "      <td>7.98</td>\n",
       "      <td>NaN</td>\n",
       "      <td>1308.0</td>\n",
       "      <td>1.76</td>\n",
       "    </tr>\n",
       "    <tr>\n",
       "      <th>21</th>\n",
       "      <td>1989</td>\n",
       "      <td>8.01</td>\n",
       "      <td>4.23</td>\n",
       "      <td>999.0</td>\n",
       "      <td>1.84</td>\n",
       "    </tr>\n",
       "    <tr>\n",
       "      <th>22</th>\n",
       "      <td>1990</td>\n",
       "      <td>NaN</td>\n",
       "      <td>4.53</td>\n",
       "      <td>1000.0</td>\n",
       "      <td>1.98</td>\n",
       "    </tr>\n",
       "    <tr>\n",
       "      <th>23</th>\n",
       "      <td>1991</td>\n",
       "      <td>8.05</td>\n",
       "      <td>4.55</td>\n",
       "      <td>1105.0</td>\n",
       "      <td>2.10</td>\n",
       "    </tr>\n",
       "    <tr>\n",
       "      <th>24</th>\n",
       "      <td>1992</td>\n",
       "      <td>8.30</td>\n",
       "      <td>4.62</td>\n",
       "      <td>1199.0</td>\n",
       "      <td>2.22</td>\n",
       "    </tr>\n",
       "    <tr>\n",
       "      <th>25</th>\n",
       "      <td>1993</td>\n",
       "      <td>8.50</td>\n",
       "      <td>4.75</td>\n",
       "      <td>NaN</td>\n",
       "      <td>2.34</td>\n",
       "    </tr>\n",
       "    <tr>\n",
       "      <th>26</th>\n",
       "      <td>1994</td>\n",
       "      <td>8.80</td>\n",
       "      <td>4.84</td>\n",
       "      <td>1220.0</td>\n",
       "      <td>2.65</td>\n",
       "    </tr>\n",
       "    <tr>\n",
       "      <th>27</th>\n",
       "      <td>1995</td>\n",
       "      <td>8.93</td>\n",
       "      <td>4.96</td>\n",
       "      <td>1350.0</td>\n",
       "      <td>2.41</td>\n",
       "    </tr>\n",
       "    <tr>\n",
       "      <th>28</th>\n",
       "      <td>1996</td>\n",
       "      <td>9.12</td>\n",
       "      <td>4.99</td>\n",
       "      <td>1440.0</td>\n",
       "      <td>2.22</td>\n",
       "    </tr>\n",
       "    <tr>\n",
       "      <th>29</th>\n",
       "      <td>1997</td>\n",
       "      <td>9.34</td>\n",
       "      <td>5.05</td>\n",
       "      <td>1590.0</td>\n",
       "      <td>2.13</td>\n",
       "    </tr>\n",
       "    <tr>\n",
       "      <th>30</th>\n",
       "      <td>1998</td>\n",
       "      <td>10.10</td>\n",
       "      <td>5.17</td>\n",
       "      <td>1700.0</td>\n",
       "      <td>2.01</td>\n",
       "    </tr>\n",
       "    <tr>\n",
       "      <th>31</th>\n",
       "      <td>1999</td>\n",
       "      <td>10.60</td>\n",
       "      <td>5.28</td>\n",
       "      <td>2050.0</td>\n",
       "      <td>2.06</td>\n",
       "    </tr>\n",
       "    <tr>\n",
       "      <th>32</th>\n",
       "      <td>2000</td>\n",
       "      <td>10.80</td>\n",
       "      <td>5.38</td>\n",
       "      <td>2251.0</td>\n",
       "      <td>2.09</td>\n",
       "    </tr>\n",
       "    <tr>\n",
       "      <th>33</th>\n",
       "      <td>2001</td>\n",
       "      <td>11.01</td>\n",
       "      <td>5.42</td>\n",
       "      <td>2489.0</td>\n",
       "      <td>2.06</td>\n",
       "    </tr>\n",
       "    <tr>\n",
       "      <th>34</th>\n",
       "      <td>2002</td>\n",
       "      <td>11.43</td>\n",
       "      <td>5.47</td>\n",
       "      <td>3040.0</td>\n",
       "      <td>2.05</td>\n",
       "    </tr>\n",
       "    <tr>\n",
       "      <th>35</th>\n",
       "      <td>2003</td>\n",
       "      <td>11.43</td>\n",
       "      <td>5.55</td>\n",
       "      <td>3655.0</td>\n",
       "      <td>2.15</td>\n",
       "    </tr>\n",
       "    <tr>\n",
       "      <th>36</th>\n",
       "      <td>2004</td>\n",
       "      <td>NaN</td>\n",
       "      <td>5.62</td>\n",
       "      <td>3899.0</td>\n",
       "      <td>2.34</td>\n",
       "    </tr>\n",
       "    <tr>\n",
       "      <th>37</th>\n",
       "      <td>2005</td>\n",
       "      <td>11.00</td>\n",
       "      <td>5.75</td>\n",
       "      <td>400.0</td>\n",
       "      <td>2.40</td>\n",
       "    </tr>\n",
       "    <tr>\n",
       "      <th>38</th>\n",
       "      <td>2006</td>\n",
       "      <td>12.06</td>\n",
       "      <td>5.86</td>\n",
       "      <td>4220.0</td>\n",
       "      <td>2.60</td>\n",
       "    </tr>\n",
       "    <tr>\n",
       "      <th>39</th>\n",
       "      <td>2007</td>\n",
       "      <td>12.89</td>\n",
       "      <td>5.98</td>\n",
       "      <td>4308.0</td>\n",
       "      <td>2.80</td>\n",
       "    </tr>\n",
       "    <tr>\n",
       "      <th>40</th>\n",
       "      <td>2008</td>\n",
       "      <td>12.92</td>\n",
       "      <td>5.99</td>\n",
       "      <td>4483.0</td>\n",
       "      <td>3.20</td>\n",
       "    </tr>\n",
       "    <tr>\n",
       "      <th>41</th>\n",
       "      <td>2009</td>\n",
       "      <td>13.03</td>\n",
       "      <td>6.00</td>\n",
       "      <td>4486.0</td>\n",
       "      <td>3.90</td>\n",
       "    </tr>\n",
       "    <tr>\n",
       "      <th>42</th>\n",
       "      <td>2010</td>\n",
       "      <td>13.06</td>\n",
       "      <td>6.05</td>\n",
       "      <td>4547.0</td>\n",
       "      <td>4.30</td>\n",
       "    </tr>\n",
       "    <tr>\n",
       "      <th>43</th>\n",
       "      <td>2011</td>\n",
       "      <td>13.68</td>\n",
       "      <td>6.17</td>\n",
       "      <td>5478.0</td>\n",
       "      <td>4.50</td>\n",
       "    </tr>\n",
       "    <tr>\n",
       "      <th>44</th>\n",
       "      <td>2012</td>\n",
       "      <td>14.01</td>\n",
       "      <td>6.23</td>\n",
       "      <td>6789.0</td>\n",
       "      <td>4.60</td>\n",
       "    </tr>\n",
       "    <tr>\n",
       "      <th>45</th>\n",
       "      <td>2013</td>\n",
       "      <td>15.01</td>\n",
       "      <td>6.27</td>\n",
       "      <td>8978.0</td>\n",
       "      <td>4.80</td>\n",
       "    </tr>\n",
       "    <tr>\n",
       "      <th>46</th>\n",
       "      <td>2014</td>\n",
       "      <td>15.80</td>\n",
       "      <td>6.35</td>\n",
       "      <td>8875.0</td>\n",
       "      <td>5.20</td>\n",
       "    </tr>\n",
       "    <tr>\n",
       "      <th>47</th>\n",
       "      <td>2015</td>\n",
       "      <td>16.60</td>\n",
       "      <td>6.42</td>\n",
       "      <td>8952.0</td>\n",
       "      <td>5.40</td>\n",
       "    </tr>\n",
       "    <tr>\n",
       "      <th>48</th>\n",
       "      <td>2016</td>\n",
       "      <td>17.50</td>\n",
       "      <td>6.48</td>\n",
       "      <td>9000.0</td>\n",
       "      <td>5.70</td>\n",
       "    </tr>\n",
       "    <tr>\n",
       "      <th>49</th>\n",
       "      <td>2017</td>\n",
       "      <td>18.00</td>\n",
       "      <td>6.53</td>\n",
       "      <td>9006.0</td>\n",
       "      <td>5.80</td>\n",
       "    </tr>\n",
       "    <tr>\n",
       "      <th>50</th>\n",
       "      <td>2018</td>\n",
       "      <td>18.00</td>\n",
       "      <td>6.75</td>\n",
       "      <td>9105.0</td>\n",
       "      <td>5.90</td>\n",
       "    </tr>\n",
       "  </tbody>\n",
       "</table>\n",
       "</div>"
      ],
      "text/plain": [
       "    Year    Tax  Unemployement   Death  Consumption\n",
       "0   1968   4.56           2.01   800.0         1.20\n",
       "1   1969   4.89           2.25   889.0         1.20\n",
       "2   1970   4.62           2.45   910.0         1.31\n",
       "3   1971   4.62           2.65     NaN         1.30\n",
       "4   1972    NaN           2.78   900.0         1.60\n",
       "5   1973   4.80           2.86   790.0         1.80\n",
       "6   1974   4.82           2.98   855.0         1.90\n",
       "7   1975   4.91           2.99   974.0         1.05\n",
       "8   1976   5.01           3.03  1021.0         1.98\n",
       "9   1977    NaN           3.05  1234.0         1.31\n",
       "10  1978    NaN           3.13  1278.0         1.22\n",
       "11  1979   5.50           3.24     NaN         1.10\n",
       "12  1980   5.80           3.46     NaN         1.39\n",
       "13  1981   5.93           3.59  1278.0         1.01\n",
       "14  1982   6.25           3.68  1278.0         1.05\n",
       "15  1983   6.50           3.75  1333.0         1.09\n",
       "16  1984   6.50           3.85  1334.0         1.12\n",
       "17  1985   6.82           3.88  1368.0         1.45\n",
       "18  1986   6.96           3.95  1101.0         1.58\n",
       "19  1987   7.01           4.10  1106.0         1.68\n",
       "20  1988   7.98            NaN  1308.0         1.76\n",
       "21  1989   8.01           4.23   999.0         1.84\n",
       "22  1990    NaN           4.53  1000.0         1.98\n",
       "23  1991   8.05           4.55  1105.0         2.10\n",
       "24  1992   8.30           4.62  1199.0         2.22\n",
       "25  1993   8.50           4.75     NaN         2.34\n",
       "26  1994   8.80           4.84  1220.0         2.65\n",
       "27  1995   8.93           4.96  1350.0         2.41\n",
       "28  1996   9.12           4.99  1440.0         2.22\n",
       "29  1997   9.34           5.05  1590.0         2.13\n",
       "30  1998  10.10           5.17  1700.0         2.01\n",
       "31  1999  10.60           5.28  2050.0         2.06\n",
       "32  2000  10.80           5.38  2251.0         2.09\n",
       "33  2001  11.01           5.42  2489.0         2.06\n",
       "34  2002  11.43           5.47  3040.0         2.05\n",
       "35  2003  11.43           5.55  3655.0         2.15\n",
       "36  2004    NaN           5.62  3899.0         2.34\n",
       "37  2005  11.00           5.75   400.0         2.40\n",
       "38  2006  12.06           5.86  4220.0         2.60\n",
       "39  2007  12.89           5.98  4308.0         2.80\n",
       "40  2008  12.92           5.99  4483.0         3.20\n",
       "41  2009  13.03           6.00  4486.0         3.90\n",
       "42  2010  13.06           6.05  4547.0         4.30\n",
       "43  2011  13.68           6.17  5478.0         4.50\n",
       "44  2012  14.01           6.23  6789.0         4.60\n",
       "45  2013  15.01           6.27  8978.0         4.80\n",
       "46  2014  15.80           6.35  8875.0         5.20\n",
       "47  2015  16.60           6.42  8952.0         5.40\n",
       "48  2016  17.50           6.48  9000.0         5.70\n",
       "49  2017  18.00           6.53  9006.0         5.80\n",
       "50  2018  18.00           6.75  9105.0         5.90"
      ]
     },
     "execution_count": 44,
     "metadata": {},
     "output_type": "execute_result"
    }
   ],
   "source": [
    "import numpy as np\n",
    "import pandas as pd\n",
    "import matplotlib.pyplot as plt\n",
    "%matplotlib inline\n",
    "hack=pd.read_csv(\"Bookcsv.csv\")\n",
    "hack"
   ]
  },
  {
   "cell_type": "code",
   "execution_count": 45,
   "metadata": {},
   "outputs": [
    {
     "data": {
      "text/html": [
       "<div>\n",
       "<style scoped>\n",
       "    .dataframe tbody tr th:only-of-type {\n",
       "        vertical-align: middle;\n",
       "    }\n",
       "\n",
       "    .dataframe tbody tr th {\n",
       "        vertical-align: top;\n",
       "    }\n",
       "\n",
       "    .dataframe thead th {\n",
       "        text-align: right;\n",
       "    }\n",
       "</style>\n",
       "<table border=\"1\" class=\"dataframe\">\n",
       "  <thead>\n",
       "    <tr style=\"text-align: right;\">\n",
       "      <th></th>\n",
       "      <th>Year</th>\n",
       "      <th>Tax</th>\n",
       "      <th>Unemployement</th>\n",
       "      <th>Death</th>\n",
       "      <th>Consumption</th>\n",
       "    </tr>\n",
       "  </thead>\n",
       "  <tbody>\n",
       "    <tr>\n",
       "      <th>Year</th>\n",
       "      <td>1.000000</td>\n",
       "      <td>0.971614</td>\n",
       "      <td>0.996203</td>\n",
       "      <td>0.813517</td>\n",
       "      <td>0.848402</td>\n",
       "    </tr>\n",
       "    <tr>\n",
       "      <th>Tax</th>\n",
       "      <td>0.971614</td>\n",
       "      <td>1.000000</td>\n",
       "      <td>0.952066</td>\n",
       "      <td>0.911623</td>\n",
       "      <td>0.924027</td>\n",
       "    </tr>\n",
       "    <tr>\n",
       "      <th>Unemployement</th>\n",
       "      <td>0.996203</td>\n",
       "      <td>0.952066</td>\n",
       "      <td>1.000000</td>\n",
       "      <td>0.770262</td>\n",
       "      <td>0.814843</td>\n",
       "    </tr>\n",
       "    <tr>\n",
       "      <th>Death</th>\n",
       "      <td>0.813517</td>\n",
       "      <td>0.911623</td>\n",
       "      <td>0.770262</td>\n",
       "      <td>1.000000</td>\n",
       "      <td>0.937853</td>\n",
       "    </tr>\n",
       "    <tr>\n",
       "      <th>Consumption</th>\n",
       "      <td>0.848402</td>\n",
       "      <td>0.924027</td>\n",
       "      <td>0.814843</td>\n",
       "      <td>0.937853</td>\n",
       "      <td>1.000000</td>\n",
       "    </tr>\n",
       "  </tbody>\n",
       "</table>\n",
       "</div>"
      ],
      "text/plain": [
       "                   Year       Tax  Unemployement     Death  Consumption\n",
       "Year           1.000000  0.971614       0.996203  0.813517     0.848402\n",
       "Tax            0.971614  1.000000       0.952066  0.911623     0.924027\n",
       "Unemployement  0.996203  0.952066       1.000000  0.770262     0.814843\n",
       "Death          0.813517  0.911623       0.770262  1.000000     0.937853\n",
       "Consumption    0.848402  0.924027       0.814843  0.937853     1.000000"
      ]
     },
     "execution_count": 45,
     "metadata": {},
     "output_type": "execute_result"
    }
   ],
   "source": [
    "hack.corr()"
   ]
  },
  {
   "cell_type": "code",
   "execution_count": 46,
   "metadata": {},
   "outputs": [],
   "source": [
    "# from the correlation table you get to know that consumption of alcohol and death have high correlation, unemployment also has a high affect on alcohol consumption thus causing deaths,even if the tax is increasing year by year the consumption isnt decreasing with years."
   ]
  },
  {
   "cell_type": "code",
   "execution_count": 47,
   "metadata": {},
   "outputs": [
    {
     "data": {
      "text/html": [
       "<div>\n",
       "<style scoped>\n",
       "    .dataframe tbody tr th:only-of-type {\n",
       "        vertical-align: middle;\n",
       "    }\n",
       "\n",
       "    .dataframe tbody tr th {\n",
       "        vertical-align: top;\n",
       "    }\n",
       "\n",
       "    .dataframe thead th {\n",
       "        text-align: right;\n",
       "    }\n",
       "</style>\n",
       "<table border=\"1\" class=\"dataframe\">\n",
       "  <thead>\n",
       "    <tr style=\"text-align: right;\">\n",
       "      <th></th>\n",
       "      <th>Year</th>\n",
       "      <th>Tax</th>\n",
       "      <th>Unemployement</th>\n",
       "      <th>Death</th>\n",
       "      <th>Consumption</th>\n",
       "    </tr>\n",
       "  </thead>\n",
       "  <tbody>\n",
       "    <tr>\n",
       "      <th>count</th>\n",
       "      <td>51.000000</td>\n",
       "      <td>46.000000</td>\n",
       "      <td>50.000000</td>\n",
       "      <td>47.000000</td>\n",
       "      <td>51.000000</td>\n",
       "    </tr>\n",
       "    <tr>\n",
       "      <th>mean</th>\n",
       "      <td>1993.000000</td>\n",
       "      <td>9.596957</td>\n",
       "      <td>4.618400</td>\n",
       "      <td>2922.787234</td>\n",
       "      <td>2.448039</td>\n",
       "    </tr>\n",
       "    <tr>\n",
       "      <th>std</th>\n",
       "      <td>14.866069</td>\n",
       "      <td>3.988459</td>\n",
       "      <td>1.348987</td>\n",
       "      <td>2749.198887</td>\n",
       "      <td>1.400099</td>\n",
       "    </tr>\n",
       "    <tr>\n",
       "      <th>min</th>\n",
       "      <td>1968.000000</td>\n",
       "      <td>4.560000</td>\n",
       "      <td>2.010000</td>\n",
       "      <td>400.000000</td>\n",
       "      <td>1.010000</td>\n",
       "    </tr>\n",
       "    <tr>\n",
       "      <th>25%</th>\n",
       "      <td>1980.500000</td>\n",
       "      <td>6.312500</td>\n",
       "      <td>3.492500</td>\n",
       "      <td>1103.000000</td>\n",
       "      <td>1.420000</td>\n",
       "    </tr>\n",
       "    <tr>\n",
       "      <th>50%</th>\n",
       "      <td>1993.000000</td>\n",
       "      <td>8.865000</td>\n",
       "      <td>4.795000</td>\n",
       "      <td>1350.000000</td>\n",
       "      <td>2.060000</td>\n",
       "    </tr>\n",
       "    <tr>\n",
       "      <th>75%</th>\n",
       "      <td>2005.500000</td>\n",
       "      <td>12.682500</td>\n",
       "      <td>5.832500</td>\n",
       "      <td>4264.000000</td>\n",
       "      <td>2.625000</td>\n",
       "    </tr>\n",
       "    <tr>\n",
       "      <th>max</th>\n",
       "      <td>2018.000000</td>\n",
       "      <td>18.000000</td>\n",
       "      <td>6.750000</td>\n",
       "      <td>9105.000000</td>\n",
       "      <td>5.900000</td>\n",
       "    </tr>\n",
       "  </tbody>\n",
       "</table>\n",
       "</div>"
      ],
      "text/plain": [
       "              Year        Tax  Unemployement        Death  Consumption\n",
       "count    51.000000  46.000000      50.000000    47.000000    51.000000\n",
       "mean   1993.000000   9.596957       4.618400  2922.787234     2.448039\n",
       "std      14.866069   3.988459       1.348987  2749.198887     1.400099\n",
       "min    1968.000000   4.560000       2.010000   400.000000     1.010000\n",
       "25%    1980.500000   6.312500       3.492500  1103.000000     1.420000\n",
       "50%    1993.000000   8.865000       4.795000  1350.000000     2.060000\n",
       "75%    2005.500000  12.682500       5.832500  4264.000000     2.625000\n",
       "max    2018.000000  18.000000       6.750000  9105.000000     5.900000"
      ]
     },
     "execution_count": 47,
     "metadata": {},
     "output_type": "execute_result"
    }
   ],
   "source": [
    "hack.describe()"
   ]
  },
  {
   "cell_type": "code",
   "execution_count": 48,
   "metadata": {},
   "outputs": [],
   "source": [
    "# here u see that the consumption from 50% to 75% range hasnt changed that highly which indicates that people are getting educated and employement is increasing year by year thus the consumption is gradually not that much increasing from the years93 to 2005 but if you see the years from 2005 to 2018 the consumption has highly increased as alcohol vendors and factories have increased."
   ]
  },
  {
   "cell_type": "code",
   "execution_count": 49,
   "metadata": {},
   "outputs": [
    {
     "data": {
      "text/plain": [
       "Year             0\n",
       "Tax              5\n",
       "Unemployement    1\n",
       "Death            4\n",
       "Consumption      0\n",
       "dtype: int64"
      ]
     },
     "execution_count": 49,
     "metadata": {},
     "output_type": "execute_result"
    }
   ],
   "source": [
    "hack.apply(lambda x: sum(x.isnull()),axis=0)"
   ]
  },
  {
   "cell_type": "code",
   "execution_count": 50,
   "metadata": {},
   "outputs": [],
   "source": [
    "features=hack.iloc[:,:].values"
   ]
  },
  {
   "cell_type": "code",
   "execution_count": 51,
   "metadata": {},
   "outputs": [],
   "source": [
    "# removing null values and replacing it with the mean"
   ]
  },
  {
   "cell_type": "code",
   "execution_count": 52,
   "metadata": {},
   "outputs": [
    {
     "name": "stderr",
     "output_type": "stream",
     "text": [
      "C:\\Users\\User\\Anaconda3\\lib\\site-packages\\sklearn\\utils\\deprecation.py:58: DeprecationWarning: Class Imputer is deprecated; Imputer was deprecated in version 0.20 and will be removed in 0.22. Import impute.SimpleImputer from sklearn instead.\n",
      "  warnings.warn(msg, category=DeprecationWarning)\n"
     ]
    }
   ],
   "source": [
    "from sklearn.preprocessing import Imputer\n",
    "imputer=Imputer(missing_values='NaN',strategy='mean',axis=0)"
   ]
  },
  {
   "cell_type": "code",
   "execution_count": 53,
   "metadata": {},
   "outputs": [],
   "source": [
    "imputer.fit(features[:,:])\n",
    "features[:,:]=imputer.fit_transform(features[:,:])"
   ]
  },
  {
   "cell_type": "code",
   "execution_count": 54,
   "metadata": {},
   "outputs": [],
   "source": [
    "df=pd.DataFrame(features,columns=hack.columns)"
   ]
  },
  {
   "cell_type": "code",
   "execution_count": 55,
   "metadata": {},
   "outputs": [
    {
     "data": {
      "text/html": [
       "<div>\n",
       "<style scoped>\n",
       "    .dataframe tbody tr th:only-of-type {\n",
       "        vertical-align: middle;\n",
       "    }\n",
       "\n",
       "    .dataframe tbody tr th {\n",
       "        vertical-align: top;\n",
       "    }\n",
       "\n",
       "    .dataframe thead th {\n",
       "        text-align: right;\n",
       "    }\n",
       "</style>\n",
       "<table border=\"1\" class=\"dataframe\">\n",
       "  <thead>\n",
       "    <tr style=\"text-align: right;\">\n",
       "      <th></th>\n",
       "      <th>Year</th>\n",
       "      <th>Tax</th>\n",
       "      <th>Unemployement</th>\n",
       "      <th>Death</th>\n",
       "      <th>Consumption</th>\n",
       "    </tr>\n",
       "  </thead>\n",
       "  <tbody>\n",
       "    <tr>\n",
       "      <th>0</th>\n",
       "      <td>1968.0</td>\n",
       "      <td>4.560000</td>\n",
       "      <td>2.0100</td>\n",
       "      <td>800.000000</td>\n",
       "      <td>1.20</td>\n",
       "    </tr>\n",
       "    <tr>\n",
       "      <th>1</th>\n",
       "      <td>1969.0</td>\n",
       "      <td>4.890000</td>\n",
       "      <td>2.2500</td>\n",
       "      <td>889.000000</td>\n",
       "      <td>1.20</td>\n",
       "    </tr>\n",
       "    <tr>\n",
       "      <th>2</th>\n",
       "      <td>1970.0</td>\n",
       "      <td>4.620000</td>\n",
       "      <td>2.4500</td>\n",
       "      <td>910.000000</td>\n",
       "      <td>1.31</td>\n",
       "    </tr>\n",
       "    <tr>\n",
       "      <th>3</th>\n",
       "      <td>1971.0</td>\n",
       "      <td>4.620000</td>\n",
       "      <td>2.6500</td>\n",
       "      <td>2922.787234</td>\n",
       "      <td>1.30</td>\n",
       "    </tr>\n",
       "    <tr>\n",
       "      <th>4</th>\n",
       "      <td>1972.0</td>\n",
       "      <td>9.596957</td>\n",
       "      <td>2.7800</td>\n",
       "      <td>900.000000</td>\n",
       "      <td>1.60</td>\n",
       "    </tr>\n",
       "    <tr>\n",
       "      <th>5</th>\n",
       "      <td>1973.0</td>\n",
       "      <td>4.800000</td>\n",
       "      <td>2.8600</td>\n",
       "      <td>790.000000</td>\n",
       "      <td>1.80</td>\n",
       "    </tr>\n",
       "    <tr>\n",
       "      <th>6</th>\n",
       "      <td>1974.0</td>\n",
       "      <td>4.820000</td>\n",
       "      <td>2.9800</td>\n",
       "      <td>855.000000</td>\n",
       "      <td>1.90</td>\n",
       "    </tr>\n",
       "    <tr>\n",
       "      <th>7</th>\n",
       "      <td>1975.0</td>\n",
       "      <td>4.910000</td>\n",
       "      <td>2.9900</td>\n",
       "      <td>974.000000</td>\n",
       "      <td>1.05</td>\n",
       "    </tr>\n",
       "    <tr>\n",
       "      <th>8</th>\n",
       "      <td>1976.0</td>\n",
       "      <td>5.010000</td>\n",
       "      <td>3.0300</td>\n",
       "      <td>1021.000000</td>\n",
       "      <td>1.98</td>\n",
       "    </tr>\n",
       "    <tr>\n",
       "      <th>9</th>\n",
       "      <td>1977.0</td>\n",
       "      <td>9.596957</td>\n",
       "      <td>3.0500</td>\n",
       "      <td>1234.000000</td>\n",
       "      <td>1.31</td>\n",
       "    </tr>\n",
       "    <tr>\n",
       "      <th>10</th>\n",
       "      <td>1978.0</td>\n",
       "      <td>9.596957</td>\n",
       "      <td>3.1300</td>\n",
       "      <td>1278.000000</td>\n",
       "      <td>1.22</td>\n",
       "    </tr>\n",
       "    <tr>\n",
       "      <th>11</th>\n",
       "      <td>1979.0</td>\n",
       "      <td>5.500000</td>\n",
       "      <td>3.2400</td>\n",
       "      <td>2922.787234</td>\n",
       "      <td>1.10</td>\n",
       "    </tr>\n",
       "    <tr>\n",
       "      <th>12</th>\n",
       "      <td>1980.0</td>\n",
       "      <td>5.800000</td>\n",
       "      <td>3.4600</td>\n",
       "      <td>2922.787234</td>\n",
       "      <td>1.39</td>\n",
       "    </tr>\n",
       "    <tr>\n",
       "      <th>13</th>\n",
       "      <td>1981.0</td>\n",
       "      <td>5.930000</td>\n",
       "      <td>3.5900</td>\n",
       "      <td>1278.000000</td>\n",
       "      <td>1.01</td>\n",
       "    </tr>\n",
       "    <tr>\n",
       "      <th>14</th>\n",
       "      <td>1982.0</td>\n",
       "      <td>6.250000</td>\n",
       "      <td>3.6800</td>\n",
       "      <td>1278.000000</td>\n",
       "      <td>1.05</td>\n",
       "    </tr>\n",
       "    <tr>\n",
       "      <th>15</th>\n",
       "      <td>1983.0</td>\n",
       "      <td>6.500000</td>\n",
       "      <td>3.7500</td>\n",
       "      <td>1333.000000</td>\n",
       "      <td>1.09</td>\n",
       "    </tr>\n",
       "    <tr>\n",
       "      <th>16</th>\n",
       "      <td>1984.0</td>\n",
       "      <td>6.500000</td>\n",
       "      <td>3.8500</td>\n",
       "      <td>1334.000000</td>\n",
       "      <td>1.12</td>\n",
       "    </tr>\n",
       "    <tr>\n",
       "      <th>17</th>\n",
       "      <td>1985.0</td>\n",
       "      <td>6.820000</td>\n",
       "      <td>3.8800</td>\n",
       "      <td>1368.000000</td>\n",
       "      <td>1.45</td>\n",
       "    </tr>\n",
       "    <tr>\n",
       "      <th>18</th>\n",
       "      <td>1986.0</td>\n",
       "      <td>6.960000</td>\n",
       "      <td>3.9500</td>\n",
       "      <td>1101.000000</td>\n",
       "      <td>1.58</td>\n",
       "    </tr>\n",
       "    <tr>\n",
       "      <th>19</th>\n",
       "      <td>1987.0</td>\n",
       "      <td>7.010000</td>\n",
       "      <td>4.1000</td>\n",
       "      <td>1106.000000</td>\n",
       "      <td>1.68</td>\n",
       "    </tr>\n",
       "    <tr>\n",
       "      <th>20</th>\n",
       "      <td>1988.0</td>\n",
       "      <td>7.980000</td>\n",
       "      <td>4.6184</td>\n",
       "      <td>1308.000000</td>\n",
       "      <td>1.76</td>\n",
       "    </tr>\n",
       "    <tr>\n",
       "      <th>21</th>\n",
       "      <td>1989.0</td>\n",
       "      <td>8.010000</td>\n",
       "      <td>4.2300</td>\n",
       "      <td>999.000000</td>\n",
       "      <td>1.84</td>\n",
       "    </tr>\n",
       "    <tr>\n",
       "      <th>22</th>\n",
       "      <td>1990.0</td>\n",
       "      <td>9.596957</td>\n",
       "      <td>4.5300</td>\n",
       "      <td>1000.000000</td>\n",
       "      <td>1.98</td>\n",
       "    </tr>\n",
       "    <tr>\n",
       "      <th>23</th>\n",
       "      <td>1991.0</td>\n",
       "      <td>8.050000</td>\n",
       "      <td>4.5500</td>\n",
       "      <td>1105.000000</td>\n",
       "      <td>2.10</td>\n",
       "    </tr>\n",
       "    <tr>\n",
       "      <th>24</th>\n",
       "      <td>1992.0</td>\n",
       "      <td>8.300000</td>\n",
       "      <td>4.6200</td>\n",
       "      <td>1199.000000</td>\n",
       "      <td>2.22</td>\n",
       "    </tr>\n",
       "    <tr>\n",
       "      <th>25</th>\n",
       "      <td>1993.0</td>\n",
       "      <td>8.500000</td>\n",
       "      <td>4.7500</td>\n",
       "      <td>2922.787234</td>\n",
       "      <td>2.34</td>\n",
       "    </tr>\n",
       "    <tr>\n",
       "      <th>26</th>\n",
       "      <td>1994.0</td>\n",
       "      <td>8.800000</td>\n",
       "      <td>4.8400</td>\n",
       "      <td>1220.000000</td>\n",
       "      <td>2.65</td>\n",
       "    </tr>\n",
       "    <tr>\n",
       "      <th>27</th>\n",
       "      <td>1995.0</td>\n",
       "      <td>8.930000</td>\n",
       "      <td>4.9600</td>\n",
       "      <td>1350.000000</td>\n",
       "      <td>2.41</td>\n",
       "    </tr>\n",
       "    <tr>\n",
       "      <th>28</th>\n",
       "      <td>1996.0</td>\n",
       "      <td>9.120000</td>\n",
       "      <td>4.9900</td>\n",
       "      <td>1440.000000</td>\n",
       "      <td>2.22</td>\n",
       "    </tr>\n",
       "    <tr>\n",
       "      <th>29</th>\n",
       "      <td>1997.0</td>\n",
       "      <td>9.340000</td>\n",
       "      <td>5.0500</td>\n",
       "      <td>1590.000000</td>\n",
       "      <td>2.13</td>\n",
       "    </tr>\n",
       "    <tr>\n",
       "      <th>30</th>\n",
       "      <td>1998.0</td>\n",
       "      <td>10.100000</td>\n",
       "      <td>5.1700</td>\n",
       "      <td>1700.000000</td>\n",
       "      <td>2.01</td>\n",
       "    </tr>\n",
       "    <tr>\n",
       "      <th>31</th>\n",
       "      <td>1999.0</td>\n",
       "      <td>10.600000</td>\n",
       "      <td>5.2800</td>\n",
       "      <td>2050.000000</td>\n",
       "      <td>2.06</td>\n",
       "    </tr>\n",
       "    <tr>\n",
       "      <th>32</th>\n",
       "      <td>2000.0</td>\n",
       "      <td>10.800000</td>\n",
       "      <td>5.3800</td>\n",
       "      <td>2251.000000</td>\n",
       "      <td>2.09</td>\n",
       "    </tr>\n",
       "    <tr>\n",
       "      <th>33</th>\n",
       "      <td>2001.0</td>\n",
       "      <td>11.010000</td>\n",
       "      <td>5.4200</td>\n",
       "      <td>2489.000000</td>\n",
       "      <td>2.06</td>\n",
       "    </tr>\n",
       "    <tr>\n",
       "      <th>34</th>\n",
       "      <td>2002.0</td>\n",
       "      <td>11.430000</td>\n",
       "      <td>5.4700</td>\n",
       "      <td>3040.000000</td>\n",
       "      <td>2.05</td>\n",
       "    </tr>\n",
       "    <tr>\n",
       "      <th>35</th>\n",
       "      <td>2003.0</td>\n",
       "      <td>11.430000</td>\n",
       "      <td>5.5500</td>\n",
       "      <td>3655.000000</td>\n",
       "      <td>2.15</td>\n",
       "    </tr>\n",
       "    <tr>\n",
       "      <th>36</th>\n",
       "      <td>2004.0</td>\n",
       "      <td>9.596957</td>\n",
       "      <td>5.6200</td>\n",
       "      <td>3899.000000</td>\n",
       "      <td>2.34</td>\n",
       "    </tr>\n",
       "    <tr>\n",
       "      <th>37</th>\n",
       "      <td>2005.0</td>\n",
       "      <td>11.000000</td>\n",
       "      <td>5.7500</td>\n",
       "      <td>400.000000</td>\n",
       "      <td>2.40</td>\n",
       "    </tr>\n",
       "    <tr>\n",
       "      <th>38</th>\n",
       "      <td>2006.0</td>\n",
       "      <td>12.060000</td>\n",
       "      <td>5.8600</td>\n",
       "      <td>4220.000000</td>\n",
       "      <td>2.60</td>\n",
       "    </tr>\n",
       "    <tr>\n",
       "      <th>39</th>\n",
       "      <td>2007.0</td>\n",
       "      <td>12.890000</td>\n",
       "      <td>5.9800</td>\n",
       "      <td>4308.000000</td>\n",
       "      <td>2.80</td>\n",
       "    </tr>\n",
       "    <tr>\n",
       "      <th>40</th>\n",
       "      <td>2008.0</td>\n",
       "      <td>12.920000</td>\n",
       "      <td>5.9900</td>\n",
       "      <td>4483.000000</td>\n",
       "      <td>3.20</td>\n",
       "    </tr>\n",
       "    <tr>\n",
       "      <th>41</th>\n",
       "      <td>2009.0</td>\n",
       "      <td>13.030000</td>\n",
       "      <td>6.0000</td>\n",
       "      <td>4486.000000</td>\n",
       "      <td>3.90</td>\n",
       "    </tr>\n",
       "    <tr>\n",
       "      <th>42</th>\n",
       "      <td>2010.0</td>\n",
       "      <td>13.060000</td>\n",
       "      <td>6.0500</td>\n",
       "      <td>4547.000000</td>\n",
       "      <td>4.30</td>\n",
       "    </tr>\n",
       "    <tr>\n",
       "      <th>43</th>\n",
       "      <td>2011.0</td>\n",
       "      <td>13.680000</td>\n",
       "      <td>6.1700</td>\n",
       "      <td>5478.000000</td>\n",
       "      <td>4.50</td>\n",
       "    </tr>\n",
       "    <tr>\n",
       "      <th>44</th>\n",
       "      <td>2012.0</td>\n",
       "      <td>14.010000</td>\n",
       "      <td>6.2300</td>\n",
       "      <td>6789.000000</td>\n",
       "      <td>4.60</td>\n",
       "    </tr>\n",
       "    <tr>\n",
       "      <th>45</th>\n",
       "      <td>2013.0</td>\n",
       "      <td>15.010000</td>\n",
       "      <td>6.2700</td>\n",
       "      <td>8978.000000</td>\n",
       "      <td>4.80</td>\n",
       "    </tr>\n",
       "    <tr>\n",
       "      <th>46</th>\n",
       "      <td>2014.0</td>\n",
       "      <td>15.800000</td>\n",
       "      <td>6.3500</td>\n",
       "      <td>8875.000000</td>\n",
       "      <td>5.20</td>\n",
       "    </tr>\n",
       "    <tr>\n",
       "      <th>47</th>\n",
       "      <td>2015.0</td>\n",
       "      <td>16.600000</td>\n",
       "      <td>6.4200</td>\n",
       "      <td>8952.000000</td>\n",
       "      <td>5.40</td>\n",
       "    </tr>\n",
       "    <tr>\n",
       "      <th>48</th>\n",
       "      <td>2016.0</td>\n",
       "      <td>17.500000</td>\n",
       "      <td>6.4800</td>\n",
       "      <td>9000.000000</td>\n",
       "      <td>5.70</td>\n",
       "    </tr>\n",
       "    <tr>\n",
       "      <th>49</th>\n",
       "      <td>2017.0</td>\n",
       "      <td>18.000000</td>\n",
       "      <td>6.5300</td>\n",
       "      <td>9006.000000</td>\n",
       "      <td>5.80</td>\n",
       "    </tr>\n",
       "    <tr>\n",
       "      <th>50</th>\n",
       "      <td>2018.0</td>\n",
       "      <td>18.000000</td>\n",
       "      <td>6.7500</td>\n",
       "      <td>9105.000000</td>\n",
       "      <td>5.90</td>\n",
       "    </tr>\n",
       "  </tbody>\n",
       "</table>\n",
       "</div>"
      ],
      "text/plain": [
       "      Year        Tax  Unemployement        Death  Consumption\n",
       "0   1968.0   4.560000         2.0100   800.000000         1.20\n",
       "1   1969.0   4.890000         2.2500   889.000000         1.20\n",
       "2   1970.0   4.620000         2.4500   910.000000         1.31\n",
       "3   1971.0   4.620000         2.6500  2922.787234         1.30\n",
       "4   1972.0   9.596957         2.7800   900.000000         1.60\n",
       "5   1973.0   4.800000         2.8600   790.000000         1.80\n",
       "6   1974.0   4.820000         2.9800   855.000000         1.90\n",
       "7   1975.0   4.910000         2.9900   974.000000         1.05\n",
       "8   1976.0   5.010000         3.0300  1021.000000         1.98\n",
       "9   1977.0   9.596957         3.0500  1234.000000         1.31\n",
       "10  1978.0   9.596957         3.1300  1278.000000         1.22\n",
       "11  1979.0   5.500000         3.2400  2922.787234         1.10\n",
       "12  1980.0   5.800000         3.4600  2922.787234         1.39\n",
       "13  1981.0   5.930000         3.5900  1278.000000         1.01\n",
       "14  1982.0   6.250000         3.6800  1278.000000         1.05\n",
       "15  1983.0   6.500000         3.7500  1333.000000         1.09\n",
       "16  1984.0   6.500000         3.8500  1334.000000         1.12\n",
       "17  1985.0   6.820000         3.8800  1368.000000         1.45\n",
       "18  1986.0   6.960000         3.9500  1101.000000         1.58\n",
       "19  1987.0   7.010000         4.1000  1106.000000         1.68\n",
       "20  1988.0   7.980000         4.6184  1308.000000         1.76\n",
       "21  1989.0   8.010000         4.2300   999.000000         1.84\n",
       "22  1990.0   9.596957         4.5300  1000.000000         1.98\n",
       "23  1991.0   8.050000         4.5500  1105.000000         2.10\n",
       "24  1992.0   8.300000         4.6200  1199.000000         2.22\n",
       "25  1993.0   8.500000         4.7500  2922.787234         2.34\n",
       "26  1994.0   8.800000         4.8400  1220.000000         2.65\n",
       "27  1995.0   8.930000         4.9600  1350.000000         2.41\n",
       "28  1996.0   9.120000         4.9900  1440.000000         2.22\n",
       "29  1997.0   9.340000         5.0500  1590.000000         2.13\n",
       "30  1998.0  10.100000         5.1700  1700.000000         2.01\n",
       "31  1999.0  10.600000         5.2800  2050.000000         2.06\n",
       "32  2000.0  10.800000         5.3800  2251.000000         2.09\n",
       "33  2001.0  11.010000         5.4200  2489.000000         2.06\n",
       "34  2002.0  11.430000         5.4700  3040.000000         2.05\n",
       "35  2003.0  11.430000         5.5500  3655.000000         2.15\n",
       "36  2004.0   9.596957         5.6200  3899.000000         2.34\n",
       "37  2005.0  11.000000         5.7500   400.000000         2.40\n",
       "38  2006.0  12.060000         5.8600  4220.000000         2.60\n",
       "39  2007.0  12.890000         5.9800  4308.000000         2.80\n",
       "40  2008.0  12.920000         5.9900  4483.000000         3.20\n",
       "41  2009.0  13.030000         6.0000  4486.000000         3.90\n",
       "42  2010.0  13.060000         6.0500  4547.000000         4.30\n",
       "43  2011.0  13.680000         6.1700  5478.000000         4.50\n",
       "44  2012.0  14.010000         6.2300  6789.000000         4.60\n",
       "45  2013.0  15.010000         6.2700  8978.000000         4.80\n",
       "46  2014.0  15.800000         6.3500  8875.000000         5.20\n",
       "47  2015.0  16.600000         6.4200  8952.000000         5.40\n",
       "48  2016.0  17.500000         6.4800  9000.000000         5.70\n",
       "49  2017.0  18.000000         6.5300  9006.000000         5.80\n",
       "50  2018.0  18.000000         6.7500  9105.000000         5.90"
      ]
     },
     "execution_count": 55,
     "metadata": {},
     "output_type": "execute_result"
    }
   ],
   "source": [
    "df"
   ]
  },
  {
   "cell_type": "code",
   "execution_count": 21,
   "metadata": {},
   "outputs": [],
   "source": [
    "import seaborn as sns\n",
    "corr=df.corr()"
   ]
  },
  {
   "cell_type": "code",
   "execution_count": 22,
   "metadata": {},
   "outputs": [
    {
     "data": {
      "text/plain": [
       "<matplotlib.axes._subplots.AxesSubplot at 0x8b66f30>"
      ]
     },
     "execution_count": 22,
     "metadata": {},
     "output_type": "execute_result"
    },
    {
     "data": {
      "image/png": "[encoded data removed]",
      "text/plain": [
       "<Figure size 432x288 with 2 Axes>"
      ]
     },
     "metadata": {
      "needs_background": "light"
     },
     "output_type": "display_data"
    }
   ],
   "source": [
    "sns.heatmap(corr,xticklabels=corr.columns,yticklabels=corr.columns)"
   ]
  },
  {
   "cell_type": "code",
   "execution_count": 23,
   "metadata": {},
   "outputs": [],
   "source": [
    "# correlation heat map light colours indicate positive corr(directly proportional) and dark indicate negative corr(inversely proportional)"
   ]
  },
  {
   "cell_type": "code",
   "execution_count": 24,
   "metadata": {},
   "outputs": [
    {
     "data": {
      "text/html": [
       "<div>\n",
       "<style scoped>\n",
       "    .dataframe tbody tr th:only-of-type {\n",
       "        vertical-align: middle;\n",
       "    }\n",
       "\n",
       "    .dataframe tbody tr th {\n",
       "        vertical-align: top;\n",
       "    }\n",
       "\n",
       "    .dataframe thead th {\n",
       "        text-align: right;\n",
       "    }\n",
       "</style>\n",
       "<table border=\"1\" class=\"dataframe\">\n",
       "  <thead>\n",
       "    <tr style=\"text-align: right;\">\n",
       "      <th></th>\n",
       "      <th>Consumption</th>\n",
       "      <th>Death</th>\n",
       "      <th>Unemployement</th>\n",
       "      <th>Year</th>\n",
       "    </tr>\n",
       "    <tr>\n",
       "      <th>Tax</th>\n",
       "      <th></th>\n",
       "      <th></th>\n",
       "      <th></th>\n",
       "      <th></th>\n",
       "    </tr>\n",
       "  </thead>\n",
       "  <tbody>\n",
       "    <tr>\n",
       "      <th>4.560000</th>\n",
       "      <td>1.200</td>\n",
       "      <td>800.000000</td>\n",
       "      <td>2.0100</td>\n",
       "      <td>1968.0</td>\n",
       "    </tr>\n",
       "    <tr>\n",
       "      <th>4.620000</th>\n",
       "      <td>1.305</td>\n",
       "      <td>1916.393617</td>\n",
       "      <td>2.5500</td>\n",
       "      <td>1970.5</td>\n",
       "    </tr>\n",
       "    <tr>\n",
       "      <th>4.800000</th>\n",
       "      <td>1.800</td>\n",
       "      <td>790.000000</td>\n",
       "      <td>2.8600</td>\n",
       "      <td>1973.0</td>\n",
       "    </tr>\n",
       "    <tr>\n",
       "      <th>4.820000</th>\n",
       "      <td>1.900</td>\n",
       "      <td>855.000000</td>\n",
       "      <td>2.9800</td>\n",
       "      <td>1974.0</td>\n",
       "    </tr>\n",
       "    <tr>\n",
       "      <th>4.890000</th>\n",
       "      <td>1.200</td>\n",
       "      <td>889.000000</td>\n",
       "      <td>2.2500</td>\n",
       "      <td>1969.0</td>\n",
       "    </tr>\n",
       "    <tr>\n",
       "      <th>4.910000</th>\n",
       "      <td>1.050</td>\n",
       "      <td>974.000000</td>\n",
       "      <td>2.9900</td>\n",
       "      <td>1975.0</td>\n",
       "    </tr>\n",
       "    <tr>\n",
       "      <th>5.010000</th>\n",
       "      <td>1.980</td>\n",
       "      <td>1021.000000</td>\n",
       "      <td>3.0300</td>\n",
       "      <td>1976.0</td>\n",
       "    </tr>\n",
       "    <tr>\n",
       "      <th>5.500000</th>\n",
       "      <td>1.100</td>\n",
       "      <td>2922.787234</td>\n",
       "      <td>3.2400</td>\n",
       "      <td>1979.0</td>\n",
       "    </tr>\n",
       "    <tr>\n",
       "      <th>5.800000</th>\n",
       "      <td>1.390</td>\n",
       "      <td>2922.787234</td>\n",
       "      <td>3.4600</td>\n",
       "      <td>1980.0</td>\n",
       "    </tr>\n",
       "    <tr>\n",
       "      <th>5.930000</th>\n",
       "      <td>1.010</td>\n",
       "      <td>1278.000000</td>\n",
       "      <td>3.5900</td>\n",
       "      <td>1981.0</td>\n",
       "    </tr>\n",
       "    <tr>\n",
       "      <th>6.250000</th>\n",
       "      <td>1.050</td>\n",
       "      <td>1278.000000</td>\n",
       "      <td>3.6800</td>\n",
       "      <td>1982.0</td>\n",
       "    </tr>\n",
       "    <tr>\n",
       "      <th>6.500000</th>\n",
       "      <td>1.105</td>\n",
       "      <td>1333.500000</td>\n",
       "      <td>3.8000</td>\n",
       "      <td>1983.5</td>\n",
       "    </tr>\n",
       "    <tr>\n",
       "      <th>6.820000</th>\n",
       "      <td>1.450</td>\n",
       "      <td>1368.000000</td>\n",
       "      <td>3.8800</td>\n",
       "      <td>1985.0</td>\n",
       "    </tr>\n",
       "    <tr>\n",
       "      <th>6.960000</th>\n",
       "      <td>1.580</td>\n",
       "      <td>1101.000000</td>\n",
       "      <td>3.9500</td>\n",
       "      <td>1986.0</td>\n",
       "    </tr>\n",
       "    <tr>\n",
       "      <th>7.010000</th>\n",
       "      <td>1.680</td>\n",
       "      <td>1106.000000</td>\n",
       "      <td>4.1000</td>\n",
       "      <td>1987.0</td>\n",
       "    </tr>\n",
       "    <tr>\n",
       "      <th>7.980000</th>\n",
       "      <td>1.760</td>\n",
       "      <td>1308.000000</td>\n",
       "      <td>4.6184</td>\n",
       "      <td>1988.0</td>\n",
       "    </tr>\n",
       "    <tr>\n",
       "      <th>8.010000</th>\n",
       "      <td>1.840</td>\n",
       "      <td>999.000000</td>\n",
       "      <td>4.2300</td>\n",
       "      <td>1989.0</td>\n",
       "    </tr>\n",
       "    <tr>\n",
       "      <th>8.050000</th>\n",
       "      <td>2.100</td>\n",
       "      <td>1105.000000</td>\n",
       "      <td>4.5500</td>\n",
       "      <td>1991.0</td>\n",
       "    </tr>\n",
       "    <tr>\n",
       "      <th>8.300000</th>\n",
       "      <td>2.220</td>\n",
       "      <td>1199.000000</td>\n",
       "      <td>4.6200</td>\n",
       "      <td>1992.0</td>\n",
       "    </tr>\n",
       "    <tr>\n",
       "      <th>8.500000</th>\n",
       "      <td>2.340</td>\n",
       "      <td>2922.787234</td>\n",
       "      <td>4.7500</td>\n",
       "      <td>1993.0</td>\n",
       "    </tr>\n",
       "    <tr>\n",
       "      <th>8.800000</th>\n",
       "      <td>2.650</td>\n",
       "      <td>1220.000000</td>\n",
       "      <td>4.8400</td>\n",
       "      <td>1994.0</td>\n",
       "    </tr>\n",
       "    <tr>\n",
       "      <th>8.930000</th>\n",
       "      <td>2.410</td>\n",
       "      <td>1350.000000</td>\n",
       "      <td>4.9600</td>\n",
       "      <td>1995.0</td>\n",
       "    </tr>\n",
       "    <tr>\n",
       "      <th>9.120000</th>\n",
       "      <td>2.220</td>\n",
       "      <td>1440.000000</td>\n",
       "      <td>4.9900</td>\n",
       "      <td>1996.0</td>\n",
       "    </tr>\n",
       "    <tr>\n",
       "      <th>9.340000</th>\n",
       "      <td>2.130</td>\n",
       "      <td>1590.000000</td>\n",
       "      <td>5.0500</td>\n",
       "      <td>1997.0</td>\n",
       "    </tr>\n",
       "    <tr>\n",
       "      <th>9.596957</th>\n",
       "      <td>1.690</td>\n",
       "      <td>1662.200000</td>\n",
       "      <td>3.8220</td>\n",
       "      <td>1984.2</td>\n",
       "    </tr>\n",
       "    <tr>\n",
       "      <th>10.100000</th>\n",
       "      <td>2.010</td>\n",
       "      <td>1700.000000</td>\n",
       "      <td>5.1700</td>\n",
       "      <td>1998.0</td>\n",
       "    </tr>\n",
       "    <tr>\n",
       "      <th>10.600000</th>\n",
       "      <td>2.060</td>\n",
       "      <td>2050.000000</td>\n",
       "      <td>5.2800</td>\n",
       "      <td>1999.0</td>\n",
       "    </tr>\n",
       "    <tr>\n",
       "      <th>10.800000</th>\n",
       "      <td>2.090</td>\n",
       "      <td>2251.000000</td>\n",
       "      <td>5.3800</td>\n",
       "      <td>2000.0</td>\n",
       "    </tr>\n",
       "    <tr>\n",
       "      <th>11.000000</th>\n",
       "      <td>2.400</td>\n",
       "      <td>400.000000</td>\n",
       "      <td>5.7500</td>\n",
       "      <td>2005.0</td>\n",
       "    </tr>\n",
       "    <tr>\n",
       "      <th>11.010000</th>\n",
       "      <td>2.060</td>\n",
       "      <td>2489.000000</td>\n",
       "      <td>5.4200</td>\n",
       "      <td>2001.0</td>\n",
       "    </tr>\n",
       "    <tr>\n",
       "      <th>11.430000</th>\n",
       "      <td>2.100</td>\n",
       "      <td>3347.500000</td>\n",
       "      <td>5.5100</td>\n",
       "      <td>2002.5</td>\n",
       "    </tr>\n",
       "    <tr>\n",
       "      <th>12.060000</th>\n",
       "      <td>2.600</td>\n",
       "      <td>4220.000000</td>\n",
       "      <td>5.8600</td>\n",
       "      <td>2006.0</td>\n",
       "    </tr>\n",
       "    <tr>\n",
       "      <th>12.890000</th>\n",
       "      <td>2.800</td>\n",
       "      <td>4308.000000</td>\n",
       "      <td>5.9800</td>\n",
       "      <td>2007.0</td>\n",
       "    </tr>\n",
       "    <tr>\n",
       "      <th>12.920000</th>\n",
       "      <td>3.200</td>\n",
       "      <td>4483.000000</td>\n",
       "      <td>5.9900</td>\n",
       "      <td>2008.0</td>\n",
       "    </tr>\n",
       "    <tr>\n",
       "      <th>13.030000</th>\n",
       "      <td>3.900</td>\n",
       "      <td>4486.000000</td>\n",
       "      <td>6.0000</td>\n",
       "      <td>2009.0</td>\n",
       "    </tr>\n",
       "    <tr>\n",
       "      <th>13.060000</th>\n",
       "      <td>4.300</td>\n",
       "      <td>4547.000000</td>\n",
       "      <td>6.0500</td>\n",
       "      <td>2010.0</td>\n",
       "    </tr>\n",
       "    <tr>\n",
       "      <th>13.680000</th>\n",
       "      <td>4.500</td>\n",
       "      <td>5478.000000</td>\n",
       "      <td>6.1700</td>\n",
       "      <td>2011.0</td>\n",
       "    </tr>\n",
       "    <tr>\n",
       "      <th>14.010000</th>\n",
       "      <td>4.600</td>\n",
       "      <td>6789.000000</td>\n",
       "      <td>6.2300</td>\n",
       "      <td>2012.0</td>\n",
       "    </tr>\n",
       "    <tr>\n",
       "      <th>15.010000</th>\n",
       "      <td>4.800</td>\n",
       "      <td>8978.000000</td>\n",
       "      <td>6.2700</td>\n",
       "      <td>2013.0</td>\n",
       "    </tr>\n",
       "    <tr>\n",
       "      <th>15.800000</th>\n",
       "      <td>5.200</td>\n",
       "      <td>8875.000000</td>\n",
       "      <td>6.3500</td>\n",
       "      <td>2014.0</td>\n",
       "    </tr>\n",
       "    <tr>\n",
       "      <th>16.600000</th>\n",
       "      <td>5.400</td>\n",
       "      <td>8952.000000</td>\n",
       "      <td>6.4200</td>\n",
       "      <td>2015.0</td>\n",
       "    </tr>\n",
       "    <tr>\n",
       "      <th>17.500000</th>\n",
       "      <td>5.700</td>\n",
       "      <td>9000.000000</td>\n",
       "      <td>6.4800</td>\n",
       "      <td>2016.0</td>\n",
       "    </tr>\n",
       "    <tr>\n",
       "      <th>18.000000</th>\n",
       "      <td>5.850</td>\n",
       "      <td>9055.500000</td>\n",
       "      <td>6.6400</td>\n",
       "      <td>2017.5</td>\n",
       "    </tr>\n",
       "  </tbody>\n",
       "</table>\n",
       "</div>"
      ],
      "text/plain": [
       "           Consumption        Death  Unemployement    Year\n",
       "Tax                                                       \n",
       "4.560000         1.200   800.000000         2.0100  1968.0\n",
       "4.620000         1.305  1916.393617         2.5500  1970.5\n",
       "4.800000         1.800   790.000000         2.8600  1973.0\n",
       "4.820000         1.900   855.000000         2.9800  1974.0\n",
       "4.890000         1.200   889.000000         2.2500  1969.0\n",
       "4.910000         1.050   974.000000         2.9900  1975.0\n",
       "5.010000         1.980  1021.000000         3.0300  1976.0\n",
       "5.500000         1.100  2922.787234         3.2400  1979.0\n",
       "5.800000         1.390  2922.787234         3.4600  1980.0\n",
       "5.930000         1.010  1278.000000         3.5900  1981.0\n",
       "6.250000         1.050  1278.000000         3.6800  1982.0\n",
       "6.500000         1.105  1333.500000         3.8000  1983.5\n",
       "6.820000         1.450  1368.000000         3.8800  1985.0\n",
       "6.960000         1.580  1101.000000         3.9500  1986.0\n",
       "7.010000         1.680  1106.000000         4.1000  1987.0\n",
       "7.980000         1.760  1308.000000         4.6184  1988.0\n",
       "8.010000         1.840   999.000000         4.2300  1989.0\n",
       "8.050000         2.100  1105.000000         4.5500  1991.0\n",
       "8.300000         2.220  1199.000000         4.6200  1992.0\n",
       "8.500000         2.340  2922.787234         4.7500  1993.0\n",
       "8.800000         2.650  1220.000000         4.8400  1994.0\n",
       "8.930000         2.410  1350.000000         4.9600  1995.0\n",
       "9.120000         2.220  1440.000000         4.9900  1996.0\n",
       "9.340000         2.130  1590.000000         5.0500  1997.0\n",
       "9.596957         1.690  1662.200000         3.8220  1984.2\n",
       "10.100000        2.010  1700.000000         5.1700  1998.0\n",
       "10.600000        2.060  2050.000000         5.2800  1999.0\n",
       "10.800000        2.090  2251.000000         5.3800  2000.0\n",
       "11.000000        2.400   400.000000         5.7500  2005.0\n",
       "11.010000        2.060  2489.000000         5.4200  2001.0\n",
       "11.430000        2.100  3347.500000         5.5100  2002.5\n",
       "12.060000        2.600  4220.000000         5.8600  2006.0\n",
       "12.890000        2.800  4308.000000         5.9800  2007.0\n",
       "12.920000        3.200  4483.000000         5.9900  2008.0\n",
       "13.030000        3.900  4486.000000         6.0000  2009.0\n",
       "13.060000        4.300  4547.000000         6.0500  2010.0\n",
       "13.680000        4.500  5478.000000         6.1700  2011.0\n",
       "14.010000        4.600  6789.000000         6.2300  2012.0\n",
       "15.010000        4.800  8978.000000         6.2700  2013.0\n",
       "15.800000        5.200  8875.000000         6.3500  2014.0\n",
       "16.600000        5.400  8952.000000         6.4200  2015.0\n",
       "17.500000        5.700  9000.000000         6.4800  2016.0\n",
       "18.000000        5.850  9055.500000         6.6400  2017.5"
      ]
     },
     "execution_count": 24,
     "metadata": {},
     "output_type": "execute_result"
    }
   ],
   "source": [
    "df.pivot_table(hack,index=[\"Tax\"]) "
   ]
  },
  {
   "cell_type": "code",
   "execution_count": 25,
   "metadata": {},
   "outputs": [
    {
     "data": {
      "text/html": [
       "<div>\n",
       "<style scoped>\n",
       "    .dataframe tbody tr th:only-of-type {\n",
       "        vertical-align: middle;\n",
       "    }\n",
       "\n",
       "    .dataframe tbody tr th {\n",
       "        vertical-align: top;\n",
       "    }\n",
       "\n",
       "    .dataframe thead th {\n",
       "        text-align: right;\n",
       "    }\n",
       "</style>\n",
       "<table border=\"1\" class=\"dataframe\">\n",
       "  <thead>\n",
       "    <tr style=\"text-align: right;\">\n",
       "      <th></th>\n",
       "      <th>Consumption</th>\n",
       "      <th>Death</th>\n",
       "      <th>Tax</th>\n",
       "      <th>Year</th>\n",
       "    </tr>\n",
       "    <tr>\n",
       "      <th>Unemployement</th>\n",
       "      <th></th>\n",
       "      <th></th>\n",
       "      <th></th>\n",
       "      <th></th>\n",
       "    </tr>\n",
       "  </thead>\n",
       "  <tbody>\n",
       "    <tr>\n",
       "      <th>2.0100</th>\n",
       "      <td>1.20</td>\n",
       "      <td>800.000000</td>\n",
       "      <td>4.560000</td>\n",
       "      <td>1968.0</td>\n",
       "    </tr>\n",
       "    <tr>\n",
       "      <th>2.2500</th>\n",
       "      <td>1.20</td>\n",
       "      <td>889.000000</td>\n",
       "      <td>4.890000</td>\n",
       "      <td>1969.0</td>\n",
       "    </tr>\n",
       "    <tr>\n",
       "      <th>2.4500</th>\n",
       "      <td>1.31</td>\n",
       "      <td>910.000000</td>\n",
       "      <td>4.620000</td>\n",
       "      <td>1970.0</td>\n",
       "    </tr>\n",
       "    <tr>\n",
       "      <th>2.6500</th>\n",
       "      <td>1.30</td>\n",
       "      <td>2922.787234</td>\n",
       "      <td>4.620000</td>\n",
       "      <td>1971.0</td>\n",
       "    </tr>\n",
       "    <tr>\n",
       "      <th>2.7800</th>\n",
       "      <td>1.60</td>\n",
       "      <td>900.000000</td>\n",
       "      <td>9.596957</td>\n",
       "      <td>1972.0</td>\n",
       "    </tr>\n",
       "    <tr>\n",
       "      <th>2.8600</th>\n",
       "      <td>1.80</td>\n",
       "      <td>790.000000</td>\n",
       "      <td>4.800000</td>\n",
       "      <td>1973.0</td>\n",
       "    </tr>\n",
       "    <tr>\n",
       "      <th>2.9800</th>\n",
       "      <td>1.90</td>\n",
       "      <td>855.000000</td>\n",
       "      <td>4.820000</td>\n",
       "      <td>1974.0</td>\n",
       "    </tr>\n",
       "    <tr>\n",
       "      <th>2.9900</th>\n",
       "      <td>1.05</td>\n",
       "      <td>974.000000</td>\n",
       "      <td>4.910000</td>\n",
       "      <td>1975.0</td>\n",
       "    </tr>\n",
       "    <tr>\n",
       "      <th>3.0300</th>\n",
       "      <td>1.98</td>\n",
       "      <td>1021.000000</td>\n",
       "      <td>5.010000</td>\n",
       "      <td>1976.0</td>\n",
       "    </tr>\n",
       "    <tr>\n",
       "      <th>3.0500</th>\n",
       "      <td>1.31</td>\n",
       "      <td>1234.000000</td>\n",
       "      <td>9.596957</td>\n",
       "      <td>1977.0</td>\n",
       "    </tr>\n",
       "    <tr>\n",
       "      <th>3.1300</th>\n",
       "      <td>1.22</td>\n",
       "      <td>1278.000000</td>\n",
       "      <td>9.596957</td>\n",
       "      <td>1978.0</td>\n",
       "    </tr>\n",
       "    <tr>\n",
       "      <th>3.2400</th>\n",
       "      <td>1.10</td>\n",
       "      <td>2922.787234</td>\n",
       "      <td>5.500000</td>\n",
       "      <td>1979.0</td>\n",
       "    </tr>\n",
       "    <tr>\n",
       "      <th>3.4600</th>\n",
       "      <td>1.39</td>\n",
       "      <td>2922.787234</td>\n",
       "      <td>5.800000</td>\n",
       "      <td>1980.0</td>\n",
       "    </tr>\n",
       "    <tr>\n",
       "      <th>3.5900</th>\n",
       "      <td>1.01</td>\n",
       "      <td>1278.000000</td>\n",
       "      <td>5.930000</td>\n",
       "      <td>1981.0</td>\n",
       "    </tr>\n",
       "    <tr>\n",
       "      <th>3.6800</th>\n",
       "      <td>1.05</td>\n",
       "      <td>1278.000000</td>\n",
       "      <td>6.250000</td>\n",
       "      <td>1982.0</td>\n",
       "    </tr>\n",
       "    <tr>\n",
       "      <th>3.7500</th>\n",
       "      <td>1.09</td>\n",
       "      <td>1333.000000</td>\n",
       "      <td>6.500000</td>\n",
       "      <td>1983.0</td>\n",
       "    </tr>\n",
       "    <tr>\n",
       "      <th>3.8500</th>\n",
       "      <td>1.12</td>\n",
       "      <td>1334.000000</td>\n",
       "      <td>6.500000</td>\n",
       "      <td>1984.0</td>\n",
       "    </tr>\n",
       "    <tr>\n",
       "      <th>3.8800</th>\n",
       "      <td>1.45</td>\n",
       "      <td>1368.000000</td>\n",
       "      <td>6.820000</td>\n",
       "      <td>1985.0</td>\n",
       "    </tr>\n",
       "    <tr>\n",
       "      <th>3.9500</th>\n",
       "      <td>1.58</td>\n",
       "      <td>1101.000000</td>\n",
       "      <td>6.960000</td>\n",
       "      <td>1986.0</td>\n",
       "    </tr>\n",
       "    <tr>\n",
       "      <th>4.1000</th>\n",
       "      <td>1.68</td>\n",
       "      <td>1106.000000</td>\n",
       "      <td>7.010000</td>\n",
       "      <td>1987.0</td>\n",
       "    </tr>\n",
       "    <tr>\n",
       "      <th>4.2300</th>\n",
       "      <td>1.84</td>\n",
       "      <td>999.000000</td>\n",
       "      <td>8.010000</td>\n",
       "      <td>1989.0</td>\n",
       "    </tr>\n",
       "    <tr>\n",
       "      <th>4.5300</th>\n",
       "      <td>1.98</td>\n",
       "      <td>1000.000000</td>\n",
       "      <td>9.596957</td>\n",
       "      <td>1990.0</td>\n",
       "    </tr>\n",
       "    <tr>\n",
       "      <th>4.5500</th>\n",
       "      <td>2.10</td>\n",
       "      <td>1105.000000</td>\n",
       "      <td>8.050000</td>\n",
       "      <td>1991.0</td>\n",
       "    </tr>\n",
       "    <tr>\n",
       "      <th>4.6184</th>\n",
       "      <td>1.76</td>\n",
       "      <td>1308.000000</td>\n",
       "      <td>7.980000</td>\n",
       "      <td>1988.0</td>\n",
       "    </tr>\n",
       "    <tr>\n",
       "      <th>4.6200</th>\n",
       "      <td>2.22</td>\n",
       "      <td>1199.000000</td>\n",
       "      <td>8.300000</td>\n",
       "      <td>1992.0</td>\n",
       "    </tr>\n",
       "    <tr>\n",
       "      <th>4.7500</th>\n",
       "      <td>2.34</td>\n",
       "      <td>2922.787234</td>\n",
       "      <td>8.500000</td>\n",
       "      <td>1993.0</td>\n",
       "    </tr>\n",
       "    <tr>\n",
       "      <th>4.8400</th>\n",
       "      <td>2.65</td>\n",
       "      <td>1220.000000</td>\n",
       "      <td>8.800000</td>\n",
       "      <td>1994.0</td>\n",
       "    </tr>\n",
       "    <tr>\n",
       "      <th>4.9600</th>\n",
       "      <td>2.41</td>\n",
       "      <td>1350.000000</td>\n",
       "      <td>8.930000</td>\n",
       "      <td>1995.0</td>\n",
       "    </tr>\n",
       "    <tr>\n",
       "      <th>4.9900</th>\n",
       "      <td>2.22</td>\n",
       "      <td>1440.000000</td>\n",
       "      <td>9.120000</td>\n",
       "      <td>1996.0</td>\n",
       "    </tr>\n",
       "    <tr>\n",
       "      <th>5.0500</th>\n",
       "      <td>2.13</td>\n",
       "      <td>1590.000000</td>\n",
       "      <td>9.340000</td>\n",
       "      <td>1997.0</td>\n",
       "    </tr>\n",
       "    <tr>\n",
       "      <th>5.1700</th>\n",
       "      <td>2.01</td>\n",
       "      <td>1700.000000</td>\n",
       "      <td>10.100000</td>\n",
       "      <td>1998.0</td>\n",
       "    </tr>\n",
       "    <tr>\n",
       "      <th>5.2800</th>\n",
       "      <td>2.06</td>\n",
       "      <td>2050.000000</td>\n",
       "      <td>10.600000</td>\n",
       "      <td>1999.0</td>\n",
       "    </tr>\n",
       "    <tr>\n",
       "      <th>5.3800</th>\n",
       "      <td>2.09</td>\n",
       "      <td>2251.000000</td>\n",
       "      <td>10.800000</td>\n",
       "      <td>2000.0</td>\n",
       "    </tr>\n",
       "    <tr>\n",
       "      <th>5.4200</th>\n",
       "      <td>2.06</td>\n",
       "      <td>2489.000000</td>\n",
       "      <td>11.010000</td>\n",
       "      <td>2001.0</td>\n",
       "    </tr>\n",
       "    <tr>\n",
       "      <th>5.4700</th>\n",
       "      <td>2.05</td>\n",
       "      <td>3040.000000</td>\n",
       "      <td>11.430000</td>\n",
       "      <td>2002.0</td>\n",
       "    </tr>\n",
       "    <tr>\n",
       "      <th>5.5500</th>\n",
       "      <td>2.15</td>\n",
       "      <td>3655.000000</td>\n",
       "      <td>11.430000</td>\n",
       "      <td>2003.0</td>\n",
       "    </tr>\n",
       "    <tr>\n",
       "      <th>5.6200</th>\n",
       "      <td>2.34</td>\n",
       "      <td>3899.000000</td>\n",
       "      <td>9.596957</td>\n",
       "      <td>2004.0</td>\n",
       "    </tr>\n",
       "    <tr>\n",
       "      <th>5.7500</th>\n",
       "      <td>2.40</td>\n",
       "      <td>400.000000</td>\n",
       "      <td>11.000000</td>\n",
       "      <td>2005.0</td>\n",
       "    </tr>\n",
       "    <tr>\n",
       "      <th>5.8600</th>\n",
       "      <td>2.60</td>\n",
       "      <td>4220.000000</td>\n",
       "      <td>12.060000</td>\n",
       "      <td>2006.0</td>\n",
       "    </tr>\n",
       "    <tr>\n",
       "      <th>5.9800</th>\n",
       "      <td>2.80</td>\n",
       "      <td>4308.000000</td>\n",
       "      <td>12.890000</td>\n",
       "      <td>2007.0</td>\n",
       "    </tr>\n",
       "    <tr>\n",
       "      <th>5.9900</th>\n",
       "      <td>3.20</td>\n",
       "      <td>4483.000000</td>\n",
       "      <td>12.920000</td>\n",
       "      <td>2008.0</td>\n",
       "    </tr>\n",
       "    <tr>\n",
       "      <th>6.0000</th>\n",
       "      <td>3.90</td>\n",
       "      <td>4486.000000</td>\n",
       "      <td>13.030000</td>\n",
       "      <td>2009.0</td>\n",
       "    </tr>\n",
       "    <tr>\n",
       "      <th>6.0500</th>\n",
       "      <td>4.30</td>\n",
       "      <td>4547.000000</td>\n",
       "      <td>13.060000</td>\n",
       "      <td>2010.0</td>\n",
       "    </tr>\n",
       "    <tr>\n",
       "      <th>6.1700</th>\n",
       "      <td>4.50</td>\n",
       "      <td>5478.000000</td>\n",
       "      <td>13.680000</td>\n",
       "      <td>2011.0</td>\n",
       "    </tr>\n",
       "    <tr>\n",
       "      <th>6.2300</th>\n",
       "      <td>4.60</td>\n",
       "      <td>6789.000000</td>\n",
       "      <td>14.010000</td>\n",
       "      <td>2012.0</td>\n",
       "    </tr>\n",
       "    <tr>\n",
       "      <th>6.2700</th>\n",
       "      <td>4.80</td>\n",
       "      <td>8978.000000</td>\n",
       "      <td>15.010000</td>\n",
       "      <td>2013.0</td>\n",
       "    </tr>\n",
       "    <tr>\n",
       "      <th>6.3500</th>\n",
       "      <td>5.20</td>\n",
       "      <td>8875.000000</td>\n",
       "      <td>15.800000</td>\n",
       "      <td>2014.0</td>\n",
       "    </tr>\n",
       "    <tr>\n",
       "      <th>6.4200</th>\n",
       "      <td>5.40</td>\n",
       "      <td>8952.000000</td>\n",
       "      <td>16.600000</td>\n",
       "      <td>2015.0</td>\n",
       "    </tr>\n",
       "    <tr>\n",
       "      <th>6.4800</th>\n",
       "      <td>5.70</td>\n",
       "      <td>9000.000000</td>\n",
       "      <td>17.500000</td>\n",
       "      <td>2016.0</td>\n",
       "    </tr>\n",
       "    <tr>\n",
       "      <th>6.5300</th>\n",
       "      <td>5.80</td>\n",
       "      <td>9006.000000</td>\n",
       "      <td>18.000000</td>\n",
       "      <td>2017.0</td>\n",
       "    </tr>\n",
       "    <tr>\n",
       "      <th>6.7500</th>\n",
       "      <td>5.90</td>\n",
       "      <td>9105.000000</td>\n",
       "      <td>18.000000</td>\n",
       "      <td>2018.0</td>\n",
       "    </tr>\n",
       "  </tbody>\n",
       "</table>\n",
       "</div>"
      ],
      "text/plain": [
       "               Consumption        Death        Tax    Year\n",
       "Unemployement                                             \n",
       "2.0100                1.20   800.000000   4.560000  1968.0\n",
       "2.2500                1.20   889.000000   4.890000  1969.0\n",
       "2.4500                1.31   910.000000   4.620000  1970.0\n",
       "2.6500                1.30  2922.787234   4.620000  1971.0\n",
       "2.7800                1.60   900.000000   9.596957  1972.0\n",
       "2.8600                1.80   790.000000   4.800000  1973.0\n",
       "2.9800                1.90   855.000000   4.820000  1974.0\n",
       "2.9900                1.05   974.000000   4.910000  1975.0\n",
       "3.0300                1.98  1021.000000   5.010000  1976.0\n",
       "3.0500                1.31  1234.000000   9.596957  1977.0\n",
       "3.1300                1.22  1278.000000   9.596957  1978.0\n",
       "3.2400                1.10  2922.787234   5.500000  1979.0\n",
       "3.4600                1.39  2922.787234   5.800000  1980.0\n",
       "3.5900                1.01  1278.000000   5.930000  1981.0\n",
       "3.6800                1.05  1278.000000   6.250000  1982.0\n",
       "3.7500                1.09  1333.000000   6.500000  1983.0\n",
       "3.8500                1.12  1334.000000   6.500000  1984.0\n",
       "3.8800                1.45  1368.000000   6.820000  1985.0\n",
       "3.9500                1.58  1101.000000   6.960000  1986.0\n",
       "4.1000                1.68  1106.000000   7.010000  1987.0\n",
       "4.2300                1.84   999.000000   8.010000  1989.0\n",
       "4.5300                1.98  1000.000000   9.596957  1990.0\n",
       "4.5500                2.10  1105.000000   8.050000  1991.0\n",
       "4.6184                1.76  1308.000000   7.980000  1988.0\n",
       "4.6200                2.22  1199.000000   8.300000  1992.0\n",
       "4.7500                2.34  2922.787234   8.500000  1993.0\n",
       "4.8400                2.65  1220.000000   8.800000  1994.0\n",
       "4.9600                2.41  1350.000000   8.930000  1995.0\n",
       "4.9900                2.22  1440.000000   9.120000  1996.0\n",
       "5.0500                2.13  1590.000000   9.340000  1997.0\n",
       "5.1700                2.01  1700.000000  10.100000  1998.0\n",
       "5.2800                2.06  2050.000000  10.600000  1999.0\n",
       "5.3800                2.09  2251.000000  10.800000  2000.0\n",
       "5.4200                2.06  2489.000000  11.010000  2001.0\n",
       "5.4700                2.05  3040.000000  11.430000  2002.0\n",
       "5.5500                2.15  3655.000000  11.430000  2003.0\n",
       "5.6200                2.34  3899.000000   9.596957  2004.0\n",
       "5.7500                2.40   400.000000  11.000000  2005.0\n",
       "5.8600                2.60  4220.000000  12.060000  2006.0\n",
       "5.9800                2.80  4308.000000  12.890000  2007.0\n",
       "5.9900                3.20  4483.000000  12.920000  2008.0\n",
       "6.0000                3.90  4486.000000  13.030000  2009.0\n",
       "6.0500                4.30  4547.000000  13.060000  2010.0\n",
       "6.1700                4.50  5478.000000  13.680000  2011.0\n",
       "6.2300                4.60  6789.000000  14.010000  2012.0\n",
       "6.2700                4.80  8978.000000  15.010000  2013.0\n",
       "6.3500                5.20  8875.000000  15.800000  2014.0\n",
       "6.4200                5.40  8952.000000  16.600000  2015.0\n",
       "6.4800                5.70  9000.000000  17.500000  2016.0\n",
       "6.5300                5.80  9006.000000  18.000000  2017.0\n",
       "6.7500                5.90  9105.000000  18.000000  2018.0"
      ]
     },
     "execution_count": 25,
     "metadata": {},
     "output_type": "execute_result"
    }
   ],
   "source": [
    "df.pivot_table(hack,index=[\"Unemployement\"]) "
   ]
  },
  {
   "cell_type": "code",
   "execution_count": 26,
   "metadata": {},
   "outputs": [
    {
     "data": {
      "text/plain": [
       "<seaborn.axisgrid.PairGrid at 0x8c4cdb0>"
      ]
     },
     "execution_count": 26,
     "metadata": {},
     "output_type": "execute_result"
    },
    {
     "data": {
      "image/png": "[encoded data removed]",
      "text/plain": [
       "<Figure size 900x900 with 30 Axes>"
      ]
     },
     "metadata": {
      "needs_background": "light"
     },
     "output_type": "display_data"
    }
   ],
   "source": [
    "import seaborn as sns\n",
    "sns.pairplot(df)"
   ]
  },
  {
   "cell_type": "code",
   "execution_count": 27,
   "metadata": {},
   "outputs": [
    {
     "data": {
      "text/plain": [
       "<matplotlib.axes._subplots.AxesSubplot at 0x9e4b130>"
      ]
     },
     "execution_count": 27,
     "metadata": {},
     "output_type": "execute_result"
    },
    {
     "data": {
      "image/png": "[encoded data removed]",
      "text/plain": [
       "<Figure size 432x288 with 1 Axes>"
      ]
     },
     "metadata": {
      "needs_background": "light"
     },
     "output_type": "display_data"
    }
   ],
   "source": [
    "sns.distplot(df[\"Tax\"])"
   ]
  },
  {
   "cell_type": "code",
   "execution_count": 28,
   "metadata": {},
   "outputs": [],
   "source": [
    "# the graph is bell shaped so its normalized . this is the only column which is best normalized as compared to other features"
   ]
  },
  {
   "cell_type": "code",
   "execution_count": 29,
   "metadata": {},
   "outputs": [
    {
     "data": {
      "text/plain": [
       "<matplotlib.axes._subplots.AxesSubplot at 0xa4404b0>"
      ]
     },
     "execution_count": 29,
     "metadata": {},
     "output_type": "execute_result"
    },
    {
     "data": {
      "image/png": "[encoded data removed]",
      "text/plain": [
       "<Figure size 432x288 with 1 Axes>"
      ]
     },
     "metadata": {
      "needs_background": "light"
     },
     "output_type": "display_data"
    }
   ],
   "source": [
    "sns.distplot(df[\"Unemployement\"])"
   ]
  },
  {
   "cell_type": "code",
   "execution_count": 30,
   "metadata": {},
   "outputs": [
    {
     "data": {
      "text/plain": [
       "<matplotlib.axes._subplots.AxesSubplot at 0xa7d4c70>"
      ]
     },
     "execution_count": 30,
     "metadata": {},
     "output_type": "execute_result"
    },
    {
     "data": {
      "image/png": "[encoded data removed]",
      "text/plain": [
       "<Figure size 432x288 with 1 Axes>"
      ]
     },
     "metadata": {
      "needs_background": "light"
     },
     "output_type": "display_data"
    }
   ],
   "source": [
    "sns.distplot(df[\"Consumption\"])"
   ]
  },
  {
   "cell_type": "code",
   "execution_count": 31,
   "metadata": {},
   "outputs": [
    {
     "data": {
      "text/plain": [
       "<matplotlib.collections.PathCollection at 0xa832310>"
      ]
     },
     "execution_count": 31,
     "metadata": {},
     "output_type": "execute_result"
    },
    {
     "data": {
      "image/png": "[encoded data removed]",
      "text/plain": [
       "<Figure size 432x288 with 1 Axes>"
      ]
     },
     "metadata": {
      "needs_background": "light"
     },
     "output_type": "display_data"
    }
   ],
   "source": [
    "plt.scatter(df['Tax'],df['Consumption'])"
   ]
  },
  {
   "cell_type": "code",
   "execution_count": 32,
   "metadata": {},
   "outputs": [],
   "source": [
    "# this indicates that high range of taxes isnt affecting a person to stop consuming alcohol as this graph shows that with increase in taxes consumption is also increasing..CONSUMPTION IS GRADUALLY INCREASING"
   ]
  },
  {
   "cell_type": "code",
   "execution_count": 33,
   "metadata": {},
   "outputs": [
    {
     "data": {
      "text/plain": [
       "<matplotlib.collections.PathCollection at 0xa86e150>"
      ]
     },
     "execution_count": 33,
     "metadata": {},
     "output_type": "execute_result"
    },
    {
     "data": {
      "image/png": "[encoded data removed]",
      "text/plain": [
       "<Figure size 432x288 with 1 Axes>"
      ]
     },
     "metadata": {
      "needs_background": "light"
     },
     "output_type": "display_data"
    }
   ],
   "source": [
    "plt.scatter(df['Unemployement'],df['Consumption'])"
   ]
  },
  {
   "cell_type": "code",
   "execution_count": 34,
   "metadata": {},
   "outputs": [],
   "source": [
    "# gradually increasing"
   ]
  },
  {
   "cell_type": "code",
   "execution_count": 35,
   "metadata": {},
   "outputs": [
    {
     "data": {
      "text/plain": [
       "<matplotlib.collections.PathCollection at 0xa8a48b0>"
      ]
     },
     "execution_count": 35,
     "metadata": {},
     "output_type": "execute_result"
    },
    {
     "data": {
      "image/png": "[encoded data removed]",
      "text/plain": [
       "<Figure size 432x288 with 1 Axes>"
      ]
     },
     "metadata": {
      "needs_background": "light"
     },
     "output_type": "display_data"
    }
   ],
   "source": [
    "plt.scatter(df['Consumption'],df['Death'])"
   ]
  },
  {
   "cell_type": "code",
   "execution_count": 36,
   "metadata": {},
   "outputs": [],
   "source": [
    "# gradually increasing"
   ]
  },
  {
   "cell_type": "code",
   "execution_count": 37,
   "metadata": {},
   "outputs": [
    {
     "data": {
      "text/plain": [
       "<matplotlib.axes._subplots.AxesSubplot at 0xa8b7fd0>"
      ]
     },
     "execution_count": 37,
     "metadata": {},
     "output_type": "execute_result"
    },
    {
     "data": {
      "image/png": "[encoded data removed]",
      "text/plain": [
       "<Figure size 432x288 with 1 Axes>"
      ]
     },
     "metadata": {
      "needs_background": "light"
     },
     "output_type": "display_data"
    }
   ],
   "source": [
    "df.boxplot(column=\"Consumption\")"
   ]
  },
  {
   "cell_type": "code",
   "execution_count": 38,
   "metadata": {},
   "outputs": [],
   "source": [
    "# consumption has outliers but if we try to remove these we'll lose 18% of the data. so we keep them . here you can see that the graph is consistent till 75% but after 75% there is a high increase in consumption"
   ]
  },
  {
   "cell_type": "code",
   "execution_count": 39,
   "metadata": {},
   "outputs": [
    {
     "data": {
      "text/plain": [
       "<matplotlib.axes._subplots.AxesSubplot at 0xaaf2e90>"
      ]
     },
     "execution_count": 39,
     "metadata": {},
     "output_type": "execute_result"
    },
    {
     "data": {
      "image/png": "[encoded data removed]",
      "text/plain": [
       "<Figure size 432x288 with 1 Axes>"
      ]
     },
     "metadata": {
      "needs_background": "light"
     },
     "output_type": "display_data"
    }
   ],
   "source": [
    "df.boxplot(column=\"Death\")"
   ]
  },
  {
   "cell_type": "code",
   "execution_count": 40,
   "metadata": {},
   "outputs": [
    {
     "data": {
      "text/plain": [
       "<matplotlib.axes._subplots.AxesSubplot at 0xab2e670>"
      ]
     },
     "execution_count": 40,
     "metadata": {},
     "output_type": "execute_result"
    },
    {
     "data": {
      "image/png": "[encoded data removed]",
      "text/plain": [
       "<Figure size 432x288 with 1 Axes>"
      ]
     },
     "metadata": {
      "needs_background": "light"
     },
     "output_type": "display_data"
    }
   ],
   "source": [
    "df.boxplot(column=\"Tax\")"
   ]
  },
  {
   "cell_type": "code",
   "execution_count": 41,
   "metadata": {},
   "outputs": [
    {
     "data": {
      "text/plain": [
       "<matplotlib.axes._subplots.AxesSubplot at 0xab6b290>"
      ]
     },
     "execution_count": 41,
     "metadata": {},
     "output_type": "execute_result"
    },
    {
     "data": {
      "image/png": "[encoded data removed]",
      "text/plain": [
       "<Figure size 432x288 with 1 Axes>"
      ]
     },
     "metadata": {
      "needs_background": "light"
     },
     "output_type": "display_data"
    }
   ],
   "source": [
    "df.boxplot(column=\"Unemployement\")"
   ]
  },
  {
   "cell_type": "code",
   "execution_count": 52,
   "metadata": {},
   "outputs": [
    {
     "data": {
      "text/html": [
       "<div>\n",
       "<style scoped>\n",
       "    .dataframe tbody tr th:only-of-type {\n",
       "        vertical-align: middle;\n",
       "    }\n",
       "\n",
       "    .dataframe tbody tr th {\n",
       "        vertical-align: top;\n",
       "    }\n",
       "\n",
       "    .dataframe thead th {\n",
       "        text-align: right;\n",
       "    }\n",
       "</style>\n",
       "<table border=\"1\" class=\"dataframe\">\n",
       "  <thead>\n",
       "    <tr style=\"text-align: right;\">\n",
       "      <th></th>\n",
       "      <th>Year</th>\n",
       "      <th>Tax</th>\n",
       "      <th>Unemployement</th>\n",
       "      <th>Death</th>\n",
       "      <th>Consumption</th>\n",
       "    </tr>\n",
       "  </thead>\n",
       "  <tbody>\n",
       "    <tr>\n",
       "      <th>count</th>\n",
       "      <td>51.000000</td>\n",
       "      <td>51.000000</td>\n",
       "      <td>51.000000</td>\n",
       "      <td>51.000000</td>\n",
       "      <td>51.000000</td>\n",
       "    </tr>\n",
       "    <tr>\n",
       "      <th>mean</th>\n",
       "      <td>1993.000000</td>\n",
       "      <td>9.596957</td>\n",
       "      <td>4.618400</td>\n",
       "      <td>2922.787234</td>\n",
       "      <td>2.448039</td>\n",
       "    </tr>\n",
       "    <tr>\n",
       "      <th>std</th>\n",
       "      <td>14.866069</td>\n",
       "      <td>3.783784</td>\n",
       "      <td>1.335429</td>\n",
       "      <td>2636.938937</td>\n",
       "      <td>1.400099</td>\n",
       "    </tr>\n",
       "    <tr>\n",
       "      <th>min</th>\n",
       "      <td>1968.000000</td>\n",
       "      <td>4.560000</td>\n",
       "      <td>2.010000</td>\n",
       "      <td>400.000000</td>\n",
       "      <td>1.010000</td>\n",
       "    </tr>\n",
       "    <tr>\n",
       "      <th>25%</th>\n",
       "      <td>1980.500000</td>\n",
       "      <td>6.500000</td>\n",
       "      <td>3.525000</td>\n",
       "      <td>1105.500000</td>\n",
       "      <td>1.420000</td>\n",
       "    </tr>\n",
       "    <tr>\n",
       "      <th>50%</th>\n",
       "      <td>1993.000000</td>\n",
       "      <td>9.340000</td>\n",
       "      <td>4.750000</td>\n",
       "      <td>1440.000000</td>\n",
       "      <td>2.060000</td>\n",
       "    </tr>\n",
       "    <tr>\n",
       "      <th>75%</th>\n",
       "      <td>2005.500000</td>\n",
       "      <td>11.745000</td>\n",
       "      <td>5.805000</td>\n",
       "      <td>4059.500000</td>\n",
       "      <td>2.625000</td>\n",
       "    </tr>\n",
       "    <tr>\n",
       "      <th>max</th>\n",
       "      <td>2018.000000</td>\n",
       "      <td>18.000000</td>\n",
       "      <td>6.750000</td>\n",
       "      <td>9105.000000</td>\n",
       "      <td>5.900000</td>\n",
       "    </tr>\n",
       "  </tbody>\n",
       "</table>\n",
       "</div>"
      ],
      "text/plain": [
       "              Year        Tax  Unemployement        Death  Consumption\n",
       "count    51.000000  51.000000      51.000000    51.000000    51.000000\n",
       "mean   1993.000000   9.596957       4.618400  2922.787234     2.448039\n",
       "std      14.866069   3.783784       1.335429  2636.938937     1.400099\n",
       "min    1968.000000   4.560000       2.010000   400.000000     1.010000\n",
       "25%    1980.500000   6.500000       3.525000  1105.500000     1.420000\n",
       "50%    1993.000000   9.340000       4.750000  1440.000000     2.060000\n",
       "75%    2005.500000  11.745000       5.805000  4059.500000     2.625000\n",
       "max    2018.000000  18.000000       6.750000  9105.000000     5.900000"
      ]
     },
     "execution_count": 52,
     "metadata": {},
     "output_type": "execute_result"
    }
   ],
   "source": [
    "df.describe()"
   ]
  },
  {
   "cell_type": "code",
   "execution_count": 53,
   "metadata": {},
   "outputs": [
    {
     "data": {
      "text/plain": [
       "6.182499999999999"
      ]
     },
     "execution_count": 53,
     "metadata": {},
     "output_type": "execute_result"
    }
   ],
   "source": [
    "IQR=12.682500-6.500000\n",
    "IQR"
   ]
  },
  {
   "cell_type": "code",
   "execution_count": 55,
   "metadata": {},
   "outputs": [
    {
     "name": "stdout",
     "output_type": "stream",
     "text": [
      "89.72625 149.52375\n"
     ]
    }
   ],
   "source": [
    " Lower_bound=99.0000-(1.5*IQR)\n",
    "Upper_bound=140.2500+(1.5*IQR) \n",
    "print(Lower_bound,Upper_bound) "
   ]
  },
  {
   "cell_type": "code",
   "execution_count": 44,
   "metadata": {},
   "outputs": [
    {
     "data": {
      "image/png": "[encoded data removed]",
      "text/plain": [
       "<Figure size 432x288 with 1 Axes>"
      ]
     },
     "metadata": {},
     "output_type": "display_data"
    }
   ],
   "source": [
    "fig1, ax1 = plt.subplots()\n",
    "ax1.pie(df[\"Unemployement\"].value_counts(), labels=df['Unemployement'].unique(),autopct='%1.2f',shadow=True, startangle=90)\n",
    "ax1.axis('equal')  # Equal aspect ratio ensures that pie is drawn as a circle.\n",
    "\n",
    "plt.show()"
   ]
  },
  {
   "cell_type": "markdown",
   "metadata": {},
   "source": [
    "# multiple regression"
   ]
  },
  {
   "cell_type": "code",
   "execution_count": 62,
   "metadata": {},
   "outputs": [
    {
     "data": {
      "text/html": [
       "<table class=\"simpletable\">\n",
       "<caption>OLS Regression Results</caption>\n",
       "<tr>\n",
       "  <th>Dep. Variable:</th>       <td>Consumption</td>   <th>  R-squared:         </th> <td>   0.951</td>\n",
       "</tr>\n",
       "<tr>\n",
       "  <th>Model:</th>                   <td>OLS</td>       <th>  Adj. R-squared:    </th> <td>   0.949</td>\n",
       "</tr>\n",
       "<tr>\n",
       "  <th>Method:</th>             <td>Least Squares</td>  <th>  F-statistic:       </th> <td>   476.0</td>\n",
       "</tr>\n",
       "<tr>\n",
       "  <th>Date:</th>             <td>Wed, 19 Jun 2019</td> <th>  Prob (F-statistic):</th> <td>7.94e-33</td>\n",
       "</tr>\n",
       "<tr>\n",
       "  <th>Time:</th>                 <td>00:35:43</td>     <th>  Log-Likelihood:    </th> <td> -48.188</td>\n",
       "</tr>\n",
       "<tr>\n",
       "  <th>No. Observations:</th>      <td>    51</td>      <th>  AIC:               </th> <td>   100.4</td>\n",
       "</tr>\n",
       "<tr>\n",
       "  <th>Df Residuals:</th>          <td>    49</td>      <th>  BIC:               </th> <td>   104.2</td>\n",
       "</tr>\n",
       "<tr>\n",
       "  <th>Df Model:</th>              <td>     2</td>      <th>                     </th>     <td> </td>   \n",
       "</tr>\n",
       "<tr>\n",
       "  <th>Covariance Type:</th>      <td>nonrobust</td>    <th>                     </th>     <td> </td>   \n",
       "</tr>\n",
       "</table>\n",
       "<table class=\"simpletable\">\n",
       "<tr>\n",
       "        <td></td>           <th>coef</th>     <th>std err</th>      <th>t</th>      <th>P>|t|</th>  <th>[0.025</th>    <th>0.975]</th>  \n",
       "</tr>\n",
       "<tr>\n",
       "  <th>Tax</th>           <td>    0.3770</td> <td>    0.051</td> <td>    7.394</td> <td> 0.000</td> <td>    0.275</td> <td>    0.479</td>\n",
       "</tr>\n",
       "<tr>\n",
       "  <th>Unemployement</th> <td>   -0.2423</td> <td>    0.109</td> <td>   -2.216</td> <td> 0.031</td> <td>   -0.462</td> <td>   -0.023</td>\n",
       "</tr>\n",
       "</table>\n",
       "<table class=\"simpletable\">\n",
       "<tr>\n",
       "  <th>Omnibus:</th>       <td> 2.177</td> <th>  Durbin-Watson:     </th> <td>   0.975</td>\n",
       "</tr>\n",
       "<tr>\n",
       "  <th>Prob(Omnibus):</th> <td> 0.337</td> <th>  Jarque-Bera (JB):  </th> <td>   1.880</td>\n",
       "</tr>\n",
       "<tr>\n",
       "  <th>Skew:</th>          <td>-0.466</td> <th>  Prob(JB):          </th> <td>   0.391</td>\n",
       "</tr>\n",
       "<tr>\n",
       "  <th>Kurtosis:</th>      <td> 2.874</td> <th>  Cond. No.          </th> <td>    15.4</td>\n",
       "</tr>\n",
       "</table><br/><br/>Warnings:<br/>[1] Standard Errors assume that the covariance matrix of the errors is correctly specified."
      ],
      "text/plain": [
       "<class 'statsmodels.iolib.summary.Summary'>\n",
       "\"\"\"\n",
       "                            OLS Regression Results                            \n",
       "==============================================================================\n",
       "Dep. Variable:            Consumption   R-squared:                       0.951\n",
       "Model:                            OLS   Adj. R-squared:                  0.949\n",
       "Method:                 Least Squares   F-statistic:                     476.0\n",
       "Date:                Wed, 19 Jun 2019   Prob (F-statistic):           7.94e-33\n",
       "Time:                        00:35:43   Log-Likelihood:                -48.188\n",
       "No. Observations:                  51   AIC:                             100.4\n",
       "Df Residuals:                      49   BIC:                             104.2\n",
       "Df Model:                           2                                         \n",
       "Covariance Type:            nonrobust                                         \n",
       "=================================================================================\n",
       "                    coef    std err          t      P>|t|      [0.025      0.975]\n",
       "---------------------------------------------------------------------------------\n",
       "Tax               0.3770      0.051      7.394      0.000       0.275       0.479\n",
       "Unemployement    -0.2423      0.109     -2.216      0.031      -0.462      -0.023\n",
       "==============================================================================\n",
       "Omnibus:                        2.177   Durbin-Watson:                   0.975\n",
       "Prob(Omnibus):                  0.337   Jarque-Bera (JB):                1.880\n",
       "Skew:                          -0.466   Prob(JB):                        0.391\n",
       "Kurtosis:                       2.874   Cond. No.                         15.4\n",
       "==============================================================================\n",
       "\n",
       "Warnings:\n",
       "[1] Standard Errors assume that the covariance matrix of the errors is correctly specified.\n",
       "\"\"\""
      ]
     },
     "execution_count": 62,
     "metadata": {},
     "output_type": "execute_result"
    }
   ],
   "source": [
    "\n",
    "X = df[[\"Tax\", \"Unemployement\"]]\n",
    "y = df[\"Consumption\"]\n",
    "\n",
    "import statsmodels.api as sm\n",
    "model1 = sm.OLS(y,X).fit()\n",
    "predictions = model1.predict(X)\n",
    "model1.summary()"
   ]
  },
  {
   "cell_type": "code",
   "execution_count": 63,
   "metadata": {},
   "outputs": [],
   "source": [
    "from sklearn.model_selection import train_test_split\n",
    "X_train, X_test, y_train, y_test = train_test_split(X, y,test_size = 0.4, random_state=1)\n"
   ]
  },
  {
   "cell_type": "code",
   "execution_count": 64,
   "metadata": {},
   "outputs": [],
   "source": [
    "from sklearn import linear_model as lm\n",
    "model=lm.LinearRegression()\n",
    "results=model.fit(X_train,y_train)\n",
    "predictions = model.predict(X)"
   ]
  },
  {
   "cell_type": "code",
   "execution_count": 65,
   "metadata": {},
   "outputs": [
    {
     "data": {
      "text/plain": [
       "LinearRegression(copy_X=True, fit_intercept=True, n_jobs=None,\n",
       "         normalize=False)"
      ]
     },
     "execution_count": 65,
     "metadata": {},
     "output_type": "execute_result"
    }
   ],
   "source": [
    "results"
   ]
  },
  {
   "cell_type": "code",
   "execution_count": 66,
   "metadata": {},
   "outputs": [
    {
     "data": {
      "text/plain": [
       "array([0.66238606, 0.79293498, 0.75969035, 0.79681188, 2.11801237,\n",
       "       0.88270026, 0.91018549, 0.93549695, 0.9689828 , 2.16812643,\n",
       "       2.18297504, 1.13566195, 1.25468025, 1.31268924, 1.41279086,\n",
       "       1.49093724, 1.50949801, 1.59846316, 1.64794185, 1.68881377,\n",
       "       2.03782971, 1.97355816, 2.44282576, 2.04337723, 2.12152361,\n",
       "       2.19777568, 2.29266499, 2.34881791, 2.40390306, 2.47237491,\n",
       "       2.69271553, 2.84344007, 2.91412391, 2.97627745, 3.0950163 ,\n",
       "       3.10986491, 2.6451381 , 3.03492182, 3.33159098, 3.57017468,\n",
       "       3.57984921, 3.61037298, 3.62747183, 3.81132629, 3.90846583,\n",
       "       4.17650553, 4.39724031, 4.61872516, 4.86441547, 5.00400355,\n",
       "       5.04483723])"
      ]
     },
     "execution_count": 66,
     "metadata": {},
     "output_type": "execute_result"
    }
   ],
   "source": [
    "predictions"
   ]
  },
  {
   "cell_type": "code",
   "execution_count": 67,
   "metadata": {},
   "outputs": [
    {
     "name": "stdout",
     "output_type": "stream",
     "text": [
      "Accuracy of the model: 0.7684269328064627\n"
     ]
    }
   ],
   "source": [
    "accuracy=model.score(X_train,y_train)\n",
    "print('Accuracy of the model:', accuracy)"
   ]
  },
  {
   "cell_type": "code",
   "execution_count": null,
   "metadata": {},
   "outputs": [],
   "source": [
    "# we made a model with tax and unemployement as input variables and consumption as target variable . this accuracy shows that 81 percent of data was predicted correctly."
   ]
  },
  {
   "cell_type": "code",
   "execution_count": 19,
   "metadata": {},
   "outputs": [
    {
     "name": "stdout",
     "output_type": "stream",
     "text": [
      "Slope: [0.26061539 0.18560765]\n",
      "Intercept: -0.8990915155277399\n",
      "\n",
      "\n",
      "The model performance\n",
      "--------------------------------------\n",
      "RMSE is 0.6036227567390916\n",
      "R2 score is 0.8104105614553223\n",
      "\n",
      "\n"
     ]
    }
   ],
   "source": [
    "from sklearn.metrics import mean_squared_error, r2_score\n",
    "print('Slope:' ,model.coef_)\n",
    "print('Intercept:', model.intercept_)\n",
    "print(\"\\n\")\n",
    "\n",
    "\n",
    "import numpy as np\n",
    "rmse = (np.sqrt(mean_squared_error(y,predictions)))\n",
    "r2 = r2_score(y,predictions)\n",
    "\n",
    "print(\"The model performance\")\n",
    "print(\"--------------------------------------\")\n",
    "print('RMSE is {}'.format(rmse))\n",
    "print('R2 score is {}'.format(r2))\n",
    "print(\"\\n\")"
   ]
  },
  {
   "cell_type": "code",
   "execution_count": 58,
   "metadata": {},
   "outputs": [
    {
     "data": {
      "text/plain": [
       "<matplotlib.collections.PathCollection at 0x20ed5b15978>"
      ]
     },
     "execution_count": 58,
     "metadata": {},
     "output_type": "execute_result"
    },
    {
     "data": {
      "image/png": "[encoded data removed]",
      "text/plain": [
       "<Figure size 432x288 with 1 Axes>"
      ]
     },
     "metadata": {
      "needs_background": "light"
     },
     "output_type": "display_data"
    }
   ],
   "source": [
    "plt.scatter(df['Tax'],df['Consumption'])"
   ]
  },
  {
   "cell_type": "code",
   "execution_count": 59,
   "metadata": {},
   "outputs": [
    {
     "data": {
      "text/plain": [
       "<matplotlib.axes._subplots.AxesSubplot at 0x20ed5b51d30>"
      ]
     },
     "execution_count": 59,
     "metadata": {},
     "output_type": "execute_result"
    },
    {
     "data": {
      "image/png": "[encoded data removed]",
      "text/plain": [
       "<Figure size 432x288 with 1 Axes>"
      ]
     },
     "metadata": {
      "needs_background": "light"
     },
     "output_type": "display_data"
    }
   ],
   "source": [
    "df['Consumption'].hist(bins=10)"
   ]
  },
  {
   "cell_type": "code",
   "execution_count": null,
   "metadata": {},
   "outputs": [],
   "source": [
    "#high frequency of consumption in the range of 1 to 1.5 and 2 to 2.5"
   ]
  },
  {
   "cell_type": "code",
   "execution_count": 60,
   "metadata": {},
   "outputs": [
    {
     "data": {
      "text/plain": [
       "<matplotlib.axes._subplots.AxesSubplot at 0x20ed5b96a20>"
      ]
     },
     "execution_count": 60,
     "metadata": {},
     "output_type": "execute_result"
    },
    {
     "data": {
      "image/png": "[encoded data removed]",
      "text/plain": [
       "<Figure size 432x288 with 1 Axes>"
      ]
     },
     "metadata": {
      "needs_background": "light"
     },
     "output_type": "display_data"
    }
   ],
   "source": [
    "df['Tax'].hist(bins=10)"
   ]
  },
  {
   "cell_type": "code",
   "execution_count": 61,
   "metadata": {},
   "outputs": [
    {
     "data": {
      "text/plain": [
       "<matplotlib.axes._subplots.AxesSubplot at 0x20ed5bfcfd0>"
      ]
     },
     "execution_count": 61,
     "metadata": {},
     "output_type": "execute_result"
    },
    {
     "data": {
      "image/png": "[encoded data removed]",
      "text/plain": [
       "<Figure size 432x288 with 1 Axes>"
      ]
     },
     "metadata": {
      "needs_background": "light"
     },
     "output_type": "display_data"
    }
   ],
   "source": [
    "df['Unemployement'].hist(bins=10)"
   ]
  },
  {
   "cell_type": "markdown",
   "metadata": {},
   "source": [
    "# linear regression"
   ]
  },
  {
   "cell_type": "code",
   "execution_count": 76,
   "metadata": {},
   "outputs": [
    {
     "data": {
      "text/html": [
       "<table class=\"simpletable\">\n",
       "<caption>OLS Regression Results</caption>\n",
       "<tr>\n",
       "  <th>Dep. Variable:</th>       <td>Consumption</td>   <th>  R-squared:         </th> <td>   0.946</td>\n",
       "</tr>\n",
       "<tr>\n",
       "  <th>Model:</th>                   <td>OLS</td>       <th>  Adj. R-squared:    </th> <td>   0.945</td>\n",
       "</tr>\n",
       "<tr>\n",
       "  <th>Method:</th>             <td>Least Squares</td>  <th>  F-statistic:       </th> <td>   878.3</td>\n",
       "</tr>\n",
       "<tr>\n",
       "  <th>Date:</th>             <td>Tue, 18 Jun 2019</td> <th>  Prob (F-statistic):</th> <td>2.20e-33</td>\n",
       "</tr>\n",
       "<tr>\n",
       "  <th>Time:</th>                 <td>13:56:08</td>     <th>  Log-Likelihood:    </th> <td> -50.623</td>\n",
       "</tr>\n",
       "<tr>\n",
       "  <th>No. Observations:</th>      <td>    51</td>      <th>  AIC:               </th> <td>   103.2</td>\n",
       "</tr>\n",
       "<tr>\n",
       "  <th>Df Residuals:</th>          <td>    50</td>      <th>  BIC:               </th> <td>   105.2</td>\n",
       "</tr>\n",
       "<tr>\n",
       "  <th>Df Model:</th>              <td>     1</td>      <th>                     </th>     <td> </td>   \n",
       "</tr>\n",
       "<tr>\n",
       "  <th>Covariance Type:</th>      <td>nonrobust</td>    <th>                     </th>     <td> </td>   \n",
       "</tr>\n",
       "</table>\n",
       "<table class=\"simpletable\">\n",
       "<tr>\n",
       "   <td></td>      <th>coef</th>     <th>std err</th>      <th>t</th>      <th>P>|t|</th>  <th>[0.025</th>    <th>0.975]</th>  \n",
       "</tr>\n",
       "<tr>\n",
       "  <th>Tax</th> <td>    0.2656</td> <td>    0.009</td> <td>   29.637</td> <td> 0.000</td> <td>    0.248</td> <td>    0.284</td>\n",
       "</tr>\n",
       "</table>\n",
       "<table class=\"simpletable\">\n",
       "<tr>\n",
       "  <th>Omnibus:</th>       <td> 3.552</td> <th>  Durbin-Watson:     </th> <td>   0.542</td>\n",
       "</tr>\n",
       "<tr>\n",
       "  <th>Prob(Omnibus):</th> <td> 0.169</td> <th>  Jarque-Bera (JB):  </th> <td>   2.394</td>\n",
       "</tr>\n",
       "<tr>\n",
       "  <th>Skew:</th>          <td> 0.346</td> <th>  Prob(JB):          </th> <td>   0.302</td>\n",
       "</tr>\n",
       "<tr>\n",
       "  <th>Kurtosis:</th>      <td> 2.194</td> <th>  Cond. No.          </th> <td>    1.00</td>\n",
       "</tr>\n",
       "</table><br/><br/>Warnings:<br/>[1] Standard Errors assume that the covariance matrix of the errors is correctly specified."
      ],
      "text/plain": [
       "<class 'statsmodels.iolib.summary.Summary'>\n",
       "\"\"\"\n",
       "                            OLS Regression Results                            \n",
       "==============================================================================\n",
       "Dep. Variable:            Consumption   R-squared:                       0.946\n",
       "Model:                            OLS   Adj. R-squared:                  0.945\n",
       "Method:                 Least Squares   F-statistic:                     878.3\n",
       "Date:                Tue, 18 Jun 2019   Prob (F-statistic):           2.20e-33\n",
       "Time:                        13:56:08   Log-Likelihood:                -50.623\n",
       "No. Observations:                  51   AIC:                             103.2\n",
       "Df Residuals:                      50   BIC:                             105.2\n",
       "Df Model:                           1                                         \n",
       "Covariance Type:            nonrobust                                         \n",
       "==============================================================================\n",
       "                 coef    std err          t      P>|t|      [0.025      0.975]\n",
       "------------------------------------------------------------------------------\n",
       "Tax            0.2656      0.009     29.637      0.000       0.248       0.284\n",
       "==============================================================================\n",
       "Omnibus:                        3.552   Durbin-Watson:                   0.542\n",
       "Prob(Omnibus):                  0.169   Jarque-Bera (JB):                2.394\n",
       "Skew:                           0.346   Prob(JB):                        0.302\n",
       "Kurtosis:                       2.194   Cond. No.                         1.00\n",
       "==============================================================================\n",
       "\n",
       "Warnings:\n",
       "[1] Standard Errors assume that the covariance matrix of the errors is correctly specified.\n",
       "\"\"\""
      ]
     },
     "execution_count": 76,
     "metadata": {},
     "output_type": "execute_result"
    }
   ],
   "source": [
    "X=df[\"Tax\"]\n",
    "y=df[\"Consumption\"]\n",
    "import statsmodels.api as sm\n",
    "model1=sm.OLS(y,X).fit()\n",
    "predictions=model1.predict(X)\n",
    "model1.summary()"
   ]
  },
  {
   "cell_type": "code",
   "execution_count": 77,
   "metadata": {},
   "outputs": [
    {
     "data": {
      "text/plain": [
       "LinearRegression(copy_X=True, fit_intercept=True, n_jobs=None,\n",
       "         normalize=False)"
      ]
     },
     "execution_count": 77,
     "metadata": {},
     "output_type": "execute_result"
    }
   ],
   "source": [
    "from sklearn.model_selection import train_test_split\n",
    "X_train,X_test,y_train,y_test=train_test_split(X,y,test_size=0.4,random_state=1)\n",
    "\n",
    "X_train=X_train.values.reshape(-1,1)\n",
    "\n",
    "from sklearn import linear_model as lm\n",
    "model=lm.LinearRegression()\n",
    "result=model.fit(X_train,y_train)\n",
    "result"
   ]
  },
  {
   "cell_type": "code",
   "execution_count": 78,
   "metadata": {},
   "outputs": [
    {
     "data": {
      "text/plain": [
       "22    2.549144\n",
       "2     1.227165\n",
       "49    4.781162\n",
       "26    2.337457\n",
       "33    2.924477\n",
       "44    3.721337\n",
       "30    2.682763\n",
       "50    4.781162\n",
       "32    2.868697\n",
       "27    2.371987\n",
       "3     1.227165\n",
       "29    2.480892\n",
       "47    4.409293\n",
       "41    3.461030\n",
       "39    3.423843\n",
       "21    2.127617\n",
       "40    3.431812\n",
       "38    3.203378\n",
       "19    1.861997\n",
       "24    2.204647\n",
       "13    1.575127\n",
       "dtype: float64"
      ]
     },
     "execution_count": 78,
     "metadata": {},
     "output_type": "execute_result"
    }
   ],
   "source": [
    "Y_test_prediction=model1.predict(X_test)\n",
    "Y_test_prediction\n"
   ]
  },
  {
   "cell_type": "code",
   "execution_count": 79,
   "metadata": {},
   "outputs": [
    {
     "name": "stdout",
     "output_type": "stream",
     "text": [
      "Accuracy of the model: 0.7593659741574523\n"
     ]
    }
   ],
   "source": [
    "accuracy=model.score(X_train,y_train)\n",
    "print('Accuracy of the model:',accuracy)"
   ]
  },
  {
   "cell_type": "code",
   "execution_count": 82,
   "metadata": {},
   "outputs": [
    {
     "data": {
      "text/html": [
       "<table class=\"simpletable\">\n",
       "<caption>OLS Regression Results</caption>\n",
       "<tr>\n",
       "  <th>Dep. Variable:</th>       <td>Consumption</td>   <th>  R-squared:         </th> <td>   0.896</td>\n",
       "</tr>\n",
       "<tr>\n",
       "  <th>Model:</th>                   <td>OLS</td>       <th>  Adj. R-squared:    </th> <td>   0.894</td>\n",
       "</tr>\n",
       "<tr>\n",
       "  <th>Method:</th>             <td>Least Squares</td>  <th>  F-statistic:       </th> <td>   432.7</td>\n",
       "</tr>\n",
       "<tr>\n",
       "  <th>Date:</th>             <td>Tue, 18 Jun 2019</td> <th>  Prob (F-statistic):</th> <td>2.85e-26</td>\n",
       "</tr>\n",
       "<tr>\n",
       "  <th>Time:</th>                 <td>13:57:03</td>     <th>  Log-Likelihood:    </th> <td> -67.298</td>\n",
       "</tr>\n",
       "<tr>\n",
       "  <th>No. Observations:</th>      <td>    51</td>      <th>  AIC:               </th> <td>   136.6</td>\n",
       "</tr>\n",
       "<tr>\n",
       "  <th>Df Residuals:</th>          <td>    50</td>      <th>  BIC:               </th> <td>   138.5</td>\n",
       "</tr>\n",
       "<tr>\n",
       "  <th>Df Model:</th>              <td>     1</td>      <th>                     </th>     <td> </td>   \n",
       "</tr>\n",
       "<tr>\n",
       "  <th>Covariance Type:</th>      <td>nonrobust</td>    <th>                     </th>     <td> </td>   \n",
       "</tr>\n",
       "</table>\n",
       "<table class=\"simpletable\">\n",
       "<tr>\n",
       "        <td></td>           <th>coef</th>     <th>std err</th>      <th>t</th>      <th>P>|t|</th>  <th>[0.025</th>    <th>0.975]</th>  \n",
       "</tr>\n",
       "<tr>\n",
       "  <th>Unemployement</th> <td>    0.5545</td> <td>    0.027</td> <td>   20.802</td> <td> 0.000</td> <td>    0.501</td> <td>    0.608</td>\n",
       "</tr>\n",
       "</table>\n",
       "<table class=\"simpletable\">\n",
       "<tr>\n",
       "  <th>Omnibus:</th>       <td>13.695</td> <th>  Durbin-Watson:     </th> <td>   0.097</td>\n",
       "</tr>\n",
       "<tr>\n",
       "  <th>Prob(Omnibus):</th> <td> 0.001</td> <th>  Jarque-Bera (JB):  </th> <td>  15.031</td>\n",
       "</tr>\n",
       "<tr>\n",
       "  <th>Skew:</th>          <td> 1.294</td> <th>  Prob(JB):          </th> <td>0.000545</td>\n",
       "</tr>\n",
       "<tr>\n",
       "  <th>Kurtosis:</th>      <td> 3.610</td> <th>  Cond. No.          </th> <td>    1.00</td>\n",
       "</tr>\n",
       "</table><br/><br/>Warnings:<br/>[1] Standard Errors assume that the covariance matrix of the errors is correctly specified."
      ],
      "text/plain": [
       "<class 'statsmodels.iolib.summary.Summary'>\n",
       "\"\"\"\n",
       "                            OLS Regression Results                            \n",
       "==============================================================================\n",
       "Dep. Variable:            Consumption   R-squared:                       0.896\n",
       "Model:                            OLS   Adj. R-squared:                  0.894\n",
       "Method:                 Least Squares   F-statistic:                     432.7\n",
       "Date:                Tue, 18 Jun 2019   Prob (F-statistic):           2.85e-26\n",
       "Time:                        13:57:03   Log-Likelihood:                -67.298\n",
       "No. Observations:                  51   AIC:                             136.6\n",
       "Df Residuals:                      50   BIC:                             138.5\n",
       "Df Model:                           1                                         \n",
       "Covariance Type:            nonrobust                                         \n",
       "=================================================================================\n",
       "                    coef    std err          t      P>|t|      [0.025      0.975]\n",
       "---------------------------------------------------------------------------------\n",
       "Unemployement     0.5545      0.027     20.802      0.000       0.501       0.608\n",
       "==============================================================================\n",
       "Omnibus:                       13.695   Durbin-Watson:                   0.097\n",
       "Prob(Omnibus):                  0.001   Jarque-Bera (JB):               15.031\n",
       "Skew:                           1.294   Prob(JB):                     0.000545\n",
       "Kurtosis:                       3.610   Cond. No.                         1.00\n",
       "==============================================================================\n",
       "\n",
       "Warnings:\n",
       "[1] Standard Errors assume that the covariance matrix of the errors is correctly specified.\n",
       "\"\"\""
      ]
     },
     "execution_count": 82,
     "metadata": {},
     "output_type": "execute_result"
    }
   ],
   "source": [
    "X=df[\"Unemployement\"]\n",
    "y=df[\"Consumption\"]\n",
    "import statsmodels.api as sm\n",
    "model1=sm.OLS(y,X).fit()\n",
    "predictions=model1.predict(X)\n",
    "model1.summary()"
   ]
  },
  {
   "cell_type": "code",
   "execution_count": 83,
   "metadata": {},
   "outputs": [
    {
     "data": {
      "text/plain": [
       "LinearRegression(copy_X=True, fit_intercept=True, n_jobs=None,\n",
       "         normalize=False)"
      ]
     },
     "execution_count": 83,
     "metadata": {},
     "output_type": "execute_result"
    }
   ],
   "source": [
    "from sklearn.model_selection import train_test_split\n",
    "X_train,X_test,y_train,y_test=train_test_split(X,y,test_size=0.4,random_state=1)\n",
    "\n",
    "X_train=X_train.values.reshape(-1,1)\n",
    "\n",
    "from sklearn import linear_model as lm\n",
    "model=lm.LinearRegression()\n",
    "result=model.fit(X_train,y_train)\n",
    "result"
   ]
  },
  {
   "cell_type": "code",
   "execution_count": 84,
   "metadata": {},
   "outputs": [
    {
     "data": {
      "text/plain": [
       "22    2.511737\n",
       "2     1.358445\n",
       "49    3.620671\n",
       "26    2.683621\n",
       "33    3.005212\n",
       "44    3.454331\n",
       "30    2.866596\n",
       "50    3.742654\n",
       "32    2.983034\n",
       "27    2.750157\n",
       "3     1.469338\n",
       "29    2.800059\n",
       "47    3.559680\n",
       "41    3.326803\n",
       "39    3.315714\n",
       "21    2.345396\n",
       "40    3.321259\n",
       "38    3.249178\n",
       "19    2.273316\n",
       "24    2.561639\n",
       "13    1.990537\n",
       "dtype: float64"
      ]
     },
     "execution_count": 84,
     "metadata": {},
     "output_type": "execute_result"
    }
   ],
   "source": [
    "Y_test_prediction=model1.predict(X_test)\n",
    "Y_test_prediction\n"
   ]
  },
  {
   "cell_type": "code",
   "execution_count": 85,
   "metadata": {},
   "outputs": [
    {
     "name": "stdout",
     "output_type": "stream",
     "text": [
      "Accuracy of the model: 0.6433146094342435\n"
     ]
    }
   ],
   "source": [
    "accuracy=model.score(X_train,y_train)\n",
    "print('Accuracy of the model:',accuracy)"
   ]
  },
  {
   "cell_type": "code",
   "execution_count": 86,
   "metadata": {},
   "outputs": [
    {
     "data": {
      "text/plain": [
       "2.4480392156862747"
      ]
     },
     "execution_count": 86,
     "metadata": {},
     "output_type": "execute_result"
    }
   ],
   "source": [
    "mean=df[\"Consumption\"].mean()\n",
    "mean"
   ]
  },
  {
   "cell_type": "code",
   "execution_count": 89,
   "metadata": {},
   "outputs": [
    {
     "data": {
      "text/plain": [
       "0     1.20\n",
       "1     1.20\n",
       "2     1.31\n",
       "3     1.30\n",
       "4     1.60\n",
       "5     1.80\n",
       "6     1.90\n",
       "7     1.05\n",
       "8     1.98\n",
       "9     1.31\n",
       "10    1.22\n",
       "11    1.10\n",
       "12    1.39\n",
       "13    1.01\n",
       "14    1.05\n",
       "15    1.09\n",
       "16    1.12\n",
       "17    1.45\n",
       "18    1.58\n",
       "19    1.68\n",
       "20    1.76\n",
       "21    1.84\n",
       "22    1.98\n",
       "23    2.10\n",
       "24    2.22\n",
       "25    2.34\n",
       "26    2.65\n",
       "27    2.41\n",
       "28    2.22\n",
       "29    2.13\n",
       "30    2.01\n",
       "31    2.06\n",
       "32    2.09\n",
       "33    2.06\n",
       "34    2.05\n",
       "35    2.15\n",
       "36    2.34\n",
       "37    2.40\n",
       "38    2.60\n",
       "39    2.80\n",
       "40    3.20\n",
       "41    3.90\n",
       "42    4.30\n",
       "43    4.50\n",
       "44    4.60\n",
       "45    4.80\n",
       "46    5.20\n",
       "47    5.40\n",
       "48    5.70\n",
       "49    5.80\n",
       "50    5.90\n",
       "Name: Consumption, dtype: float64"
      ]
     },
     "execution_count": 89,
     "metadata": {},
     "output_type": "execute_result"
    }
   ],
   "source": [
    "t=df[\"Tax\"]\n",
    "c=df[\"Consumption\"]\n",
    "c"
   ]
  },
  {
   "cell_type": "code",
   "execution_count": 90,
   "metadata": {},
   "outputs": [
    {
     "data": {
      "image/png": "[encoded data removed]",
      "text/plain": [
       "<Figure size 432x288 with 1 Axes>"
      ]
     },
     "metadata": {
      "needs_background": "light"
     },
     "output_type": "display_data"
    }
   ],
   "source": [
    "plt.plot(t,c,'o')\n",
    "plt.ylabel(\"Consumption\")\n",
    "plt.xlabel(\"Tax\")\n",
    "plt.axhline(mean, color='r', linestyle='-')\n",
    "plt.show()"
   ]
  },
  {
   "cell_type": "code",
   "execution_count": 93,
   "metadata": {},
   "outputs": [
    {
     "name": "stderr",
     "output_type": "stream",
     "text": [
      "C:\\Users\\sreev\\Anaconda3\\lib\\site-packages\\scipy\\stats\\stats.py:1713: FutureWarning: Using a non-tuple sequence for multidimensional indexing is deprecated; use `arr[tuple(seq)]` instead of `arr[seq]`. In the future this will be interpreted as an array index, `arr[np.array(seq)]`, which will result either in an error or a different result.\n",
      "  return np.add.reduce(sorted[indexer] * weights, axis=axis) / sumval\n"
     ]
    },
    {
     "data": {
      "text/plain": [
       "<matplotlib.axes._subplots.AxesSubplot at 0x20ed5e832b0>"
      ]
     },
     "execution_count": 93,
     "metadata": {},
     "output_type": "execute_result"
    },
    {
     "data": {
      "image/png": "[encoded data removed]",
      "text/plain": [
       "<Figure size 432x288 with 1 Axes>"
      ]
     },
     "metadata": {
      "needs_background": "light"
     },
     "output_type": "display_data"
    }
   ],
   "source": [
    "plt.plot(t,c,'o')\n",
    "plt.ylabel(\"Consumption\")\n",
    "plt.xlabel(\"Tax\")\n",
    "plt.axhline(mean, color='r', linestyle='-')\n",
    "sns.regplot(x='Tax', y='Consumption', data=df)"
   ]
  },
  {
   "cell_type": "code",
   "execution_count": 94,
   "metadata": {},
   "outputs": [
    {
     "data": {
      "text/plain": [
       "0     2.0100\n",
       "1     2.2500\n",
       "2     2.4500\n",
       "3     2.6500\n",
       "4     2.7800\n",
       "5     2.8600\n",
       "6     2.9800\n",
       "7     2.9900\n",
       "8     3.0300\n",
       "9     3.0500\n",
       "10    3.1300\n",
       "11    3.2400\n",
       "12    3.4600\n",
       "13    3.5900\n",
       "14    3.6800\n",
       "15    3.7500\n",
       "16    3.8500\n",
       "17    3.8800\n",
       "18    3.9500\n",
       "19    4.1000\n",
       "20    4.6184\n",
       "21    4.2300\n",
       "22    4.5300\n",
       "23    4.5500\n",
       "24    4.6200\n",
       "25    4.7500\n",
       "26    4.8400\n",
       "27    4.9600\n",
       "28    4.9900\n",
       "29    5.0500\n",
       "30    5.1700\n",
       "31    5.2800\n",
       "32    5.3800\n",
       "33    5.4200\n",
       "34    5.4700\n",
       "35    5.5500\n",
       "36    5.6200\n",
       "37    5.7500\n",
       "38    5.8600\n",
       "39    5.9800\n",
       "40    5.9900\n",
       "41    6.0000\n",
       "42    6.0500\n",
       "43    6.1700\n",
       "44    6.2300\n",
       "45    6.2700\n",
       "46    6.3500\n",
       "47    6.4200\n",
       "48    6.4800\n",
       "49    6.5300\n",
       "50    6.7500\n",
       "Name: Unemployement, dtype: float64"
      ]
     },
     "execution_count": 94,
     "metadata": {},
     "output_type": "execute_result"
    }
   ],
   "source": [
    "u=df[\"Unemployement\"]\n",
    "u"
   ]
  },
  {
   "cell_type": "code",
   "execution_count": 95,
   "metadata": {},
   "outputs": [
    {
     "data": {
      "image/png": "[encoded data removed]",
      "text/plain": [
       "<Figure size 432x288 with 1 Axes>"
      ]
     },
     "metadata": {
      "needs_background": "light"
     },
     "output_type": "display_data"
    }
   ],
   "source": [
    "plt.plot(u,c,'o')\n",
    "plt.ylabel(\"Consumption\")\n",
    "plt.xlabel(\"Unemployement\")\n",
    "plt.axhline(mean, color='r', linestyle='-')\n",
    "plt.show()"
   ]
  },
  {
   "cell_type": "code",
   "execution_count": 96,
   "metadata": {},
   "outputs": [
    {
     "data": {
      "text/plain": [
       "<matplotlib.axes._subplots.AxesSubplot at 0x20ed5f23e48>"
      ]
     },
     "execution_count": 96,
     "metadata": {},
     "output_type": "execute_result"
    },
    {
     "data": {
      "image/png": "[encoded data removed]",
      "text/plain": [
       "<Figure size 432x288 with 1 Axes>"
      ]
     },
     "metadata": {
      "needs_background": "light"
     },
     "output_type": "display_data"
    }
   ],
   "source": [
    "plt.plot(u,c,'o')\n",
    "plt.ylabel(\"Consumption\")\n",
    "plt.xlabel(\"Unemployement\")\n",
    "plt.axhline(mean, color='r', linestyle='-')\n",
    "sns.regplot(x='Unemployement', y='Consumption', data=df)"
   ]
  },
  {
   "cell_type": "code",
   "execution_count": null,
   "metadata": {},
   "outputs": [],
   "source": []
  }
 ],
 "metadata": {
  "kernelspec": {
   "display_name": "Python 3",
   "language": "python",
   "name": "python3"
  },
  "language_info": {
   "codemirror_mode": {
    "name": "ipython",
    "version": 3
   },
   "file_extension": ".py",
   "mimetype": "text/x-python",
   "name": "python",
   "nbconvert_exporter": "python",
   "pygments_lexer": "ipython3",
   "version": "3.7.3"
  }
 },
 "nbformat": 4,
 "nbformat_minor": 2
}
