{
 "cells": [
  {
   "cell_type": "code",
   "execution_count": 1,
   "metadata": {},
   "outputs": [],
   "source": [
    "import os"
   ]
  },
  {
   "cell_type": "code",
   "execution_count": 2,
   "metadata": {},
   "outputs": [],
   "source": [
    "os.chdir(\"C:/Users/User/Desktop/datasets\")"
   ]
  },
  {
   "cell_type": "code",
   "execution_count": 5,
   "metadata": {},
   "outputs": [
    {
     "data": {
      "text/html": [
       "<div>\n",
       "<style scoped>\n",
       "    .dataframe tbody tr th:only-of-type {\n",
       "        vertical-align: middle;\n",
       "    }\n",
       "\n",
       "    .dataframe tbody tr th {\n",
       "        vertical-align: top;\n",
       "    }\n",
       "\n",
       "    .dataframe thead th {\n",
       "        text-align: right;\n",
       "    }\n",
       "</style>\n",
       "<table border=\"1\" class=\"dataframe\">\n",
       "  <thead>\n",
       "    <tr style=\"text-align: right;\">\n",
       "      <th></th>\n",
       "      <th>Year</th>\n",
       "      <th>Tax</th>\n",
       "      <th>Unemployement</th>\n",
       "      <th>Death</th>\n",
       "      <th>Consumption</th>\n",
       "    </tr>\n",
       "  </thead>\n",
       "  <tbody>\n",
       "    <tr>\n",
       "      <th>0</th>\n",
       "      <td>1968</td>\n",
       "      <td>4.56</td>\n",
       "      <td>6.400</td>\n",
       "      <td>800.0</td>\n",
       "      <td>1.20</td>\n",
       "    </tr>\n",
       "    <tr>\n",
       "      <th>1</th>\n",
       "      <td>1969</td>\n",
       "      <td>4.89</td>\n",
       "      <td>5.900</td>\n",
       "      <td>889.0</td>\n",
       "      <td>1.20</td>\n",
       "    </tr>\n",
       "    <tr>\n",
       "      <th>2</th>\n",
       "      <td>1970</td>\n",
       "      <td>4.62</td>\n",
       "      <td>5.800</td>\n",
       "      <td>910.0</td>\n",
       "      <td>1.31</td>\n",
       "    </tr>\n",
       "    <tr>\n",
       "      <th>3</th>\n",
       "      <td>1971</td>\n",
       "      <td>4.62</td>\n",
       "      <td>5.600</td>\n",
       "      <td>NaN</td>\n",
       "      <td>1.30</td>\n",
       "    </tr>\n",
       "    <tr>\n",
       "      <th>4</th>\n",
       "      <td>1972</td>\n",
       "      <td>NaN</td>\n",
       "      <td>4.980</td>\n",
       "      <td>900.0</td>\n",
       "      <td>1.60</td>\n",
       "    </tr>\n",
       "    <tr>\n",
       "      <th>5</th>\n",
       "      <td>1973</td>\n",
       "      <td>4.80</td>\n",
       "      <td>4.680</td>\n",
       "      <td>790.0</td>\n",
       "      <td>1.80</td>\n",
       "    </tr>\n",
       "    <tr>\n",
       "      <th>6</th>\n",
       "      <td>1974</td>\n",
       "      <td>4.82</td>\n",
       "      <td>4.500</td>\n",
       "      <td>855.0</td>\n",
       "      <td>1.90</td>\n",
       "    </tr>\n",
       "    <tr>\n",
       "      <th>7</th>\n",
       "      <td>1975</td>\n",
       "      <td>4.91</td>\n",
       "      <td>NaN</td>\n",
       "      <td>974.0</td>\n",
       "      <td>1.05</td>\n",
       "    </tr>\n",
       "    <tr>\n",
       "      <th>8</th>\n",
       "      <td>1976</td>\n",
       "      <td>5.01</td>\n",
       "      <td>5.200</td>\n",
       "      <td>1021.0</td>\n",
       "      <td>1.98</td>\n",
       "    </tr>\n",
       "    <tr>\n",
       "      <th>9</th>\n",
       "      <td>1977</td>\n",
       "      <td>NaN</td>\n",
       "      <td>5.300</td>\n",
       "      <td>1234.0</td>\n",
       "      <td>1.31</td>\n",
       "    </tr>\n",
       "    <tr>\n",
       "      <th>10</th>\n",
       "      <td>1978</td>\n",
       "      <td>NaN</td>\n",
       "      <td>5.800</td>\n",
       "      <td>1278.0</td>\n",
       "      <td>1.22</td>\n",
       "    </tr>\n",
       "    <tr>\n",
       "      <th>11</th>\n",
       "      <td>1979</td>\n",
       "      <td>5.50</td>\n",
       "      <td>NaN</td>\n",
       "      <td>NaN</td>\n",
       "      <td>1.10</td>\n",
       "    </tr>\n",
       "    <tr>\n",
       "      <th>12</th>\n",
       "      <td>1980</td>\n",
       "      <td>5.80</td>\n",
       "      <td>6.300</td>\n",
       "      <td>NaN</td>\n",
       "      <td>1.39</td>\n",
       "    </tr>\n",
       "    <tr>\n",
       "      <th>13</th>\n",
       "      <td>1981</td>\n",
       "      <td>5.93</td>\n",
       "      <td>5.900</td>\n",
       "      <td>1278.0</td>\n",
       "      <td>1.01</td>\n",
       "    </tr>\n",
       "    <tr>\n",
       "      <th>14</th>\n",
       "      <td>1982</td>\n",
       "      <td>6.25</td>\n",
       "      <td>4.600</td>\n",
       "      <td>1278.0</td>\n",
       "      <td>1.05</td>\n",
       "    </tr>\n",
       "    <tr>\n",
       "      <th>15</th>\n",
       "      <td>1983</td>\n",
       "      <td>6.50</td>\n",
       "      <td>4.300</td>\n",
       "      <td>1333.0</td>\n",
       "      <td>1.09</td>\n",
       "    </tr>\n",
       "    <tr>\n",
       "      <th>16</th>\n",
       "      <td>1984</td>\n",
       "      <td>6.50</td>\n",
       "      <td>4.800</td>\n",
       "      <td>1334.0</td>\n",
       "      <td>1.12</td>\n",
       "    </tr>\n",
       "    <tr>\n",
       "      <th>17</th>\n",
       "      <td>1985</td>\n",
       "      <td>6.82</td>\n",
       "      <td>4.100</td>\n",
       "      <td>1368.0</td>\n",
       "      <td>1.45</td>\n",
       "    </tr>\n",
       "    <tr>\n",
       "      <th>18</th>\n",
       "      <td>1986</td>\n",
       "      <td>6.96</td>\n",
       "      <td>3.900</td>\n",
       "      <td>1101.0</td>\n",
       "      <td>1.58</td>\n",
       "    </tr>\n",
       "    <tr>\n",
       "      <th>19</th>\n",
       "      <td>1987</td>\n",
       "      <td>7.01</td>\n",
       "      <td>3.500</td>\n",
       "      <td>1106.0</td>\n",
       "      <td>1.68</td>\n",
       "    </tr>\n",
       "    <tr>\n",
       "      <th>20</th>\n",
       "      <td>1988</td>\n",
       "      <td>7.98</td>\n",
       "      <td>NaN</td>\n",
       "      <td>1308.0</td>\n",
       "      <td>1.76</td>\n",
       "    </tr>\n",
       "    <tr>\n",
       "      <th>21</th>\n",
       "      <td>1989</td>\n",
       "      <td>8.01</td>\n",
       "      <td>2.900</td>\n",
       "      <td>999.0</td>\n",
       "      <td>1.84</td>\n",
       "    </tr>\n",
       "    <tr>\n",
       "      <th>22</th>\n",
       "      <td>1990</td>\n",
       "      <td>NaN</td>\n",
       "      <td>2.460</td>\n",
       "      <td>1000.0</td>\n",
       "      <td>1.98</td>\n",
       "    </tr>\n",
       "    <tr>\n",
       "      <th>23</th>\n",
       "      <td>1991</td>\n",
       "      <td>8.05</td>\n",
       "      <td>2.390</td>\n",
       "      <td>1105.0</td>\n",
       "      <td>2.10</td>\n",
       "    </tr>\n",
       "    <tr>\n",
       "      <th>24</th>\n",
       "      <td>1992</td>\n",
       "      <td>8.30</td>\n",
       "      <td>2.400</td>\n",
       "      <td>1199.0</td>\n",
       "      <td>2.22</td>\n",
       "    </tr>\n",
       "    <tr>\n",
       "      <th>25</th>\n",
       "      <td>1993</td>\n",
       "      <td>8.50</td>\n",
       "      <td>2.580</td>\n",
       "      <td>NaN</td>\n",
       "      <td>2.34</td>\n",
       "    </tr>\n",
       "    <tr>\n",
       "      <th>26</th>\n",
       "      <td>1994</td>\n",
       "      <td>8.80</td>\n",
       "      <td>2.600</td>\n",
       "      <td>1220.0</td>\n",
       "      <td>2.65</td>\n",
       "    </tr>\n",
       "    <tr>\n",
       "      <th>27</th>\n",
       "      <td>1995</td>\n",
       "      <td>8.93</td>\n",
       "      <td>2.620</td>\n",
       "      <td>1350.0</td>\n",
       "      <td>2.41</td>\n",
       "    </tr>\n",
       "    <tr>\n",
       "      <th>28</th>\n",
       "      <td>1996</td>\n",
       "      <td>9.12</td>\n",
       "      <td>2.680</td>\n",
       "      <td>1440.0</td>\n",
       "      <td>2.22</td>\n",
       "    </tr>\n",
       "    <tr>\n",
       "      <th>29</th>\n",
       "      <td>1997</td>\n",
       "      <td>9.34</td>\n",
       "      <td>2.640</td>\n",
       "      <td>1590.0</td>\n",
       "      <td>2.13</td>\n",
       "    </tr>\n",
       "    <tr>\n",
       "      <th>30</th>\n",
       "      <td>1998</td>\n",
       "      <td>10.10</td>\n",
       "      <td>2.700</td>\n",
       "      <td>1700.0</td>\n",
       "      <td>2.01</td>\n",
       "    </tr>\n",
       "    <tr>\n",
       "      <th>31</th>\n",
       "      <td>1999</td>\n",
       "      <td>10.60</td>\n",
       "      <td>2.770</td>\n",
       "      <td>2050.0</td>\n",
       "      <td>2.06</td>\n",
       "    </tr>\n",
       "    <tr>\n",
       "      <th>32</th>\n",
       "      <td>2000</td>\n",
       "      <td>10.80</td>\n",
       "      <td>2.790</td>\n",
       "      <td>2251.0</td>\n",
       "      <td>2.09</td>\n",
       "    </tr>\n",
       "    <tr>\n",
       "      <th>33</th>\n",
       "      <td>2001</td>\n",
       "      <td>11.01</td>\n",
       "      <td>2.800</td>\n",
       "      <td>2489.0</td>\n",
       "      <td>2.06</td>\n",
       "    </tr>\n",
       "    <tr>\n",
       "      <th>34</th>\n",
       "      <td>2002</td>\n",
       "      <td>11.43</td>\n",
       "      <td>2.900</td>\n",
       "      <td>3040.0</td>\n",
       "      <td>2.05</td>\n",
       "    </tr>\n",
       "    <tr>\n",
       "      <th>35</th>\n",
       "      <td>2003</td>\n",
       "      <td>11.43</td>\n",
       "      <td>3.350</td>\n",
       "      <td>3655.0</td>\n",
       "      <td>2.15</td>\n",
       "    </tr>\n",
       "    <tr>\n",
       "      <th>36</th>\n",
       "      <td>2004</td>\n",
       "      <td>NaN</td>\n",
       "      <td>3.100</td>\n",
       "      <td>3899.0</td>\n",
       "      <td>2.34</td>\n",
       "    </tr>\n",
       "    <tr>\n",
       "      <th>37</th>\n",
       "      <td>2005</td>\n",
       "      <td>11.00</td>\n",
       "      <td>3.000</td>\n",
       "      <td>400.0</td>\n",
       "      <td>2.40</td>\n",
       "    </tr>\n",
       "    <tr>\n",
       "      <th>38</th>\n",
       "      <td>2006</td>\n",
       "      <td>12.06</td>\n",
       "      <td>3.000</td>\n",
       "      <td>4220.0</td>\n",
       "      <td>2.60</td>\n",
       "    </tr>\n",
       "    <tr>\n",
       "      <th>39</th>\n",
       "      <td>2007</td>\n",
       "      <td>12.89</td>\n",
       "      <td>2.399</td>\n",
       "      <td>4308.0</td>\n",
       "      <td>2.80</td>\n",
       "    </tr>\n",
       "    <tr>\n",
       "      <th>40</th>\n",
       "      <td>2008</td>\n",
       "      <td>12.92</td>\n",
       "      <td>2.268</td>\n",
       "      <td>4483.0</td>\n",
       "      <td>3.20</td>\n",
       "    </tr>\n",
       "    <tr>\n",
       "      <th>41</th>\n",
       "      <td>2009</td>\n",
       "      <td>13.03</td>\n",
       "      <td>2.475</td>\n",
       "      <td>4486.0</td>\n",
       "      <td>3.90</td>\n",
       "    </tr>\n",
       "    <tr>\n",
       "      <th>42</th>\n",
       "      <td>2010</td>\n",
       "      <td>13.06</td>\n",
       "      <td>2.444</td>\n",
       "      <td>4547.0</td>\n",
       "      <td>4.30</td>\n",
       "    </tr>\n",
       "    <tr>\n",
       "      <th>43</th>\n",
       "      <td>2011</td>\n",
       "      <td>13.68</td>\n",
       "      <td>2.519</td>\n",
       "      <td>5478.0</td>\n",
       "      <td>4.50</td>\n",
       "    </tr>\n",
       "    <tr>\n",
       "      <th>44</th>\n",
       "      <td>2012</td>\n",
       "      <td>14.01</td>\n",
       "      <td>2.690</td>\n",
       "      <td>6789.0</td>\n",
       "      <td>4.60</td>\n",
       "    </tr>\n",
       "    <tr>\n",
       "      <th>45</th>\n",
       "      <td>2013</td>\n",
       "      <td>15.01</td>\n",
       "      <td>2.823</td>\n",
       "      <td>8978.0</td>\n",
       "      <td>4.80</td>\n",
       "    </tr>\n",
       "    <tr>\n",
       "      <th>46</th>\n",
       "      <td>2014</td>\n",
       "      <td>15.80</td>\n",
       "      <td>2.765</td>\n",
       "      <td>8875.0</td>\n",
       "      <td>5.20</td>\n",
       "    </tr>\n",
       "    <tr>\n",
       "      <th>47</th>\n",
       "      <td>2015</td>\n",
       "      <td>16.60</td>\n",
       "      <td>2.782</td>\n",
       "      <td>8952.0</td>\n",
       "      <td>5.40</td>\n",
       "    </tr>\n",
       "    <tr>\n",
       "      <th>48</th>\n",
       "      <td>2016</td>\n",
       "      <td>17.50</td>\n",
       "      <td>2.730</td>\n",
       "      <td>9000.0</td>\n",
       "      <td>5.70</td>\n",
       "    </tr>\n",
       "    <tr>\n",
       "      <th>49</th>\n",
       "      <td>2017</td>\n",
       "      <td>18.00</td>\n",
       "      <td>2.557</td>\n",
       "      <td>9006.0</td>\n",
       "      <td>5.80</td>\n",
       "    </tr>\n",
       "    <tr>\n",
       "      <th>50</th>\n",
       "      <td>2018</td>\n",
       "      <td>18.00</td>\n",
       "      <td>2.551</td>\n",
       "      <td>9105.0</td>\n",
       "      <td>5.90</td>\n",
       "    </tr>\n",
       "  </tbody>\n",
       "</table>\n",
       "</div>"
      ],
      "text/plain": [
       "    Year    Tax  Unemployement   Death  Consumption\n",
       "0   1968   4.56          6.400   800.0         1.20\n",
       "1   1969   4.89          5.900   889.0         1.20\n",
       "2   1970   4.62          5.800   910.0         1.31\n",
       "3   1971   4.62          5.600     NaN         1.30\n",
       "4   1972    NaN          4.980   900.0         1.60\n",
       "5   1973   4.80          4.680   790.0         1.80\n",
       "6   1974   4.82          4.500   855.0         1.90\n",
       "7   1975   4.91            NaN   974.0         1.05\n",
       "8   1976   5.01          5.200  1021.0         1.98\n",
       "9   1977    NaN          5.300  1234.0         1.31\n",
       "10  1978    NaN          5.800  1278.0         1.22\n",
       "11  1979   5.50            NaN     NaN         1.10\n",
       "12  1980   5.80          6.300     NaN         1.39\n",
       "13  1981   5.93          5.900  1278.0         1.01\n",
       "14  1982   6.25          4.600  1278.0         1.05\n",
       "15  1983   6.50          4.300  1333.0         1.09\n",
       "16  1984   6.50          4.800  1334.0         1.12\n",
       "17  1985   6.82          4.100  1368.0         1.45\n",
       "18  1986   6.96          3.900  1101.0         1.58\n",
       "19  1987   7.01          3.500  1106.0         1.68\n",
       "20  1988   7.98            NaN  1308.0         1.76\n",
       "21  1989   8.01          2.900   999.0         1.84\n",
       "22  1990    NaN          2.460  1000.0         1.98\n",
       "23  1991   8.05          2.390  1105.0         2.10\n",
       "24  1992   8.30          2.400  1199.0         2.22\n",
       "25  1993   8.50          2.580     NaN         2.34\n",
       "26  1994   8.80          2.600  1220.0         2.65\n",
       "27  1995   8.93          2.620  1350.0         2.41\n",
       "28  1996   9.12          2.680  1440.0         2.22\n",
       "29  1997   9.34          2.640  1590.0         2.13\n",
       "30  1998  10.10          2.700  1700.0         2.01\n",
       "31  1999  10.60          2.770  2050.0         2.06\n",
       "32  2000  10.80          2.790  2251.0         2.09\n",
       "33  2001  11.01          2.800  2489.0         2.06\n",
       "34  2002  11.43          2.900  3040.0         2.05\n",
       "35  2003  11.43          3.350  3655.0         2.15\n",
       "36  2004    NaN          3.100  3899.0         2.34\n",
       "37  2005  11.00          3.000   400.0         2.40\n",
       "38  2006  12.06          3.000  4220.0         2.60\n",
       "39  2007  12.89          2.399  4308.0         2.80\n",
       "40  2008  12.92          2.268  4483.0         3.20\n",
       "41  2009  13.03          2.475  4486.0         3.90\n",
       "42  2010  13.06          2.444  4547.0         4.30\n",
       "43  2011  13.68          2.519  5478.0         4.50\n",
       "44  2012  14.01          2.690  6789.0         4.60\n",
       "45  2013  15.01          2.823  8978.0         4.80\n",
       "46  2014  15.80          2.765  8875.0         5.20\n",
       "47  2015  16.60          2.782  8952.0         5.40\n",
       "48  2016  17.50          2.730  9000.0         5.70\n",
       "49  2017  18.00          2.557  9006.0         5.80\n",
       "50  2018  18.00          2.551  9105.0         5.90"
      ]
     },
     "execution_count": 5,
     "metadata": {},
     "output_type": "execute_result"
    }
   ],
   "source": [
    "import numpy as np\n",
    "import pandas as pd\n",
    "data1=pd.read_excel(\"alcohol.xlsx\")\n",
    "data1"
   ]
  },
  {
   "cell_type": "code",
   "execution_count": 6,
   "metadata": {},
   "outputs": [
    {
     "data": {
      "text/html": [
       "<div>\n",
       "<style scoped>\n",
       "    .dataframe tbody tr th:only-of-type {\n",
       "        vertical-align: middle;\n",
       "    }\n",
       "\n",
       "    .dataframe tbody tr th {\n",
       "        vertical-align: top;\n",
       "    }\n",
       "\n",
       "    .dataframe thead th {\n",
       "        text-align: right;\n",
       "    }\n",
       "</style>\n",
       "<table border=\"1\" class=\"dataframe\">\n",
       "  <thead>\n",
       "    <tr style=\"text-align: right;\">\n",
       "      <th></th>\n",
       "      <th>Year</th>\n",
       "      <th>Tax</th>\n",
       "      <th>Unemployement</th>\n",
       "      <th>Death</th>\n",
       "      <th>Consumption</th>\n",
       "    </tr>\n",
       "  </thead>\n",
       "  <tbody>\n",
       "    <tr>\n",
       "      <th>count</th>\n",
       "      <td>51.000000</td>\n",
       "      <td>46.000000</td>\n",
       "      <td>48.000000</td>\n",
       "      <td>47.000000</td>\n",
       "      <td>51.000000</td>\n",
       "    </tr>\n",
       "    <tr>\n",
       "      <th>mean</th>\n",
       "      <td>1993.000000</td>\n",
       "      <td>9.596957</td>\n",
       "      <td>3.588396</td>\n",
       "      <td>2922.787234</td>\n",
       "      <td>2.448039</td>\n",
       "    </tr>\n",
       "    <tr>\n",
       "      <th>std</th>\n",
       "      <td>14.866069</td>\n",
       "      <td>3.988459</td>\n",
       "      <td>1.292407</td>\n",
       "      <td>2749.198887</td>\n",
       "      <td>1.400099</td>\n",
       "    </tr>\n",
       "    <tr>\n",
       "      <th>min</th>\n",
       "      <td>1968.000000</td>\n",
       "      <td>4.560000</td>\n",
       "      <td>2.268000</td>\n",
       "      <td>400.000000</td>\n",
       "      <td>1.010000</td>\n",
       "    </tr>\n",
       "    <tr>\n",
       "      <th>25%</th>\n",
       "      <td>1980.500000</td>\n",
       "      <td>6.312500</td>\n",
       "      <td>2.615000</td>\n",
       "      <td>1103.000000</td>\n",
       "      <td>1.420000</td>\n",
       "    </tr>\n",
       "    <tr>\n",
       "      <th>50%</th>\n",
       "      <td>1993.000000</td>\n",
       "      <td>8.865000</td>\n",
       "      <td>2.861500</td>\n",
       "      <td>1350.000000</td>\n",
       "      <td>2.060000</td>\n",
       "    </tr>\n",
       "    <tr>\n",
       "      <th>75%</th>\n",
       "      <td>2005.500000</td>\n",
       "      <td>12.682500</td>\n",
       "      <td>4.620000</td>\n",
       "      <td>4264.000000</td>\n",
       "      <td>2.625000</td>\n",
       "    </tr>\n",
       "    <tr>\n",
       "      <th>max</th>\n",
       "      <td>2018.000000</td>\n",
       "      <td>18.000000</td>\n",
       "      <td>6.400000</td>\n",
       "      <td>9105.000000</td>\n",
       "      <td>5.900000</td>\n",
       "    </tr>\n",
       "  </tbody>\n",
       "</table>\n",
       "</div>"
      ],
      "text/plain": [
       "              Year        Tax  Unemployement        Death  Consumption\n",
       "count    51.000000  46.000000      48.000000    47.000000    51.000000\n",
       "mean   1993.000000   9.596957       3.588396  2922.787234     2.448039\n",
       "std      14.866069   3.988459       1.292407  2749.198887     1.400099\n",
       "min    1968.000000   4.560000       2.268000   400.000000     1.010000\n",
       "25%    1980.500000   6.312500       2.615000  1103.000000     1.420000\n",
       "50%    1993.000000   8.865000       2.861500  1350.000000     2.060000\n",
       "75%    2005.500000  12.682500       4.620000  4264.000000     2.625000\n",
       "max    2018.000000  18.000000       6.400000  9105.000000     5.900000"
      ]
     },
     "execution_count": 6,
     "metadata": {},
     "output_type": "execute_result"
    }
   ],
   "source": [
    "data1.describe()"
   ]
  },
  {
   "cell_type": "code",
   "execution_count": 7,
   "metadata": {},
   "outputs": [
    {
     "data": {
      "text/html": [
       "<div>\n",
       "<style scoped>\n",
       "    .dataframe tbody tr th:only-of-type {\n",
       "        vertical-align: middle;\n",
       "    }\n",
       "\n",
       "    .dataframe tbody tr th {\n",
       "        vertical-align: top;\n",
       "    }\n",
       "\n",
       "    .dataframe thead th {\n",
       "        text-align: right;\n",
       "    }\n",
       "</style>\n",
       "<table border=\"1\" class=\"dataframe\">\n",
       "  <thead>\n",
       "    <tr style=\"text-align: right;\">\n",
       "      <th></th>\n",
       "      <th>Year</th>\n",
       "      <th>Tax</th>\n",
       "      <th>Unemployement</th>\n",
       "      <th>Death</th>\n",
       "      <th>Consumption</th>\n",
       "    </tr>\n",
       "  </thead>\n",
       "  <tbody>\n",
       "    <tr>\n",
       "      <th>Year</th>\n",
       "      <td>221.000000</td>\n",
       "      <td>57.641198</td>\n",
       "      <td>-16.075588</td>\n",
       "      <td>3.322197e+04</td>\n",
       "      <td>17.658600</td>\n",
       "    </tr>\n",
       "    <tr>\n",
       "      <th>Tax</th>\n",
       "      <td>57.641198</td>\n",
       "      <td>15.907804</td>\n",
       "      <td>-3.699447</td>\n",
       "      <td>1.036762e+04</td>\n",
       "      <td>5.325108</td>\n",
       "    </tr>\n",
       "    <tr>\n",
       "      <th>Unemployement</th>\n",
       "      <td>-16.075588</td>\n",
       "      <td>-3.699447</td>\n",
       "      <td>1.670315</td>\n",
       "      <td>-1.608672e+03</td>\n",
       "      <td>-1.101023</td>\n",
       "    </tr>\n",
       "    <tr>\n",
       "      <th>Death</th>\n",
       "      <td>33221.965772</td>\n",
       "      <td>10367.615784</td>\n",
       "      <td>-1608.671685</td>\n",
       "      <td>7.558095e+06</td>\n",
       "      <td>3675.191947</td>\n",
       "    </tr>\n",
       "    <tr>\n",
       "      <th>Consumption</th>\n",
       "      <td>17.658600</td>\n",
       "      <td>5.325108</td>\n",
       "      <td>-1.101023</td>\n",
       "      <td>3.675192e+03</td>\n",
       "      <td>1.960276</td>\n",
       "    </tr>\n",
       "  </tbody>\n",
       "</table>\n",
       "</div>"
      ],
      "text/plain": [
       "                       Year           Tax  Unemployement         Death  \\\n",
       "Year             221.000000     57.641198     -16.075588  3.322197e+04   \n",
       "Tax               57.641198     15.907804      -3.699447  1.036762e+04   \n",
       "Unemployement    -16.075588     -3.699447       1.670315 -1.608672e+03   \n",
       "Death          33221.965772  10367.615784   -1608.671685  7.558095e+06   \n",
       "Consumption       17.658600      5.325108      -1.101023  3.675192e+03   \n",
       "\n",
       "               Consumption  \n",
       "Year             17.658600  \n",
       "Tax               5.325108  \n",
       "Unemployement    -1.101023  \n",
       "Death          3675.191947  \n",
       "Consumption       1.960276  "
      ]
     },
     "execution_count": 7,
     "metadata": {},
     "output_type": "execute_result"
    }
   ],
   "source": [
    "data1.cov()"
   ]
  },
  {
   "cell_type": "code",
   "execution_count": 8,
   "metadata": {},
   "outputs": [
    {
     "data": {
      "text/html": [
       "<div>\n",
       "<style scoped>\n",
       "    .dataframe tbody tr th:only-of-type {\n",
       "        vertical-align: middle;\n",
       "    }\n",
       "\n",
       "    .dataframe tbody tr th {\n",
       "        vertical-align: top;\n",
       "    }\n",
       "\n",
       "    .dataframe thead th {\n",
       "        text-align: right;\n",
       "    }\n",
       "</style>\n",
       "<table border=\"1\" class=\"dataframe\">\n",
       "  <thead>\n",
       "    <tr style=\"text-align: right;\">\n",
       "      <th></th>\n",
       "      <th>Year</th>\n",
       "      <th>Tax</th>\n",
       "      <th>Unemployement</th>\n",
       "      <th>Death</th>\n",
       "      <th>Consumption</th>\n",
       "    </tr>\n",
       "  </thead>\n",
       "  <tbody>\n",
       "    <tr>\n",
       "      <th>Year</th>\n",
       "      <td>1.000000</td>\n",
       "      <td>0.971614</td>\n",
       "      <td>-0.833123</td>\n",
       "      <td>0.813517</td>\n",
       "      <td>0.848402</td>\n",
       "    </tr>\n",
       "    <tr>\n",
       "      <th>Tax</th>\n",
       "      <td>0.971614</td>\n",
       "      <td>1.000000</td>\n",
       "      <td>-0.732726</td>\n",
       "      <td>0.911623</td>\n",
       "      <td>0.924027</td>\n",
       "    </tr>\n",
       "    <tr>\n",
       "      <th>Unemployement</th>\n",
       "      <td>-0.833123</td>\n",
       "      <td>-0.732726</td>\n",
       "      <td>1.000000</td>\n",
       "      <td>-0.472606</td>\n",
       "      <td>-0.603931</td>\n",
       "    </tr>\n",
       "    <tr>\n",
       "      <th>Death</th>\n",
       "      <td>0.813517</td>\n",
       "      <td>0.911623</td>\n",
       "      <td>-0.472606</td>\n",
       "      <td>1.000000</td>\n",
       "      <td>0.937853</td>\n",
       "    </tr>\n",
       "    <tr>\n",
       "      <th>Consumption</th>\n",
       "      <td>0.848402</td>\n",
       "      <td>0.924027</td>\n",
       "      <td>-0.603931</td>\n",
       "      <td>0.937853</td>\n",
       "      <td>1.000000</td>\n",
       "    </tr>\n",
       "  </tbody>\n",
       "</table>\n",
       "</div>"
      ],
      "text/plain": [
       "                   Year       Tax  Unemployement     Death  Consumption\n",
       "Year           1.000000  0.971614      -0.833123  0.813517     0.848402\n",
       "Tax            0.971614  1.000000      -0.732726  0.911623     0.924027\n",
       "Unemployement -0.833123 -0.732726       1.000000 -0.472606    -0.603931\n",
       "Death          0.813517  0.911623      -0.472606  1.000000     0.937853\n",
       "Consumption    0.848402  0.924027      -0.603931  0.937853     1.000000"
      ]
     },
     "execution_count": 8,
     "metadata": {},
     "output_type": "execute_result"
    }
   ],
   "source": [
    "data1.corr()\n"
   ]
  },
  {
   "cell_type": "code",
   "execution_count": 9,
   "metadata": {},
   "outputs": [
    {
     "data": {
      "text/plain": [
       "Index(['Year', 'Tax', 'Unemployement', 'Death', 'Consumption'], dtype='object')"
      ]
     },
     "execution_count": 9,
     "metadata": {},
     "output_type": "execute_result"
    }
   ],
   "source": [
    "data1.columns"
   ]
  },
  {
   "cell_type": "code",
   "execution_count": 10,
   "metadata": {},
   "outputs": [
    {
     "data": {
      "text/plain": [
       "Year               int64\n",
       "Tax              float64\n",
       "Unemployement    float64\n",
       "Death            float64\n",
       "Consumption      float64\n",
       "dtype: object"
      ]
     },
     "execution_count": 10,
     "metadata": {},
     "output_type": "execute_result"
    }
   ],
   "source": [
    "data1.dtypes"
   ]
  },
  {
   "cell_type": "code",
   "execution_count": 11,
   "metadata": {},
   "outputs": [
    {
     "data": {
      "text/plain": [
       "Year             0\n",
       "Tax              5\n",
       "Unemployement    3\n",
       "Death            4\n",
       "Consumption      0\n",
       "dtype: int64"
      ]
     },
     "execution_count": 11,
     "metadata": {},
     "output_type": "execute_result"
    }
   ],
   "source": [
    "data1.apply(lambda x:sum(x.isnull()),axis=0)"
   ]
  },
  {
   "cell_type": "code",
   "execution_count": 12,
   "metadata": {},
   "outputs": [],
   "source": [
    "features=data1.iloc[:,:].values"
   ]
  },
  {
   "cell_type": "code",
   "execution_count": 13,
   "metadata": {},
   "outputs": [
    {
     "name": "stderr",
     "output_type": "stream",
     "text": [
      "C:\\Users\\User\\Anaconda3\\lib\\site-packages\\sklearn\\utils\\deprecation.py:58: DeprecationWarning: Class Imputer is deprecated; Imputer was deprecated in version 0.20 and will be removed in 0.22. Import impute.SimpleImputer from sklearn instead.\n",
      "  warnings.warn(msg, category=DeprecationWarning)\n"
     ]
    }
   ],
   "source": [
    "from sklearn.preprocessing import Imputer\n",
    "imp=Imputer(missing_values='NaN',strategy='mean',axis=0)"
   ]
  },
  {
   "cell_type": "code",
   "execution_count": 14,
   "metadata": {},
   "outputs": [],
   "source": [
    "imp.fit(features[:,:])\n",
    "features[:,:]=imp.fit_transform(features[:,:])"
   ]
  },
  {
   "cell_type": "code",
   "execution_count": 15,
   "metadata": {},
   "outputs": [
    {
     "data": {
      "text/plain": [
       "Year             0\n",
       "Tax              5\n",
       "Unemployement    3\n",
       "Death            4\n",
       "Consumption      0\n",
       "dtype: int64"
      ]
     },
     "execution_count": 15,
     "metadata": {},
     "output_type": "execute_result"
    }
   ],
   "source": [
    "data1.apply(lambda x:sum(x.isnull()),axis=0)"
   ]
  },
  {
   "cell_type": "code",
   "execution_count": 16,
   "metadata": {},
   "outputs": [],
   "source": [
    "df=pd.DataFrame(features)"
   ]
  },
  {
   "cell_type": "code",
   "execution_count": 17,
   "metadata": {},
   "outputs": [
    {
     "data": {
      "text/plain": [
       "0    0\n",
       "1    0\n",
       "2    0\n",
       "3    0\n",
       "4    0\n",
       "dtype: int64"
      ]
     },
     "execution_count": 17,
     "metadata": {},
     "output_type": "execute_result"
    }
   ],
   "source": [
    "df.apply(lambda x:sum(x.isnull()),axis=0)"
   ]
  },
  {
   "cell_type": "code",
   "execution_count": 18,
   "metadata": {},
   "outputs": [
    {
     "data": {
      "text/html": [
       "<div>\n",
       "<style scoped>\n",
       "    .dataframe tbody tr th:only-of-type {\n",
       "        vertical-align: middle;\n",
       "    }\n",
       "\n",
       "    .dataframe tbody tr th {\n",
       "        vertical-align: top;\n",
       "    }\n",
       "\n",
       "    .dataframe thead th {\n",
       "        text-align: right;\n",
       "    }\n",
       "</style>\n",
       "<table border=\"1\" class=\"dataframe\">\n",
       "  <thead>\n",
       "    <tr style=\"text-align: right;\">\n",
       "      <th></th>\n",
       "      <th>0</th>\n",
       "      <th>1</th>\n",
       "      <th>2</th>\n",
       "      <th>3</th>\n",
       "      <th>4</th>\n",
       "    </tr>\n",
       "  </thead>\n",
       "  <tbody>\n",
       "    <tr>\n",
       "      <th>0</th>\n",
       "      <td>1968.0</td>\n",
       "      <td>4.560000</td>\n",
       "      <td>6.400000</td>\n",
       "      <td>800.000000</td>\n",
       "      <td>1.20</td>\n",
       "    </tr>\n",
       "    <tr>\n",
       "      <th>1</th>\n",
       "      <td>1969.0</td>\n",
       "      <td>4.890000</td>\n",
       "      <td>5.900000</td>\n",
       "      <td>889.000000</td>\n",
       "      <td>1.20</td>\n",
       "    </tr>\n",
       "    <tr>\n",
       "      <th>2</th>\n",
       "      <td>1970.0</td>\n",
       "      <td>4.620000</td>\n",
       "      <td>5.800000</td>\n",
       "      <td>910.000000</td>\n",
       "      <td>1.31</td>\n",
       "    </tr>\n",
       "    <tr>\n",
       "      <th>3</th>\n",
       "      <td>1971.0</td>\n",
       "      <td>4.620000</td>\n",
       "      <td>5.600000</td>\n",
       "      <td>2922.787234</td>\n",
       "      <td>1.30</td>\n",
       "    </tr>\n",
       "    <tr>\n",
       "      <th>4</th>\n",
       "      <td>1972.0</td>\n",
       "      <td>9.596957</td>\n",
       "      <td>4.980000</td>\n",
       "      <td>900.000000</td>\n",
       "      <td>1.60</td>\n",
       "    </tr>\n",
       "    <tr>\n",
       "      <th>5</th>\n",
       "      <td>1973.0</td>\n",
       "      <td>4.800000</td>\n",
       "      <td>4.680000</td>\n",
       "      <td>790.000000</td>\n",
       "      <td>1.80</td>\n",
       "    </tr>\n",
       "    <tr>\n",
       "      <th>6</th>\n",
       "      <td>1974.0</td>\n",
       "      <td>4.820000</td>\n",
       "      <td>4.500000</td>\n",
       "      <td>855.000000</td>\n",
       "      <td>1.90</td>\n",
       "    </tr>\n",
       "    <tr>\n",
       "      <th>7</th>\n",
       "      <td>1975.0</td>\n",
       "      <td>4.910000</td>\n",
       "      <td>3.588396</td>\n",
       "      <td>974.000000</td>\n",
       "      <td>1.05</td>\n",
       "    </tr>\n",
       "    <tr>\n",
       "      <th>8</th>\n",
       "      <td>1976.0</td>\n",
       "      <td>5.010000</td>\n",
       "      <td>5.200000</td>\n",
       "      <td>1021.000000</td>\n",
       "      <td>1.98</td>\n",
       "    </tr>\n",
       "    <tr>\n",
       "      <th>9</th>\n",
       "      <td>1977.0</td>\n",
       "      <td>9.596957</td>\n",
       "      <td>5.300000</td>\n",
       "      <td>1234.000000</td>\n",
       "      <td>1.31</td>\n",
       "    </tr>\n",
       "    <tr>\n",
       "      <th>10</th>\n",
       "      <td>1978.0</td>\n",
       "      <td>9.596957</td>\n",
       "      <td>5.800000</td>\n",
       "      <td>1278.000000</td>\n",
       "      <td>1.22</td>\n",
       "    </tr>\n",
       "    <tr>\n",
       "      <th>11</th>\n",
       "      <td>1979.0</td>\n",
       "      <td>5.500000</td>\n",
       "      <td>3.588396</td>\n",
       "      <td>2922.787234</td>\n",
       "      <td>1.10</td>\n",
       "    </tr>\n",
       "    <tr>\n",
       "      <th>12</th>\n",
       "      <td>1980.0</td>\n",
       "      <td>5.800000</td>\n",
       "      <td>6.300000</td>\n",
       "      <td>2922.787234</td>\n",
       "      <td>1.39</td>\n",
       "    </tr>\n",
       "    <tr>\n",
       "      <th>13</th>\n",
       "      <td>1981.0</td>\n",
       "      <td>5.930000</td>\n",
       "      <td>5.900000</td>\n",
       "      <td>1278.000000</td>\n",
       "      <td>1.01</td>\n",
       "    </tr>\n",
       "    <tr>\n",
       "      <th>14</th>\n",
       "      <td>1982.0</td>\n",
       "      <td>6.250000</td>\n",
       "      <td>4.600000</td>\n",
       "      <td>1278.000000</td>\n",
       "      <td>1.05</td>\n",
       "    </tr>\n",
       "    <tr>\n",
       "      <th>15</th>\n",
       "      <td>1983.0</td>\n",
       "      <td>6.500000</td>\n",
       "      <td>4.300000</td>\n",
       "      <td>1333.000000</td>\n",
       "      <td>1.09</td>\n",
       "    </tr>\n",
       "    <tr>\n",
       "      <th>16</th>\n",
       "      <td>1984.0</td>\n",
       "      <td>6.500000</td>\n",
       "      <td>4.800000</td>\n",
       "      <td>1334.000000</td>\n",
       "      <td>1.12</td>\n",
       "    </tr>\n",
       "    <tr>\n",
       "      <th>17</th>\n",
       "      <td>1985.0</td>\n",
       "      <td>6.820000</td>\n",
       "      <td>4.100000</td>\n",
       "      <td>1368.000000</td>\n",
       "      <td>1.45</td>\n",
       "    </tr>\n",
       "    <tr>\n",
       "      <th>18</th>\n",
       "      <td>1986.0</td>\n",
       "      <td>6.960000</td>\n",
       "      <td>3.900000</td>\n",
       "      <td>1101.000000</td>\n",
       "      <td>1.58</td>\n",
       "    </tr>\n",
       "    <tr>\n",
       "      <th>19</th>\n",
       "      <td>1987.0</td>\n",
       "      <td>7.010000</td>\n",
       "      <td>3.500000</td>\n",
       "      <td>1106.000000</td>\n",
       "      <td>1.68</td>\n",
       "    </tr>\n",
       "    <tr>\n",
       "      <th>20</th>\n",
       "      <td>1988.0</td>\n",
       "      <td>7.980000</td>\n",
       "      <td>3.588396</td>\n",
       "      <td>1308.000000</td>\n",
       "      <td>1.76</td>\n",
       "    </tr>\n",
       "    <tr>\n",
       "      <th>21</th>\n",
       "      <td>1989.0</td>\n",
       "      <td>8.010000</td>\n",
       "      <td>2.900000</td>\n",
       "      <td>999.000000</td>\n",
       "      <td>1.84</td>\n",
       "    </tr>\n",
       "    <tr>\n",
       "      <th>22</th>\n",
       "      <td>1990.0</td>\n",
       "      <td>9.596957</td>\n",
       "      <td>2.460000</td>\n",
       "      <td>1000.000000</td>\n",
       "      <td>1.98</td>\n",
       "    </tr>\n",
       "    <tr>\n",
       "      <th>23</th>\n",
       "      <td>1991.0</td>\n",
       "      <td>8.050000</td>\n",
       "      <td>2.390000</td>\n",
       "      <td>1105.000000</td>\n",
       "      <td>2.10</td>\n",
       "    </tr>\n",
       "    <tr>\n",
       "      <th>24</th>\n",
       "      <td>1992.0</td>\n",
       "      <td>8.300000</td>\n",
       "      <td>2.400000</td>\n",
       "      <td>1199.000000</td>\n",
       "      <td>2.22</td>\n",
       "    </tr>\n",
       "    <tr>\n",
       "      <th>25</th>\n",
       "      <td>1993.0</td>\n",
       "      <td>8.500000</td>\n",
       "      <td>2.580000</td>\n",
       "      <td>2922.787234</td>\n",
       "      <td>2.34</td>\n",
       "    </tr>\n",
       "    <tr>\n",
       "      <th>26</th>\n",
       "      <td>1994.0</td>\n",
       "      <td>8.800000</td>\n",
       "      <td>2.600000</td>\n",
       "      <td>1220.000000</td>\n",
       "      <td>2.65</td>\n",
       "    </tr>\n",
       "    <tr>\n",
       "      <th>27</th>\n",
       "      <td>1995.0</td>\n",
       "      <td>8.930000</td>\n",
       "      <td>2.620000</td>\n",
       "      <td>1350.000000</td>\n",
       "      <td>2.41</td>\n",
       "    </tr>\n",
       "    <tr>\n",
       "      <th>28</th>\n",
       "      <td>1996.0</td>\n",
       "      <td>9.120000</td>\n",
       "      <td>2.680000</td>\n",
       "      <td>1440.000000</td>\n",
       "      <td>2.22</td>\n",
       "    </tr>\n",
       "    <tr>\n",
       "      <th>29</th>\n",
       "      <td>1997.0</td>\n",
       "      <td>9.340000</td>\n",
       "      <td>2.640000</td>\n",
       "      <td>1590.000000</td>\n",
       "      <td>2.13</td>\n",
       "    </tr>\n",
       "    <tr>\n",
       "      <th>30</th>\n",
       "      <td>1998.0</td>\n",
       "      <td>10.100000</td>\n",
       "      <td>2.700000</td>\n",
       "      <td>1700.000000</td>\n",
       "      <td>2.01</td>\n",
       "    </tr>\n",
       "    <tr>\n",
       "      <th>31</th>\n",
       "      <td>1999.0</td>\n",
       "      <td>10.600000</td>\n",
       "      <td>2.770000</td>\n",
       "      <td>2050.000000</td>\n",
       "      <td>2.06</td>\n",
       "    </tr>\n",
       "    <tr>\n",
       "      <th>32</th>\n",
       "      <td>2000.0</td>\n",
       "      <td>10.800000</td>\n",
       "      <td>2.790000</td>\n",
       "      <td>2251.000000</td>\n",
       "      <td>2.09</td>\n",
       "    </tr>\n",
       "    <tr>\n",
       "      <th>33</th>\n",
       "      <td>2001.0</td>\n",
       "      <td>11.010000</td>\n",
       "      <td>2.800000</td>\n",
       "      <td>2489.000000</td>\n",
       "      <td>2.06</td>\n",
       "    </tr>\n",
       "    <tr>\n",
       "      <th>34</th>\n",
       "      <td>2002.0</td>\n",
       "      <td>11.430000</td>\n",
       "      <td>2.900000</td>\n",
       "      <td>3040.000000</td>\n",
       "      <td>2.05</td>\n",
       "    </tr>\n",
       "    <tr>\n",
       "      <th>35</th>\n",
       "      <td>2003.0</td>\n",
       "      <td>11.430000</td>\n",
       "      <td>3.350000</td>\n",
       "      <td>3655.000000</td>\n",
       "      <td>2.15</td>\n",
       "    </tr>\n",
       "    <tr>\n",
       "      <th>36</th>\n",
       "      <td>2004.0</td>\n",
       "      <td>9.596957</td>\n",
       "      <td>3.100000</td>\n",
       "      <td>3899.000000</td>\n",
       "      <td>2.34</td>\n",
       "    </tr>\n",
       "    <tr>\n",
       "      <th>37</th>\n",
       "      <td>2005.0</td>\n",
       "      <td>11.000000</td>\n",
       "      <td>3.000000</td>\n",
       "      <td>400.000000</td>\n",
       "      <td>2.40</td>\n",
       "    </tr>\n",
       "    <tr>\n",
       "      <th>38</th>\n",
       "      <td>2006.0</td>\n",
       "      <td>12.060000</td>\n",
       "      <td>3.000000</td>\n",
       "      <td>4220.000000</td>\n",
       "      <td>2.60</td>\n",
       "    </tr>\n",
       "    <tr>\n",
       "      <th>39</th>\n",
       "      <td>2007.0</td>\n",
       "      <td>12.890000</td>\n",
       "      <td>2.399000</td>\n",
       "      <td>4308.000000</td>\n",
       "      <td>2.80</td>\n",
       "    </tr>\n",
       "    <tr>\n",
       "      <th>40</th>\n",
       "      <td>2008.0</td>\n",
       "      <td>12.920000</td>\n",
       "      <td>2.268000</td>\n",
       "      <td>4483.000000</td>\n",
       "      <td>3.20</td>\n",
       "    </tr>\n",
       "    <tr>\n",
       "      <th>41</th>\n",
       "      <td>2009.0</td>\n",
       "      <td>13.030000</td>\n",
       "      <td>2.475000</td>\n",
       "      <td>4486.000000</td>\n",
       "      <td>3.90</td>\n",
       "    </tr>\n",
       "    <tr>\n",
       "      <th>42</th>\n",
       "      <td>2010.0</td>\n",
       "      <td>13.060000</td>\n",
       "      <td>2.444000</td>\n",
       "      <td>4547.000000</td>\n",
       "      <td>4.30</td>\n",
       "    </tr>\n",
       "    <tr>\n",
       "      <th>43</th>\n",
       "      <td>2011.0</td>\n",
       "      <td>13.680000</td>\n",
       "      <td>2.519000</td>\n",
       "      <td>5478.000000</td>\n",
       "      <td>4.50</td>\n",
       "    </tr>\n",
       "    <tr>\n",
       "      <th>44</th>\n",
       "      <td>2012.0</td>\n",
       "      <td>14.010000</td>\n",
       "      <td>2.690000</td>\n",
       "      <td>6789.000000</td>\n",
       "      <td>4.60</td>\n",
       "    </tr>\n",
       "    <tr>\n",
       "      <th>45</th>\n",
       "      <td>2013.0</td>\n",
       "      <td>15.010000</td>\n",
       "      <td>2.823000</td>\n",
       "      <td>8978.000000</td>\n",
       "      <td>4.80</td>\n",
       "    </tr>\n",
       "    <tr>\n",
       "      <th>46</th>\n",
       "      <td>2014.0</td>\n",
       "      <td>15.800000</td>\n",
       "      <td>2.765000</td>\n",
       "      <td>8875.000000</td>\n",
       "      <td>5.20</td>\n",
       "    </tr>\n",
       "    <tr>\n",
       "      <th>47</th>\n",
       "      <td>2015.0</td>\n",
       "      <td>16.600000</td>\n",
       "      <td>2.782000</td>\n",
       "      <td>8952.000000</td>\n",
       "      <td>5.40</td>\n",
       "    </tr>\n",
       "    <tr>\n",
       "      <th>48</th>\n",
       "      <td>2016.0</td>\n",
       "      <td>17.500000</td>\n",
       "      <td>2.730000</td>\n",
       "      <td>9000.000000</td>\n",
       "      <td>5.70</td>\n",
       "    </tr>\n",
       "    <tr>\n",
       "      <th>49</th>\n",
       "      <td>2017.0</td>\n",
       "      <td>18.000000</td>\n",
       "      <td>2.557000</td>\n",
       "      <td>9006.000000</td>\n",
       "      <td>5.80</td>\n",
       "    </tr>\n",
       "    <tr>\n",
       "      <th>50</th>\n",
       "      <td>2018.0</td>\n",
       "      <td>18.000000</td>\n",
       "      <td>2.551000</td>\n",
       "      <td>9105.000000</td>\n",
       "      <td>5.90</td>\n",
       "    </tr>\n",
       "  </tbody>\n",
       "</table>\n",
       "</div>"
      ],
      "text/plain": [
       "         0          1         2            3     4\n",
       "0   1968.0   4.560000  6.400000   800.000000  1.20\n",
       "1   1969.0   4.890000  5.900000   889.000000  1.20\n",
       "2   1970.0   4.620000  5.800000   910.000000  1.31\n",
       "3   1971.0   4.620000  5.600000  2922.787234  1.30\n",
       "4   1972.0   9.596957  4.980000   900.000000  1.60\n",
       "5   1973.0   4.800000  4.680000   790.000000  1.80\n",
       "6   1974.0   4.820000  4.500000   855.000000  1.90\n",
       "7   1975.0   4.910000  3.588396   974.000000  1.05\n",
       "8   1976.0   5.010000  5.200000  1021.000000  1.98\n",
       "9   1977.0   9.596957  5.300000  1234.000000  1.31\n",
       "10  1978.0   9.596957  5.800000  1278.000000  1.22\n",
       "11  1979.0   5.500000  3.588396  2922.787234  1.10\n",
       "12  1980.0   5.800000  6.300000  2922.787234  1.39\n",
       "13  1981.0   5.930000  5.900000  1278.000000  1.01\n",
       "14  1982.0   6.250000  4.600000  1278.000000  1.05\n",
       "15  1983.0   6.500000  4.300000  1333.000000  1.09\n",
       "16  1984.0   6.500000  4.800000  1334.000000  1.12\n",
       "17  1985.0   6.820000  4.100000  1368.000000  1.45\n",
       "18  1986.0   6.960000  3.900000  1101.000000  1.58\n",
       "19  1987.0   7.010000  3.500000  1106.000000  1.68\n",
       "20  1988.0   7.980000  3.588396  1308.000000  1.76\n",
       "21  1989.0   8.010000  2.900000   999.000000  1.84\n",
       "22  1990.0   9.596957  2.460000  1000.000000  1.98\n",
       "23  1991.0   8.050000  2.390000  1105.000000  2.10\n",
       "24  1992.0   8.300000  2.400000  1199.000000  2.22\n",
       "25  1993.0   8.500000  2.580000  2922.787234  2.34\n",
       "26  1994.0   8.800000  2.600000  1220.000000  2.65\n",
       "27  1995.0   8.930000  2.620000  1350.000000  2.41\n",
       "28  1996.0   9.120000  2.680000  1440.000000  2.22\n",
       "29  1997.0   9.340000  2.640000  1590.000000  2.13\n",
       "30  1998.0  10.100000  2.700000  1700.000000  2.01\n",
       "31  1999.0  10.600000  2.770000  2050.000000  2.06\n",
       "32  2000.0  10.800000  2.790000  2251.000000  2.09\n",
       "33  2001.0  11.010000  2.800000  2489.000000  2.06\n",
       "34  2002.0  11.430000  2.900000  3040.000000  2.05\n",
       "35  2003.0  11.430000  3.350000  3655.000000  2.15\n",
       "36  2004.0   9.596957  3.100000  3899.000000  2.34\n",
       "37  2005.0  11.000000  3.000000   400.000000  2.40\n",
       "38  2006.0  12.060000  3.000000  4220.000000  2.60\n",
       "39  2007.0  12.890000  2.399000  4308.000000  2.80\n",
       "40  2008.0  12.920000  2.268000  4483.000000  3.20\n",
       "41  2009.0  13.030000  2.475000  4486.000000  3.90\n",
       "42  2010.0  13.060000  2.444000  4547.000000  4.30\n",
       "43  2011.0  13.680000  2.519000  5478.000000  4.50\n",
       "44  2012.0  14.010000  2.690000  6789.000000  4.60\n",
       "45  2013.0  15.010000  2.823000  8978.000000  4.80\n",
       "46  2014.0  15.800000  2.765000  8875.000000  5.20\n",
       "47  2015.0  16.600000  2.782000  8952.000000  5.40\n",
       "48  2016.0  17.500000  2.730000  9000.000000  5.70\n",
       "49  2017.0  18.000000  2.557000  9006.000000  5.80\n",
       "50  2018.0  18.000000  2.551000  9105.000000  5.90"
      ]
     },
     "execution_count": 18,
     "metadata": {},
     "output_type": "execute_result"
    }
   ],
   "source": [
    "    df"
   ]
  },
  {
   "cell_type": "code",
   "execution_count": 19,
   "metadata": {},
   "outputs": [],
   "source": [
    "df=pd.DataFrame(features,columns=data1.columns)"
   ]
  },
  {
   "cell_type": "code",
   "execution_count": 20,
   "metadata": {},
   "outputs": [
    {
     "data": {
      "text/html": [
       "<div>\n",
       "<style scoped>\n",
       "    .dataframe tbody tr th:only-of-type {\n",
       "        vertical-align: middle;\n",
       "    }\n",
       "\n",
       "    .dataframe tbody tr th {\n",
       "        vertical-align: top;\n",
       "    }\n",
       "\n",
       "    .dataframe thead th {\n",
       "        text-align: right;\n",
       "    }\n",
       "</style>\n",
       "<table border=\"1\" class=\"dataframe\">\n",
       "  <thead>\n",
       "    <tr style=\"text-align: right;\">\n",
       "      <th></th>\n",
       "      <th>Year</th>\n",
       "      <th>Tax</th>\n",
       "      <th>Unemployement</th>\n",
       "      <th>Death</th>\n",
       "      <th>Consumption</th>\n",
       "    </tr>\n",
       "  </thead>\n",
       "  <tbody>\n",
       "    <tr>\n",
       "      <th>0</th>\n",
       "      <td>1968.0</td>\n",
       "      <td>4.560000</td>\n",
       "      <td>6.400000</td>\n",
       "      <td>800.000000</td>\n",
       "      <td>1.20</td>\n",
       "    </tr>\n",
       "    <tr>\n",
       "      <th>1</th>\n",
       "      <td>1969.0</td>\n",
       "      <td>4.890000</td>\n",
       "      <td>5.900000</td>\n",
       "      <td>889.000000</td>\n",
       "      <td>1.20</td>\n",
       "    </tr>\n",
       "    <tr>\n",
       "      <th>2</th>\n",
       "      <td>1970.0</td>\n",
       "      <td>4.620000</td>\n",
       "      <td>5.800000</td>\n",
       "      <td>910.000000</td>\n",
       "      <td>1.31</td>\n",
       "    </tr>\n",
       "    <tr>\n",
       "      <th>3</th>\n",
       "      <td>1971.0</td>\n",
       "      <td>4.620000</td>\n",
       "      <td>5.600000</td>\n",
       "      <td>2922.787234</td>\n",
       "      <td>1.30</td>\n",
       "    </tr>\n",
       "    <tr>\n",
       "      <th>4</th>\n",
       "      <td>1972.0</td>\n",
       "      <td>9.596957</td>\n",
       "      <td>4.980000</td>\n",
       "      <td>900.000000</td>\n",
       "      <td>1.60</td>\n",
       "    </tr>\n",
       "    <tr>\n",
       "      <th>5</th>\n",
       "      <td>1973.0</td>\n",
       "      <td>4.800000</td>\n",
       "      <td>4.680000</td>\n",
       "      <td>790.000000</td>\n",
       "      <td>1.80</td>\n",
       "    </tr>\n",
       "    <tr>\n",
       "      <th>6</th>\n",
       "      <td>1974.0</td>\n",
       "      <td>4.820000</td>\n",
       "      <td>4.500000</td>\n",
       "      <td>855.000000</td>\n",
       "      <td>1.90</td>\n",
       "    </tr>\n",
       "    <tr>\n",
       "      <th>7</th>\n",
       "      <td>1975.0</td>\n",
       "      <td>4.910000</td>\n",
       "      <td>3.588396</td>\n",
       "      <td>974.000000</td>\n",
       "      <td>1.05</td>\n",
       "    </tr>\n",
       "    <tr>\n",
       "      <th>8</th>\n",
       "      <td>1976.0</td>\n",
       "      <td>5.010000</td>\n",
       "      <td>5.200000</td>\n",
       "      <td>1021.000000</td>\n",
       "      <td>1.98</td>\n",
       "    </tr>\n",
       "    <tr>\n",
       "      <th>9</th>\n",
       "      <td>1977.0</td>\n",
       "      <td>9.596957</td>\n",
       "      <td>5.300000</td>\n",
       "      <td>1234.000000</td>\n",
       "      <td>1.31</td>\n",
       "    </tr>\n",
       "    <tr>\n",
       "      <th>10</th>\n",
       "      <td>1978.0</td>\n",
       "      <td>9.596957</td>\n",
       "      <td>5.800000</td>\n",
       "      <td>1278.000000</td>\n",
       "      <td>1.22</td>\n",
       "    </tr>\n",
       "    <tr>\n",
       "      <th>11</th>\n",
       "      <td>1979.0</td>\n",
       "      <td>5.500000</td>\n",
       "      <td>3.588396</td>\n",
       "      <td>2922.787234</td>\n",
       "      <td>1.10</td>\n",
       "    </tr>\n",
       "    <tr>\n",
       "      <th>12</th>\n",
       "      <td>1980.0</td>\n",
       "      <td>5.800000</td>\n",
       "      <td>6.300000</td>\n",
       "      <td>2922.787234</td>\n",
       "      <td>1.39</td>\n",
       "    </tr>\n",
       "    <tr>\n",
       "      <th>13</th>\n",
       "      <td>1981.0</td>\n",
       "      <td>5.930000</td>\n",
       "      <td>5.900000</td>\n",
       "      <td>1278.000000</td>\n",
       "      <td>1.01</td>\n",
       "    </tr>\n",
       "    <tr>\n",
       "      <th>14</th>\n",
       "      <td>1982.0</td>\n",
       "      <td>6.250000</td>\n",
       "      <td>4.600000</td>\n",
       "      <td>1278.000000</td>\n",
       "      <td>1.05</td>\n",
       "    </tr>\n",
       "    <tr>\n",
       "      <th>15</th>\n",
       "      <td>1983.0</td>\n",
       "      <td>6.500000</td>\n",
       "      <td>4.300000</td>\n",
       "      <td>1333.000000</td>\n",
       "      <td>1.09</td>\n",
       "    </tr>\n",
       "    <tr>\n",
       "      <th>16</th>\n",
       "      <td>1984.0</td>\n",
       "      <td>6.500000</td>\n",
       "      <td>4.800000</td>\n",
       "      <td>1334.000000</td>\n",
       "      <td>1.12</td>\n",
       "    </tr>\n",
       "    <tr>\n",
       "      <th>17</th>\n",
       "      <td>1985.0</td>\n",
       "      <td>6.820000</td>\n",
       "      <td>4.100000</td>\n",
       "      <td>1368.000000</td>\n",
       "      <td>1.45</td>\n",
       "    </tr>\n",
       "    <tr>\n",
       "      <th>18</th>\n",
       "      <td>1986.0</td>\n",
       "      <td>6.960000</td>\n",
       "      <td>3.900000</td>\n",
       "      <td>1101.000000</td>\n",
       "      <td>1.58</td>\n",
       "    </tr>\n",
       "    <tr>\n",
       "      <th>19</th>\n",
       "      <td>1987.0</td>\n",
       "      <td>7.010000</td>\n",
       "      <td>3.500000</td>\n",
       "      <td>1106.000000</td>\n",
       "      <td>1.68</td>\n",
       "    </tr>\n",
       "    <tr>\n",
       "      <th>20</th>\n",
       "      <td>1988.0</td>\n",
       "      <td>7.980000</td>\n",
       "      <td>3.588396</td>\n",
       "      <td>1308.000000</td>\n",
       "      <td>1.76</td>\n",
       "    </tr>\n",
       "    <tr>\n",
       "      <th>21</th>\n",
       "      <td>1989.0</td>\n",
       "      <td>8.010000</td>\n",
       "      <td>2.900000</td>\n",
       "      <td>999.000000</td>\n",
       "      <td>1.84</td>\n",
       "    </tr>\n",
       "    <tr>\n",
       "      <th>22</th>\n",
       "      <td>1990.0</td>\n",
       "      <td>9.596957</td>\n",
       "      <td>2.460000</td>\n",
       "      <td>1000.000000</td>\n",
       "      <td>1.98</td>\n",
       "    </tr>\n",
       "    <tr>\n",
       "      <th>23</th>\n",
       "      <td>1991.0</td>\n",
       "      <td>8.050000</td>\n",
       "      <td>2.390000</td>\n",
       "      <td>1105.000000</td>\n",
       "      <td>2.10</td>\n",
       "    </tr>\n",
       "    <tr>\n",
       "      <th>24</th>\n",
       "      <td>1992.0</td>\n",
       "      <td>8.300000</td>\n",
       "      <td>2.400000</td>\n",
       "      <td>1199.000000</td>\n",
       "      <td>2.22</td>\n",
       "    </tr>\n",
       "    <tr>\n",
       "      <th>25</th>\n",
       "      <td>1993.0</td>\n",
       "      <td>8.500000</td>\n",
       "      <td>2.580000</td>\n",
       "      <td>2922.787234</td>\n",
       "      <td>2.34</td>\n",
       "    </tr>\n",
       "    <tr>\n",
       "      <th>26</th>\n",
       "      <td>1994.0</td>\n",
       "      <td>8.800000</td>\n",
       "      <td>2.600000</td>\n",
       "      <td>1220.000000</td>\n",
       "      <td>2.65</td>\n",
       "    </tr>\n",
       "    <tr>\n",
       "      <th>27</th>\n",
       "      <td>1995.0</td>\n",
       "      <td>8.930000</td>\n",
       "      <td>2.620000</td>\n",
       "      <td>1350.000000</td>\n",
       "      <td>2.41</td>\n",
       "    </tr>\n",
       "    <tr>\n",
       "      <th>28</th>\n",
       "      <td>1996.0</td>\n",
       "      <td>9.120000</td>\n",
       "      <td>2.680000</td>\n",
       "      <td>1440.000000</td>\n",
       "      <td>2.22</td>\n",
       "    </tr>\n",
       "    <tr>\n",
       "      <th>29</th>\n",
       "      <td>1997.0</td>\n",
       "      <td>9.340000</td>\n",
       "      <td>2.640000</td>\n",
       "      <td>1590.000000</td>\n",
       "      <td>2.13</td>\n",
       "    </tr>\n",
       "    <tr>\n",
       "      <th>30</th>\n",
       "      <td>1998.0</td>\n",
       "      <td>10.100000</td>\n",
       "      <td>2.700000</td>\n",
       "      <td>1700.000000</td>\n",
       "      <td>2.01</td>\n",
       "    </tr>\n",
       "    <tr>\n",
       "      <th>31</th>\n",
       "      <td>1999.0</td>\n",
       "      <td>10.600000</td>\n",
       "      <td>2.770000</td>\n",
       "      <td>2050.000000</td>\n",
       "      <td>2.06</td>\n",
       "    </tr>\n",
       "    <tr>\n",
       "      <th>32</th>\n",
       "      <td>2000.0</td>\n",
       "      <td>10.800000</td>\n",
       "      <td>2.790000</td>\n",
       "      <td>2251.000000</td>\n",
       "      <td>2.09</td>\n",
       "    </tr>\n",
       "    <tr>\n",
       "      <th>33</th>\n",
       "      <td>2001.0</td>\n",
       "      <td>11.010000</td>\n",
       "      <td>2.800000</td>\n",
       "      <td>2489.000000</td>\n",
       "      <td>2.06</td>\n",
       "    </tr>\n",
       "    <tr>\n",
       "      <th>34</th>\n",
       "      <td>2002.0</td>\n",
       "      <td>11.430000</td>\n",
       "      <td>2.900000</td>\n",
       "      <td>3040.000000</td>\n",
       "      <td>2.05</td>\n",
       "    </tr>\n",
       "    <tr>\n",
       "      <th>35</th>\n",
       "      <td>2003.0</td>\n",
       "      <td>11.430000</td>\n",
       "      <td>3.350000</td>\n",
       "      <td>3655.000000</td>\n",
       "      <td>2.15</td>\n",
       "    </tr>\n",
       "    <tr>\n",
       "      <th>36</th>\n",
       "      <td>2004.0</td>\n",
       "      <td>9.596957</td>\n",
       "      <td>3.100000</td>\n",
       "      <td>3899.000000</td>\n",
       "      <td>2.34</td>\n",
       "    </tr>\n",
       "    <tr>\n",
       "      <th>37</th>\n",
       "      <td>2005.0</td>\n",
       "      <td>11.000000</td>\n",
       "      <td>3.000000</td>\n",
       "      <td>400.000000</td>\n",
       "      <td>2.40</td>\n",
       "    </tr>\n",
       "    <tr>\n",
       "      <th>38</th>\n",
       "      <td>2006.0</td>\n",
       "      <td>12.060000</td>\n",
       "      <td>3.000000</td>\n",
       "      <td>4220.000000</td>\n",
       "      <td>2.60</td>\n",
       "    </tr>\n",
       "    <tr>\n",
       "      <th>39</th>\n",
       "      <td>2007.0</td>\n",
       "      <td>12.890000</td>\n",
       "      <td>2.399000</td>\n",
       "      <td>4308.000000</td>\n",
       "      <td>2.80</td>\n",
       "    </tr>\n",
       "    <tr>\n",
       "      <th>40</th>\n",
       "      <td>2008.0</td>\n",
       "      <td>12.920000</td>\n",
       "      <td>2.268000</td>\n",
       "      <td>4483.000000</td>\n",
       "      <td>3.20</td>\n",
       "    </tr>\n",
       "    <tr>\n",
       "      <th>41</th>\n",
       "      <td>2009.0</td>\n",
       "      <td>13.030000</td>\n",
       "      <td>2.475000</td>\n",
       "      <td>4486.000000</td>\n",
       "      <td>3.90</td>\n",
       "    </tr>\n",
       "    <tr>\n",
       "      <th>42</th>\n",
       "      <td>2010.0</td>\n",
       "      <td>13.060000</td>\n",
       "      <td>2.444000</td>\n",
       "      <td>4547.000000</td>\n",
       "      <td>4.30</td>\n",
       "    </tr>\n",
       "    <tr>\n",
       "      <th>43</th>\n",
       "      <td>2011.0</td>\n",
       "      <td>13.680000</td>\n",
       "      <td>2.519000</td>\n",
       "      <td>5478.000000</td>\n",
       "      <td>4.50</td>\n",
       "    </tr>\n",
       "    <tr>\n",
       "      <th>44</th>\n",
       "      <td>2012.0</td>\n",
       "      <td>14.010000</td>\n",
       "      <td>2.690000</td>\n",
       "      <td>6789.000000</td>\n",
       "      <td>4.60</td>\n",
       "    </tr>\n",
       "    <tr>\n",
       "      <th>45</th>\n",
       "      <td>2013.0</td>\n",
       "      <td>15.010000</td>\n",
       "      <td>2.823000</td>\n",
       "      <td>8978.000000</td>\n",
       "      <td>4.80</td>\n",
       "    </tr>\n",
       "    <tr>\n",
       "      <th>46</th>\n",
       "      <td>2014.0</td>\n",
       "      <td>15.800000</td>\n",
       "      <td>2.765000</td>\n",
       "      <td>8875.000000</td>\n",
       "      <td>5.20</td>\n",
       "    </tr>\n",
       "    <tr>\n",
       "      <th>47</th>\n",
       "      <td>2015.0</td>\n",
       "      <td>16.600000</td>\n",
       "      <td>2.782000</td>\n",
       "      <td>8952.000000</td>\n",
       "      <td>5.40</td>\n",
       "    </tr>\n",
       "    <tr>\n",
       "      <th>48</th>\n",
       "      <td>2016.0</td>\n",
       "      <td>17.500000</td>\n",
       "      <td>2.730000</td>\n",
       "      <td>9000.000000</td>\n",
       "      <td>5.70</td>\n",
       "    </tr>\n",
       "    <tr>\n",
       "      <th>49</th>\n",
       "      <td>2017.0</td>\n",
       "      <td>18.000000</td>\n",
       "      <td>2.557000</td>\n",
       "      <td>9006.000000</td>\n",
       "      <td>5.80</td>\n",
       "    </tr>\n",
       "    <tr>\n",
       "      <th>50</th>\n",
       "      <td>2018.0</td>\n",
       "      <td>18.000000</td>\n",
       "      <td>2.551000</td>\n",
       "      <td>9105.000000</td>\n",
       "      <td>5.90</td>\n",
       "    </tr>\n",
       "  </tbody>\n",
       "</table>\n",
       "</div>"
      ],
      "text/plain": [
       "      Year        Tax  Unemployement        Death  Consumption\n",
       "0   1968.0   4.560000       6.400000   800.000000         1.20\n",
       "1   1969.0   4.890000       5.900000   889.000000         1.20\n",
       "2   1970.0   4.620000       5.800000   910.000000         1.31\n",
       "3   1971.0   4.620000       5.600000  2922.787234         1.30\n",
       "4   1972.0   9.596957       4.980000   900.000000         1.60\n",
       "5   1973.0   4.800000       4.680000   790.000000         1.80\n",
       "6   1974.0   4.820000       4.500000   855.000000         1.90\n",
       "7   1975.0   4.910000       3.588396   974.000000         1.05\n",
       "8   1976.0   5.010000       5.200000  1021.000000         1.98\n",
       "9   1977.0   9.596957       5.300000  1234.000000         1.31\n",
       "10  1978.0   9.596957       5.800000  1278.000000         1.22\n",
       "11  1979.0   5.500000       3.588396  2922.787234         1.10\n",
       "12  1980.0   5.800000       6.300000  2922.787234         1.39\n",
       "13  1981.0   5.930000       5.900000  1278.000000         1.01\n",
       "14  1982.0   6.250000       4.600000  1278.000000         1.05\n",
       "15  1983.0   6.500000       4.300000  1333.000000         1.09\n",
       "16  1984.0   6.500000       4.800000  1334.000000         1.12\n",
       "17  1985.0   6.820000       4.100000  1368.000000         1.45\n",
       "18  1986.0   6.960000       3.900000  1101.000000         1.58\n",
       "19  1987.0   7.010000       3.500000  1106.000000         1.68\n",
       "20  1988.0   7.980000       3.588396  1308.000000         1.76\n",
       "21  1989.0   8.010000       2.900000   999.000000         1.84\n",
       "22  1990.0   9.596957       2.460000  1000.000000         1.98\n",
       "23  1991.0   8.050000       2.390000  1105.000000         2.10\n",
       "24  1992.0   8.300000       2.400000  1199.000000         2.22\n",
       "25  1993.0   8.500000       2.580000  2922.787234         2.34\n",
       "26  1994.0   8.800000       2.600000  1220.000000         2.65\n",
       "27  1995.0   8.930000       2.620000  1350.000000         2.41\n",
       "28  1996.0   9.120000       2.680000  1440.000000         2.22\n",
       "29  1997.0   9.340000       2.640000  1590.000000         2.13\n",
       "30  1998.0  10.100000       2.700000  1700.000000         2.01\n",
       "31  1999.0  10.600000       2.770000  2050.000000         2.06\n",
       "32  2000.0  10.800000       2.790000  2251.000000         2.09\n",
       "33  2001.0  11.010000       2.800000  2489.000000         2.06\n",
       "34  2002.0  11.430000       2.900000  3040.000000         2.05\n",
       "35  2003.0  11.430000       3.350000  3655.000000         2.15\n",
       "36  2004.0   9.596957       3.100000  3899.000000         2.34\n",
       "37  2005.0  11.000000       3.000000   400.000000         2.40\n",
       "38  2006.0  12.060000       3.000000  4220.000000         2.60\n",
       "39  2007.0  12.890000       2.399000  4308.000000         2.80\n",
       "40  2008.0  12.920000       2.268000  4483.000000         3.20\n",
       "41  2009.0  13.030000       2.475000  4486.000000         3.90\n",
       "42  2010.0  13.060000       2.444000  4547.000000         4.30\n",
       "43  2011.0  13.680000       2.519000  5478.000000         4.50\n",
       "44  2012.0  14.010000       2.690000  6789.000000         4.60\n",
       "45  2013.0  15.010000       2.823000  8978.000000         4.80\n",
       "46  2014.0  15.800000       2.765000  8875.000000         5.20\n",
       "47  2015.0  16.600000       2.782000  8952.000000         5.40\n",
       "48  2016.0  17.500000       2.730000  9000.000000         5.70\n",
       "49  2017.0  18.000000       2.557000  9006.000000         5.80\n",
       "50  2018.0  18.000000       2.551000  9105.000000         5.90"
      ]
     },
     "execution_count": 20,
     "metadata": {},
     "output_type": "execute_result"
    }
   ],
   "source": [
    "df"
   ]
  },
  {
   "cell_type": "code",
   "execution_count": 21,
   "metadata": {},
   "outputs": [
    {
     "data": {
      "text/plain": [
       "<matplotlib.axes._subplots.AxesSubplot at 0x8bfc350>"
      ]
     },
     "execution_count": 21,
     "metadata": {},
     "output_type": "execute_result"
    },
    {
     "data": {
      "image/png": "[encoded data removed]",
      "text/plain": [
       "<Figure size 432x288 with 1 Axes>"
      ]
     },
     "metadata": {
      "needs_background": "light"
     },
     "output_type": "display_data"
    }
   ],
   "source": [
    "import matplotlib.pyplot as plt\n",
    "%matplotlib inline \n",
    "df['Tax'].hist(bins=10)"
   ]
  },
  {
   "cell_type": "code",
   "execution_count": 22,
   "metadata": {},
   "outputs": [
    {
     "data": {
      "text/plain": [
       "<matplotlib.axes._subplots.AxesSubplot at 0x8ebc750>"
      ]
     },
     "execution_count": 22,
     "metadata": {},
     "output_type": "execute_result"
    },
    {
     "data": {
      "image/png": "[encoded data removed]",
      "text/plain": [
       "<Figure size 432x288 with 1 Axes>"
      ]
     },
     "metadata": {
      "needs_background": "light"
     },
     "output_type": "display_data"
    }
   ],
   "source": [
    "df['Unemployement'].hist(bins=10)"
   ]
  },
  {
   "cell_type": "code",
   "execution_count": 23,
   "metadata": {},
   "outputs": [
    {
     "data": {
      "text/plain": [
       "<matplotlib.axes._subplots.AxesSubplot at 0x8f1c890>"
      ]
     },
     "execution_count": 23,
     "metadata": {},
     "output_type": "execute_result"
    },
    {
     "data": {
      "image/png": "[encoded data removed]",
      "text/plain": [
       "<Figure size 432x288 with 1 Axes>"
      ]
     },
     "metadata": {
      "needs_background": "light"
     },
     "output_type": "display_data"
    }
   ],
   "source": [
    "df['Death'].hist(bins=10)"
   ]
  },
  {
   "cell_type": "code",
   "execution_count": 24,
   "metadata": {},
   "outputs": [
    {
     "data": {
      "text/plain": [
       "<matplotlib.axes._subplots.AxesSubplot at 0x8f703b0>"
      ]
     },
     "execution_count": 24,
     "metadata": {},
     "output_type": "execute_result"
    },
    {
     "data": {
      "image/png": "[encoded data removed]",
      "text/plain": [
       "<Figure size 432x288 with 1 Axes>"
      ]
     },
     "metadata": {
      "needs_background": "light"
     },
     "output_type": "display_data"
    }
   ],
   "source": [
    "df['Consumption'].hist(bins=10)"
   ]
  },
  {
   "cell_type": "code",
   "execution_count": 25,
   "metadata": {},
   "outputs": [
    {
     "data": {
      "text/plain": [
       "<matplotlib.axes._subplots.AxesSubplot at 0x8fbb590>"
      ]
     },
     "execution_count": 25,
     "metadata": {},
     "output_type": "execute_result"
    },
    {
     "data": {
      "image/png": "[encoded data removed]",
      "text/plain": [
       "<Figure size 432x288 with 1 Axes>"
      ]
     },
     "metadata": {
      "needs_background": "light"
     },
     "output_type": "display_data"
    }
   ],
   "source": [
    "data1.boxplot(column='Consumption')"
   ]
  },
  {
   "cell_type": "code",
   "execution_count": 26,
   "metadata": {},
   "outputs": [
    {
     "data": {
      "text/plain": [
       "<matplotlib.axes._subplots.AxesSubplot at 0x8ffda70>"
      ]
     },
     "execution_count": 26,
     "metadata": {},
     "output_type": "execute_result"
    },
    {
     "data": {
      "image/png": "[encoded data removed]",
      "text/plain": [
       "<Figure size 432x288 with 1 Axes>"
      ]
     },
     "metadata": {
      "needs_background": "light"
     },
     "output_type": "display_data"
    }
   ],
   "source": [
    "data1.boxplot(column='Tax')"
   ]
  },
  {
   "cell_type": "code",
   "execution_count": 27,
   "metadata": {},
   "outputs": [
    {
     "data": {
      "text/plain": [
       "<matplotlib.axes._subplots.AxesSubplot at 0x9038b10>"
      ]
     },
     "execution_count": 27,
     "metadata": {},
     "output_type": "execute_result"
    },
    {
     "data": {
      "image/png": "[encoded data removed]",
      "text/plain": [
       "<Figure size 432x288 with 1 Axes>"
      ]
     },
     "metadata": {
      "needs_background": "light"
     },
     "output_type": "display_data"
    }
   ],
   "source": [
    "data1.boxplot(column='Unemployement')"
   ]
  },
  {
   "cell_type": "code",
   "execution_count": 28,
   "metadata": {},
   "outputs": [
    {
     "data": {
      "text/plain": [
       "<matplotlib.axes._subplots.AxesSubplot at 0x906c9f0>"
      ]
     },
     "execution_count": 28,
     "metadata": {},
     "output_type": "execute_result"
    },
    {
     "data": {
      "image/png": "[encoded data removed]",
      "text/plain": [
       "<Figure size 432x288 with 1 Axes>"
      ]
     },
     "metadata": {
      "needs_background": "light"
     },
     "output_type": "display_data"
    }
   ],
   "source": [
    "data1.boxplot(column='Unemployement',by='Year')"
   ]
  },
  {
   "cell_type": "code",
   "execution_count": 29,
   "metadata": {},
   "outputs": [
    {
     "data": {
      "text/plain": [
       "<matplotlib.axes._subplots.AxesSubplot at 0x906c5d0>"
      ]
     },
     "execution_count": 29,
     "metadata": {},
     "output_type": "execute_result"
    },
    {
     "data": {
      "image/png": "[encoded data removed]",
      "text/plain": [
       "<Figure size 432x288 with 1 Axes>"
      ]
     },
     "metadata": {
      "needs_background": "light"
     },
     "output_type": "display_data"
    }
   ],
   "source": [
    "data1.boxplot(column='Tax',by='Year')"
   ]
  },
  {
   "cell_type": "code",
   "execution_count": 30,
   "metadata": {},
   "outputs": [
    {
     "data": {
      "text/plain": [
       "<seaborn.axisgrid.PairGrid at 0x8ef2750>"
      ]
     },
     "execution_count": 30,
     "metadata": {},
     "output_type": "execute_result"
    },
    {
     "data": {
      "image/png": "[encoded data removed]",
      "text/plain": [
       "<Figure size 900x900 with 30 Axes>"
      ]
     },
     "metadata": {
      "needs_background": "light"
     },
     "output_type": "display_data"
    }
   ],
   "source": [
    "import seaborn as sns\n",
    "sns.pairplot(df)"
   ]
  },
  {
   "cell_type": "code",
   "execution_count": 31,
   "metadata": {},
   "outputs": [
    {
     "data": {
      "text/plain": [
       "<matplotlib.axes._subplots.AxesSubplot at 0xb50f1b0>"
      ]
     },
     "execution_count": 31,
     "metadata": {},
     "output_type": "execute_result"
    },
    {
     "data": {
      "image/png": "[encoded data removed]",
      "text/plain": [
       "<Figure size 432x288 with 2 Axes>"
      ]
     },
     "metadata": {
      "needs_background": "light"
     },
     "output_type": "display_data"
    }
   ],
   "source": [
    "corr=df.corr()\n",
    "sns.heatmap(corr,xticklabels=corr.columns,yticklabels=corr.columns)"
   ]
  },
  {
   "cell_type": "code",
   "execution_count": 32,
   "metadata": {},
   "outputs": [
    {
     "data": {
      "text/plain": [
       "<matplotlib.axes._subplots.AxesSubplot at 0xb558370>"
      ]
     },
     "execution_count": 32,
     "metadata": {},
     "output_type": "execute_result"
    },
    {
     "data": {
      "image/png": "[encoded data removed]",
      "text/plain": [
       "<Figure size 432x288 with 1 Axes>"
      ]
     },
     "metadata": {
      "needs_background": "light"
     },
     "output_type": "display_data"
    }
   ],
   "source": [
    "sns.distplot(df['Tax'])"
   ]
  },
  {
   "cell_type": "code",
   "execution_count": 33,
   "metadata": {},
   "outputs": [
    {
     "data": {
      "text/plain": [
       "<matplotlib.axes._subplots.AxesSubplot at 0xb633af0>"
      ]
     },
     "execution_count": 33,
     "metadata": {},
     "output_type": "execute_result"
    },
    {
     "data": {
      "image/png": "[encoded data removed]",
      "text/plain": [
       "<Figure size 432x288 with 1 Axes>"
      ]
     },
     "metadata": {
      "needs_background": "light"
     },
     "output_type": "display_data"
    }
   ],
   "source": [
    "sns.distplot(df['Unemployement'])"
   ]
  },
  {
   "cell_type": "code",
   "execution_count": 34,
   "metadata": {},
   "outputs": [
    {
     "data": {
      "text/plain": [
       "<matplotlib.axes._subplots.AxesSubplot at 0x94a3d90>"
      ]
     },
     "execution_count": 34,
     "metadata": {},
     "output_type": "execute_result"
    },
    {
     "data": {
      "image/png": "[encoded data removed]",
      "text/plain": [
       "<Figure size 432x288 with 1 Axes>"
      ]
     },
     "metadata": {
      "needs_background": "light"
     },
     "output_type": "display_data"
    }
   ],
   "source": [
    "sns.distplot(df['Consumption'])"
   ]
  },
  {
   "cell_type": "code",
   "execution_count": 35,
   "metadata": {},
   "outputs": [
    {
     "data": {
      "text/plain": [
       "<matplotlib.collections.PathCollection at 0x9510850>"
      ]
     },
     "execution_count": 35,
     "metadata": {},
     "output_type": "execute_result"
    },
    {
     "data": {
      "image/png": "[encoded data removed]",
      "text/plain": [
       "<Figure size 432x288 with 1 Axes>"
      ]
     },
     "metadata": {
      "needs_background": "light"
     },
     "output_type": "display_data"
    }
   ],
   "source": [
    "plt.scatter(df['Tax'],df['Consumption'])"
   ]
  },
  {
   "cell_type": "code",
   "execution_count": 36,
   "metadata": {},
   "outputs": [
    {
     "data": {
      "text/plain": [
       "<matplotlib.collections.PathCollection at 0x954e670>"
      ]
     },
     "execution_count": 36,
     "metadata": {},
     "output_type": "execute_result"
    },
    {
     "data": {
      "image/png": "[encoded data removed]",
      "text/plain": [
       "<Figure size 432x288 with 1 Axes>"
      ]
     },
     "metadata": {
      "needs_background": "light"
     },
     "output_type": "display_data"
    }
   ],
   "source": [
    "plt.scatter(df['Unemployement'],df['Consumption'])"
   ]
  },
  {
   "cell_type": "code",
   "execution_count": 37,
   "metadata": {},
   "outputs": [
    {
     "data": {
      "text/plain": [
       "<matplotlib.collections.PathCollection at 0x9583a70>"
      ]
     },
     "execution_count": 37,
     "metadata": {},
     "output_type": "execute_result"
    },
    {
     "data": {
      "image/png": "[encoded data removed]",
      "text/plain": [
       "<Figure size 432x288 with 1 Axes>"
      ]
     },
     "metadata": {
      "needs_background": "light"
     },
     "output_type": "display_data"
    }
   ],
   "source": [
    "\n",
    "plt.scatter(df['Consumption'],df[\"Death\"])"
   ]
  },
  {
   "cell_type": "markdown",
   "metadata": {},
   "source": [
    "# Multiple Regression"
   ]
  },
  {
   "cell_type": "code",
   "execution_count": 41,
   "metadata": {},
   "outputs": [
    {
     "data": {
      "text/html": [
       "<table class=\"simpletable\">\n",
       "<caption>OLS Regression Results</caption>\n",
       "<tr>\n",
       "  <th>Dep. Variable:</th>       <td>Consumption</td>   <th>  R-squared:         </th> <td>   0.954</td>\n",
       "</tr>\n",
       "<tr>\n",
       "  <th>Model:</th>                   <td>OLS</td>       <th>  Adj. R-squared:    </th> <td>   0.952</td>\n",
       "</tr>\n",
       "<tr>\n",
       "  <th>Method:</th>             <td>Least Squares</td>  <th>  F-statistic:       </th> <td>   507.5</td>\n",
       "</tr>\n",
       "<tr>\n",
       "  <th>Date:</th>             <td>Tue, 18 Jun 2019</td> <th>  Prob (F-statistic):</th> <td>1.78e-33</td>\n",
       "</tr>\n",
       "<tr>\n",
       "  <th>Time:</th>                 <td>11:40:13</td>     <th>  Log-Likelihood:    </th> <td> -46.631</td>\n",
       "</tr>\n",
       "<tr>\n",
       "  <th>No. Observations:</th>      <td>    51</td>      <th>  AIC:               </th> <td>   97.26</td>\n",
       "</tr>\n",
       "<tr>\n",
       "  <th>Df Residuals:</th>          <td>    49</td>      <th>  BIC:               </th> <td>   101.1</td>\n",
       "</tr>\n",
       "<tr>\n",
       "  <th>Df Model:</th>              <td>     2</td>      <th>                     </th>     <td> </td>   \n",
       "</tr>\n",
       "<tr>\n",
       "  <th>Covariance Type:</th>      <td>nonrobust</td>    <th>                     </th>     <td> </td>   \n",
       "</tr>\n",
       "</table>\n",
       "<table class=\"simpletable\">\n",
       "<tr>\n",
       "        <td></td>           <th>coef</th>     <th>std err</th>      <th>t</th>      <th>P>|t|</th>  <th>[0.025</th>    <th>0.975]</th>  \n",
       "</tr>\n",
       "<tr>\n",
       "  <th>Tax</th>           <td>    0.2980</td> <td>    0.014</td> <td>   21.260</td> <td> 0.000</td> <td>    0.270</td> <td>    0.326</td>\n",
       "</tr>\n",
       "<tr>\n",
       "  <th>Unemployement</th> <td>   -0.1096</td> <td>    0.038</td> <td>   -2.882</td> <td> 0.006</td> <td>   -0.186</td> <td>   -0.033</td>\n",
       "</tr>\n",
       "</table>\n",
       "<table class=\"simpletable\">\n",
       "<tr>\n",
       "  <th>Omnibus:</th>       <td>11.073</td> <th>  Durbin-Watson:     </th> <td>   0.756</td>\n",
       "</tr>\n",
       "<tr>\n",
       "  <th>Prob(Omnibus):</th> <td> 0.004</td> <th>  Jarque-Bera (JB):  </th> <td>   2.951</td>\n",
       "</tr>\n",
       "<tr>\n",
       "  <th>Skew:</th>          <td> 0.031</td> <th>  Prob(JB):          </th> <td>   0.229</td>\n",
       "</tr>\n",
       "<tr>\n",
       "  <th>Kurtosis:</th>      <td> 1.823</td> <th>  Cond. No.          </th> <td>    4.96</td>\n",
       "</tr>\n",
       "</table><br/><br/>Warnings:<br/>[1] Standard Errors assume that the covariance matrix of the errors is correctly specified."
      ],
      "text/plain": [
       "<class 'statsmodels.iolib.summary.Summary'>\n",
       "\"\"\"\n",
       "                            OLS Regression Results                            \n",
       "==============================================================================\n",
       "Dep. Variable:            Consumption   R-squared:                       0.954\n",
       "Model:                            OLS   Adj. R-squared:                  0.952\n",
       "Method:                 Least Squares   F-statistic:                     507.5\n",
       "Date:                Tue, 18 Jun 2019   Prob (F-statistic):           1.78e-33\n",
       "Time:                        11:40:13   Log-Likelihood:                -46.631\n",
       "No. Observations:                  51   AIC:                             97.26\n",
       "Df Residuals:                      49   BIC:                             101.1\n",
       "Df Model:                           2                                         \n",
       "Covariance Type:            nonrobust                                         \n",
       "=================================================================================\n",
       "                    coef    std err          t      P>|t|      [0.025      0.975]\n",
       "---------------------------------------------------------------------------------\n",
       "Tax               0.2980      0.014     21.260      0.000       0.270       0.326\n",
       "Unemployement    -0.1096      0.038     -2.882      0.006      -0.186      -0.033\n",
       "==============================================================================\n",
       "Omnibus:                       11.073   Durbin-Watson:                   0.756\n",
       "Prob(Omnibus):                  0.004   Jarque-Bera (JB):                2.951\n",
       "Skew:                           0.031   Prob(JB):                        0.229\n",
       "Kurtosis:                       1.823   Cond. No.                         4.96\n",
       "==============================================================================\n",
       "\n",
       "Warnings:\n",
       "[1] Standard Errors assume that the covariance matrix of the errors is correctly specified.\n",
       "\"\"\""
      ]
     },
     "execution_count": 41,
     "metadata": {},
     "output_type": "execute_result"
    }
   ],
   "source": [
    "X = df[[\"Tax\", \"Unemployement\"]]\n",
    "y = df[\"Consumption\"]\n",
    "\n",
    "import statsmodels.api as sm\n",
    "model1 = sm.OLS(y,X).fit()\n",
    "predictions = model1.predict(X)\n",
    "model1.summary()"
   ]
  },
  {
   "cell_type": "code",
   "execution_count": 42,
   "metadata": {},
   "outputs": [
    {
     "data": {
      "text/plain": [
       "array([[13.06      ,  2.444     ],\n",
       "       [ 6.82      ,  4.1       ],\n",
       "       [15.8       ,  2.765     ],\n",
       "       [ 9.59695652,  3.1       ],\n",
       "       [ 8.05      ,  2.39      ],\n",
       "       [ 9.59695652,  4.98      ],\n",
       "       [11.43      ,  2.9       ],\n",
       "       [ 6.25      ,  4.6       ],\n",
       "       [10.6       ,  2.77      ],\n",
       "       [ 9.59695652,  5.8       ],\n",
       "       [ 9.12      ,  2.68      ],\n",
       "       [15.01      ,  2.823     ],\n",
       "       [11.43      ,  3.35      ],\n",
       "       [ 6.96      ,  3.9       ],\n",
       "       [ 7.98      ,  3.58839583],\n",
       "       [ 8.5       ,  2.58      ],\n",
       "       [ 4.82      ,  4.5       ],\n",
       "       [ 4.91      ,  3.58839583],\n",
       "       [17.5       ,  2.73      ],\n",
       "       [ 4.89      ,  5.9       ],\n",
       "       [ 6.5       ,  4.8       ],\n",
       "       [ 4.56      ,  6.4       ],\n",
       "       [ 6.5       ,  4.3       ],\n",
       "       [ 4.8       ,  4.68      ],\n",
       "       [ 5.5       ,  3.58839583],\n",
       "       [ 9.59695652,  5.3       ],\n",
       "       [ 5.01      ,  5.2       ],\n",
       "       [ 5.8       ,  6.3       ],\n",
       "       [13.68      ,  2.519     ],\n",
       "       [11.        ,  3.        ]])"
      ]
     },
     "execution_count": 42,
     "metadata": {},
     "output_type": "execute_result"
    }
   ],
   "source": [
    "from sklearn.model_selection import train_test_split\n",
    "X_train, X_test, y_train, y_test = train_test_split(X, y,test_size = 0.4, random_state=1)\n",
    "\n",
    "features = X_train.iloc[:,:].values\n",
    "features"
   ]
  },
  {
   "cell_type": "code",
   "execution_count": 43,
   "metadata": {},
   "outputs": [
    {
     "data": {
      "text/plain": [
       "array([4.3 , 1.45, 5.2 , 2.34, 2.1 , 1.6 , 2.05, 1.05, 2.06, 1.22, 2.22,\n",
       "       4.8 , 2.15, 1.58, 1.76, 2.34, 1.9 , 1.05, 5.7 , 1.2 , 1.12, 1.2 ,\n",
       "       1.09, 1.8 , 1.1 , 1.31, 1.98, 1.39, 4.5 , 2.4 ])"
      ]
     },
     "execution_count": 43,
     "metadata": {},
     "output_type": "execute_result"
    }
   ],
   "source": [
    "labels = y_train.iloc[:].values\n",
    "labels"
   ]
  },
  {
   "cell_type": "code",
   "execution_count": 44,
   "metadata": {},
   "outputs": [],
   "source": [
    "X=features\n",
    "y=labels\n",
    "\n",
    "from sklearn import linear_model as lm\n",
    "model=lm.LinearRegression()\n",
    "results=model.fit(X,y)\n",
    "predictions = model.predict(X)"
   ]
  },
  {
   "cell_type": "code",
   "execution_count": 45,
   "metadata": {},
   "outputs": [
    {
     "name": "stdout",
     "output_type": "stream",
     "text": [
      "Accuracy of the model: 0.7667105837363871\n"
     ]
    }
   ],
   "source": [
    "accuracy=model.score(X,y)\n",
    "print('Accuracy of the model:', accuracy)"
   ]
  },
  {
   "cell_type": "markdown",
   "metadata": {},
   "source": [
    "# linear regression"
   ]
  },
  {
   "cell_type": "code",
   "execution_count": 49,
   "metadata": {},
   "outputs": [
    {
     "data": {
      "text/html": [
       "<table class=\"simpletable\">\n",
       "<caption>OLS Regression Results</caption>\n",
       "<tr>\n",
       "  <th>Dep. Variable:</th>       <td>Consumption</td>   <th>  R-squared:         </th> <td>   0.954</td>\n",
       "</tr>\n",
       "<tr>\n",
       "  <th>Model:</th>                   <td>OLS</td>       <th>  Adj. R-squared:    </th> <td>   0.952</td>\n",
       "</tr>\n",
       "<tr>\n",
       "  <th>Method:</th>             <td>Least Squares</td>  <th>  F-statistic:       </th> <td>   507.5</td>\n",
       "</tr>\n",
       "<tr>\n",
       "  <th>Date:</th>             <td>Tue, 18 Jun 2019</td> <th>  Prob (F-statistic):</th> <td>1.78e-33</td>\n",
       "</tr>\n",
       "<tr>\n",
       "  <th>Time:</th>                 <td>11:50:41</td>     <th>  Log-Likelihood:    </th> <td> -46.631</td>\n",
       "</tr>\n",
       "<tr>\n",
       "  <th>No. Observations:</th>      <td>    51</td>      <th>  AIC:               </th> <td>   97.26</td>\n",
       "</tr>\n",
       "<tr>\n",
       "  <th>Df Residuals:</th>          <td>    49</td>      <th>  BIC:               </th> <td>   101.1</td>\n",
       "</tr>\n",
       "<tr>\n",
       "  <th>Df Model:</th>              <td>     2</td>      <th>                     </th>     <td> </td>   \n",
       "</tr>\n",
       "<tr>\n",
       "  <th>Covariance Type:</th>      <td>nonrobust</td>    <th>                     </th>     <td> </td>   \n",
       "</tr>\n",
       "</table>\n",
       "<table class=\"simpletable\">\n",
       "<tr>\n",
       "        <td></td>           <th>coef</th>     <th>std err</th>      <th>t</th>      <th>P>|t|</th>  <th>[0.025</th>    <th>0.975]</th>  \n",
       "</tr>\n",
       "<tr>\n",
       "  <th>Tax</th>           <td>    0.2980</td> <td>    0.014</td> <td>   21.260</td> <td> 0.000</td> <td>    0.270</td> <td>    0.326</td>\n",
       "</tr>\n",
       "<tr>\n",
       "  <th>Unemployement</th> <td>   -0.1096</td> <td>    0.038</td> <td>   -2.882</td> <td> 0.006</td> <td>   -0.186</td> <td>   -0.033</td>\n",
       "</tr>\n",
       "</table>\n",
       "<table class=\"simpletable\">\n",
       "<tr>\n",
       "  <th>Omnibus:</th>       <td>11.073</td> <th>  Durbin-Watson:     </th> <td>   0.756</td>\n",
       "</tr>\n",
       "<tr>\n",
       "  <th>Prob(Omnibus):</th> <td> 0.004</td> <th>  Jarque-Bera (JB):  </th> <td>   2.951</td>\n",
       "</tr>\n",
       "<tr>\n",
       "  <th>Skew:</th>          <td> 0.031</td> <th>  Prob(JB):          </th> <td>   0.229</td>\n",
       "</tr>\n",
       "<tr>\n",
       "  <th>Kurtosis:</th>      <td> 1.823</td> <th>  Cond. No.          </th> <td>    4.96</td>\n",
       "</tr>\n",
       "</table><br/><br/>Warnings:<br/>[1] Standard Errors assume that the covariance matrix of the errors is correctly specified."
      ],
      "text/plain": [
       "<class 'statsmodels.iolib.summary.Summary'>\n",
       "\"\"\"\n",
       "                            OLS Regression Results                            \n",
       "==============================================================================\n",
       "Dep. Variable:            Consumption   R-squared:                       0.954\n",
       "Model:                            OLS   Adj. R-squared:                  0.952\n",
       "Method:                 Least Squares   F-statistic:                     507.5\n",
       "Date:                Tue, 18 Jun 2019   Prob (F-statistic):           1.78e-33\n",
       "Time:                        11:50:41   Log-Likelihood:                -46.631\n",
       "No. Observations:                  51   AIC:                             97.26\n",
       "Df Residuals:                      49   BIC:                             101.1\n",
       "Df Model:                           2                                         \n",
       "Covariance Type:            nonrobust                                         \n",
       "=================================================================================\n",
       "                    coef    std err          t      P>|t|      [0.025      0.975]\n",
       "---------------------------------------------------------------------------------\n",
       "Tax               0.2980      0.014     21.260      0.000       0.270       0.326\n",
       "Unemployement    -0.1096      0.038     -2.882      0.006      -0.186      -0.033\n",
       "==============================================================================\n",
       "Omnibus:                       11.073   Durbin-Watson:                   0.756\n",
       "Prob(Omnibus):                  0.004   Jarque-Bera (JB):                2.951\n",
       "Skew:                           0.031   Prob(JB):                        0.229\n",
       "Kurtosis:                       1.823   Cond. No.                         4.96\n",
       "==============================================================================\n",
       "\n",
       "Warnings:\n",
       "[1] Standard Errors assume that the covariance matrix of the errors is correctly specified.\n",
       "\"\"\""
      ]
     },
     "execution_count": 49,
     "metadata": {},
     "output_type": "execute_result"
    }
   ],
   "source": [
    "X = df[[\"Tax\", \"Unemployement\"]]\n",
    "y = df[\"Consumption\"]\n",
    "\n",
    "import statsmodels.api as sm\n",
    "model1 = sm.OLS(y,X).fit()\n",
    "predictions = model1.predict(X)\n",
    "model1.summary()"
   ]
  },
  {
   "cell_type": "code",
   "execution_count": 51,
   "metadata": {},
   "outputs": [
    {
     "data": {
      "text/plain": [
       "LinearRegression(copy_X=True, fit_intercept=True, n_jobs=None,\n",
       "         normalize=False)"
      ]
     },
     "execution_count": 51,
     "metadata": {},
     "output_type": "execute_result"
    }
   ],
   "source": [
    "from sklearn.model_selection import train_test_split\n",
    "X_train,X_test,Y_train,Y_test=train_test_split(X,Y,test_size=0.4,random_state=1)\n",
    "\n",
    "#X_train=X_train.values.reshape(-1,1)\n",
    "\n",
    "from sklearn import linear_model as lm\n",
    "model=lm.LinearRegression()\n",
    "result=model.fit(X_train,Y_train)\n",
    "result"
   ]
  },
  {
   "cell_type": "code",
   "execution_count": 52,
   "metadata": {},
   "outputs": [
    {
     "data": {
      "text/plain": [
       "22    2.590440\n",
       "2     0.741159\n",
       "49    5.084059\n",
       "26    2.337590\n",
       "33    2.974287\n",
       "44    3.880394\n",
       "30    2.714052\n",
       "50    5.084716\n",
       "32    2.912800\n",
       "27    2.374140\n",
       "3     0.763079\n",
       "29    2.494135\n",
       "47    4.642175\n",
       "41    3.611901\n",
       "39    3.578509\n",
       "21    2.069276\n",
       "40    3.601807\n",
       "38    3.265285\n",
       "19    1.705499\n",
       "24    2.210501\n",
       "13    1.120601\n",
       "dtype: float64"
      ]
     },
     "execution_count": 52,
     "metadata": {},
     "output_type": "execute_result"
    }
   ],
   "source": [
    "Y_test_prediction=model1.predict(X_test)\n",
    "Y_test_prediction\n"
   ]
  },
  {
   "cell_type": "code",
   "execution_count": 53,
   "metadata": {},
   "outputs": [
    {
     "name": "stdout",
     "output_type": "stream",
     "text": [
      "Accuracy of the model: 0.7667105837363871\n"
     ]
    }
   ],
   "source": [
    "accuracy=model.score(X_train,Y_train)\n",
    "print('Accuracy of the model:',accuracy)"
   ]
  },
  {
   "cell_type": "code",
   "execution_count": null,
   "metadata": {},
   "outputs": [],
   "source": []
  }
 ],
 "metadata": {
  "kernelspec": {
   "display_name": "Python 3",
   "language": "python",
   "name": "python3"
  },
  "language_info": {
   "codemirror_mode": {
    "name": "ipython",
    "version": 3
   },
   "file_extension": ".py",
   "mimetype": "text/x-python",
   "name": "python",
   "nbconvert_exporter": "python",
   "pygments_lexer": "ipython3",
   "version": "3.7.3"
  }
 },
 "nbformat": 4,
 "nbformat_minor": 2
}
